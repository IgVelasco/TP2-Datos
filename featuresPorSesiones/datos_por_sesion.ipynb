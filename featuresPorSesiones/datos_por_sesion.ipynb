{
 "cells": [
  {
   "cell_type": "markdown",
   "metadata": {},
   "source": [
    "# Obtencion de sesiones\n"
   ]
  },
  {
   "cell_type": "code",
   "execution_count": 1,
   "metadata": {},
   "outputs": [
    {
     "name": "stderr",
     "output_type": "stream",
     "text": [
      "/home/carito/.local/lib/python2.7/site-packages/IPython/core/interactiveshell.py:2714: DtypeWarning: Columns (3,5,6,7,8,9,10,11,12,13,14,15,16,17,18,19,20,21,22) have mixed types. Specify dtype option on import or set low_memory=False.\n",
      "  interactivity=interactivity, compiler=compiler, result=result)\n"
     ]
    }
   ],
   "source": [
    "import pandas as pd\n",
    "import numpy as np\n",
    "import matplotlib.pyplot as plt\n",
    "import seaborn as sns\n",
    "import inline as inline\n",
    "\n",
    "%matplotlib inline\n",
    "\n",
    "pd.set_option('display.width', 400)\n",
    "pd.set_option('display.max_columns', 50)\n",
    "pd.set_option('display.max_rows', 200)\n",
    "\n",
    "plt.style.use('default') # haciendo los graficos un poco mas bonitos en matplotlib\n",
    "#plt.rcParams['figure.figsize'] = (20, 10)\n",
    "\n",
    "sns.set(style=\"whitegrid\") # seteando tipo de grid en seaborn\n",
    "\n",
    "df = pd.read_csv('events_up_to_01062018.csv')\n",
    "pd.options.mode.chained_assignment = None"
   ]
  },
  {
   "cell_type": "code",
   "execution_count": 2,
   "metadata": {},
   "outputs": [],
   "source": [
    "df['timestamp'] = pd.to_datetime(df['timestamp'])\n",
    "df= df.sort_values(by=[\"timestamp\"])\n",
    "df['just_date'] = df['timestamp'].dt.date\n",
    "df['month'] = df['timestamp'].dt.month\n",
    "df.reset_index(drop = True, inplace = True)"
   ]
  },
  {
   "cell_type": "markdown",
   "metadata": {},
   "source": [
    "Me quedo con los datos del mes 5 "
   ]
  },
  {
   "cell_type": "code",
   "execution_count": 3,
   "metadata": {},
   "outputs": [],
   "source": [
    "df_tiempos = df.loc[df[\"month\"]==5]"
   ]
  },
  {
   "cell_type": "markdown",
   "metadata": {},
   "source": [
    "Agrego la columna **'diff'** que me indica _diferencia de tiempo entre los distintos eventos temporales **por usuario**_"
   ]
  },
  {
   "cell_type": "code",
   "execution_count": 4,
   "metadata": {},
   "outputs": [],
   "source": [
    "df_tiempos['diff'] = df_tiempos.groupby(['person'])['timestamp'].diff()"
   ]
  },
  {
   "cell_type": "markdown",
   "metadata": {},
   "source": [
    "Paso la columna a string para detectar los valores \"NaT\" que indican el ingreso de un nuevo usuario "
   ]
  },
  {
   "cell_type": "code",
   "execution_count": 5,
   "metadata": {},
   "outputs": [],
   "source": [
    "df_tiempos['diff'] = df_tiempos['diff'].astype(str)\n",
    "df_tiempos['new_user'] = df_tiempos['diff'] =='NaT'"
   ]
  },
  {
   "cell_type": "markdown",
   "metadata": {},
   "source": [
    "Agrego la columna **'diff2'** que me indica la _diferencia entre eventos temporales_ (sin importar el usuario)"
   ]
  },
  {
   "cell_type": "code",
   "execution_count": 6,
   "metadata": {},
   "outputs": [],
   "source": [
    "df_tiempos['diff2'] = (df_tiempos['timestamp'] - (df_tiempos['timestamp'].shift())) / np.timedelta64(1, 'h')"
   ]
  },
  {
   "cell_type": "markdown",
   "metadata": {},
   "source": [
    "Reasigno la columna **'diff'** para volver a tener datos de tipo temporal y elimina los nulos"
   ]
  },
  {
   "cell_type": "code",
   "execution_count": 7,
   "metadata": {},
   "outputs": [],
   "source": [
    "df_tiempos['diff'] = df_tiempos.groupby(['person'])['timestamp'].diff()"
   ]
  },
  {
   "cell_type": "markdown",
   "metadata": {},
   "source": [
    "Lleno con 0s todos los nulos del data frame"
   ]
  },
  {
   "cell_type": "code",
   "execution_count": 8,
   "metadata": {},
   "outputs": [],
   "source": [
    "df_tiempos=df_tiempos.fillna(0)"
   ]
  },
  {
   "cell_type": "markdown",
   "metadata": {},
   "source": [
    "Identifico en la columna **'new_session_same_user'** los _comienzos de nuevas sesiones del mismo usuario_. Para ello se tiene en cuenta un umbral de 0.48 horas. Es decir, se considera que si el tiempo entre eventos es mayor a 0.48 horas, el evento corresponde a una nueva sesion del mismo usuario. En el informe adjunto se explica detalladamente la elección de este umbral."
   ]
  },
  {
   "cell_type": "code",
   "execution_count": 9,
   "metadata": {},
   "outputs": [],
   "source": [
    "df_tiempos['new_session_same_user'] = df_tiempos['diff2'] > 0.48"
   ]
  },
  {
   "cell_type": "markdown",
   "metadata": {},
   "source": [
    "Identifico en la columna **'new_session_new_user'** los comienzos de _nuevas sesiones de un usuario nuevo._ Se tiene en cuenta el mismo umbral que antes. "
   ]
  },
  {
   "cell_type": "code",
   "execution_count": 10,
   "metadata": {},
   "outputs": [],
   "source": [
    "df_tiempos[\"diff\"]=df_tiempos[\"diff\"]/np.timedelta64(1, 'h')\n",
    "df_tiempos[\"new_session_new_user\"] = df_tiempos[\"diff\"] > 0.48"
   ]
  },
  {
   "cell_type": "markdown",
   "metadata": {},
   "source": [
    "Para contabilizar las sesiones nuevas (que pueden corresponder al mismo usuario o a un nuevo usuario) se realiza la operacion OR entre las columnas con datos booleanos calculadas previamente."
   ]
  },
  {
   "cell_type": "code",
   "execution_count": 11,
   "metadata": {},
   "outputs": [],
   "source": [
    "df_tiempos[\"new_session\"]=df_tiempos[\"new_user\"]|df_tiempos[\"new_session_same_user\"]|df_tiempos[\"new_session_new_user\"]"
   ]
  },
  {
   "cell_type": "markdown",
   "metadata": {},
   "source": [
    "Enumero las sesiones para luego separarlas por agrupación"
   ]
  },
  {
   "cell_type": "code",
   "execution_count": 12,
   "metadata": {},
   "outputs": [],
   "source": [
    "df_tiempos['sessionid'] = df_tiempos['new_session'].cumsum()"
   ]
  },
  {
   "cell_type": "markdown",
   "metadata": {},
   "source": [
    "Como pusimos un umbral de 0.48 horas para la finalizacion de las sesiones, elimino de la columa **'diff'** los valores que superen ese valor (Me quedo solo con los False de la columna new_sesion). Estos valores se corresponderan al primer 'diff' de cada sesion, que debería ser siempre nulo."
   ]
  },
  {
   "cell_type": "code",
   "execution_count": 13,
   "metadata": {},
   "outputs": [],
   "source": [
    "df_tiempos=df_tiempos[df_tiempos.new_session==False]"
   ]
  },
  {
   "cell_type": "markdown",
   "metadata": {},
   "source": [
    "Ahora si agrupo por **sessionid** y obtengo la información buscada"
   ]
  },
  {
   "cell_type": "code",
   "execution_count": 14,
   "metadata": {},
   "outputs": [],
   "source": [
    "df_tiempos = df_tiempos.drop([\"just_date\",\"month\",\"diff\",\"new_user\",\"diff\",\"diff2\",\"new_session_same_user\",\"new_session_new_user\",\"new_session\"],axis=1)"
   ]
  },
  {
   "cell_type": "code",
   "execution_count": 15,
   "metadata": {},
   "outputs": [
    {
     "data": {
      "text/html": [
       "<div>\n",
       "<style scoped>\n",
       "    .dataframe tbody tr th:only-of-type {\n",
       "        vertical-align: middle;\n",
       "    }\n",
       "\n",
       "    .dataframe tbody tr th {\n",
       "        vertical-align: top;\n",
       "    }\n",
       "\n",
       "    .dataframe thead th {\n",
       "        text-align: right;\n",
       "    }\n",
       "</style>\n",
       "<table border=\"1\" class=\"dataframe\">\n",
       "  <thead>\n",
       "    <tr style=\"text-align: right;\">\n",
       "      <th></th>\n",
       "      <th>timestamp</th>\n",
       "      <th>event</th>\n",
       "      <th>person</th>\n",
       "      <th>url</th>\n",
       "      <th>sku</th>\n",
       "      <th>model</th>\n",
       "      <th>condition</th>\n",
       "      <th>storage</th>\n",
       "      <th>color</th>\n",
       "      <th>skus</th>\n",
       "      <th>search_term</th>\n",
       "      <th>staticpage</th>\n",
       "      <th>campaign_source</th>\n",
       "      <th>search_engine</th>\n",
       "      <th>channel</th>\n",
       "      <th>new_vs_returning</th>\n",
       "      <th>city</th>\n",
       "      <th>region</th>\n",
       "      <th>country</th>\n",
       "      <th>device_type</th>\n",
       "      <th>screen_resolution</th>\n",
       "      <th>operating_system_version</th>\n",
       "      <th>browser_version</th>\n",
       "      <th>sessionid</th>\n",
       "    </tr>\n",
       "  </thead>\n",
       "  <tbody>\n",
       "    <tr>\n",
       "      <th>627763</th>\n",
       "      <td>2018-05-01 00:00:19</td>\n",
       "      <td>viewed product</td>\n",
       "      <td>7dab1178</td>\n",
       "      <td>0</td>\n",
       "      <td>2829.0</td>\n",
       "      <td>iPhone 6</td>\n",
       "      <td>Bom</td>\n",
       "      <td>16GB</td>\n",
       "      <td>Prateado</td>\n",
       "      <td>0</td>\n",
       "      <td>0</td>\n",
       "      <td>0</td>\n",
       "      <td>0</td>\n",
       "      <td>0</td>\n",
       "      <td>0</td>\n",
       "      <td>0</td>\n",
       "      <td>0</td>\n",
       "      <td>0</td>\n",
       "      <td>0</td>\n",
       "      <td>0</td>\n",
       "      <td>0</td>\n",
       "      <td>0</td>\n",
       "      <td>0</td>\n",
       "      <td>2</td>\n",
       "    </tr>\n",
       "    <tr>\n",
       "      <th>627766</th>\n",
       "      <td>2018-05-01 00:00:27</td>\n",
       "      <td>viewed product</td>\n",
       "      <td>2cbd12ad</td>\n",
       "      <td>0</td>\n",
       "      <td>6832.0</td>\n",
       "      <td>iPhone 6S</td>\n",
       "      <td>Muito Bom</td>\n",
       "      <td>16GB</td>\n",
       "      <td>Prateado</td>\n",
       "      <td>0</td>\n",
       "      <td>0</td>\n",
       "      <td>0</td>\n",
       "      <td>0</td>\n",
       "      <td>0</td>\n",
       "      <td>0</td>\n",
       "      <td>0</td>\n",
       "      <td>0</td>\n",
       "      <td>0</td>\n",
       "      <td>0</td>\n",
       "      <td>0</td>\n",
       "      <td>0</td>\n",
       "      <td>0</td>\n",
       "      <td>0</td>\n",
       "      <td>4</td>\n",
       "    </tr>\n",
       "    <tr>\n",
       "      <th>627767</th>\n",
       "      <td>2018-05-01 00:00:34</td>\n",
       "      <td>viewed product</td>\n",
       "      <td>4ba8900f</td>\n",
       "      <td>0</td>\n",
       "      <td>13249.0</td>\n",
       "      <td>Samsung Galaxy S8 Plus</td>\n",
       "      <td>Muito Bom</td>\n",
       "      <td>128GB</td>\n",
       "      <td>Preto</td>\n",
       "      <td>0</td>\n",
       "      <td>0</td>\n",
       "      <td>0</td>\n",
       "      <td>0</td>\n",
       "      <td>0</td>\n",
       "      <td>0</td>\n",
       "      <td>0</td>\n",
       "      <td>0</td>\n",
       "      <td>0</td>\n",
       "      <td>0</td>\n",
       "      <td>0</td>\n",
       "      <td>0</td>\n",
       "      <td>0</td>\n",
       "      <td>0</td>\n",
       "      <td>4</td>\n",
       "    </tr>\n",
       "    <tr>\n",
       "      <th>627768</th>\n",
       "      <td>2018-05-01 00:00:36</td>\n",
       "      <td>viewed product</td>\n",
       "      <td>2cbd12ad</td>\n",
       "      <td>0</td>\n",
       "      <td>6831.0</td>\n",
       "      <td>iPhone 6S</td>\n",
       "      <td>Excelente</td>\n",
       "      <td>16GB</td>\n",
       "      <td>Prateado</td>\n",
       "      <td>0</td>\n",
       "      <td>0</td>\n",
       "      <td>0</td>\n",
       "      <td>0</td>\n",
       "      <td>0</td>\n",
       "      <td>0</td>\n",
       "      <td>0</td>\n",
       "      <td>0</td>\n",
       "      <td>0</td>\n",
       "      <td>0</td>\n",
       "      <td>0</td>\n",
       "      <td>0</td>\n",
       "      <td>0</td>\n",
       "      <td>0</td>\n",
       "      <td>4</td>\n",
       "    </tr>\n",
       "    <tr>\n",
       "      <th>627770</th>\n",
       "      <td>2018-05-01 00:00:38</td>\n",
       "      <td>visited site</td>\n",
       "      <td>754cd2b0</td>\n",
       "      <td>0</td>\n",
       "      <td>0.0</td>\n",
       "      <td>0</td>\n",
       "      <td>0</td>\n",
       "      <td>0</td>\n",
       "      <td>0</td>\n",
       "      <td>0</td>\n",
       "      <td>0</td>\n",
       "      <td>0</td>\n",
       "      <td>0</td>\n",
       "      <td>0</td>\n",
       "      <td>Paid</td>\n",
       "      <td>Returning</td>\n",
       "      <td>São Paulo</td>\n",
       "      <td>Sao Paulo</td>\n",
       "      <td>Brazil</td>\n",
       "      <td>Smartphone</td>\n",
       "      <td>360x640</td>\n",
       "      <td>Android 7</td>\n",
       "      <td>Chrome Mobile 66.0</td>\n",
       "      <td>5</td>\n",
       "    </tr>\n",
       "  </tbody>\n",
       "</table>\n",
       "</div>"
      ],
      "text/plain": [
       "                 timestamp           event    person url      sku                   model  condition storage     color skus search_term staticpage campaign_source search_engine channel new_vs_returning       city     region country device_type screen_resolution operating_system_version     browser_version  sessionid\n",
       "627763 2018-05-01 00:00:19  viewed product  7dab1178   0   2829.0                iPhone 6        Bom    16GB  Prateado    0           0          0               0             0       0                0          0          0       0           0                 0                        0                   0          2\n",
       "627766 2018-05-01 00:00:27  viewed product  2cbd12ad   0   6832.0               iPhone 6S  Muito Bom    16GB  Prateado    0           0          0               0             0       0                0          0          0       0           0                 0                        0                   0          4\n",
       "627767 2018-05-01 00:00:34  viewed product  4ba8900f   0  13249.0  Samsung Galaxy S8 Plus  Muito Bom   128GB     Preto    0           0          0               0             0       0                0          0          0       0           0                 0                        0                   0          4\n",
       "627768 2018-05-01 00:00:36  viewed product  2cbd12ad   0   6831.0               iPhone 6S  Excelente    16GB  Prateado    0           0          0               0             0       0                0          0          0       0           0                 0                        0                   0          4\n",
       "627770 2018-05-01 00:00:38    visited site  754cd2b0   0      0.0                       0          0       0         0    0           0          0               0             0    Paid        Returning  São Paulo  Sao Paulo  Brazil  Smartphone           360x640                Android 7  Chrome Mobile 66.0          5"
      ]
     },
     "execution_count": 15,
     "metadata": {},
     "output_type": "execute_result"
    }
   ],
   "source": [
    "df_tiempos.head()"
   ]
  },
  {
   "cell_type": "code",
   "execution_count": 16,
   "metadata": {},
   "outputs": [],
   "source": [
    "df_tiempos.to_csv(\"datos_por_sesion.csv\")"
   ]
  },
  {
   "cell_type": "code",
   "execution_count": null,
   "metadata": {},
   "outputs": [],
   "source": []
  }
 ],
 "metadata": {
  "kernelspec": {
   "display_name": "Python 2",
   "language": "python",
   "name": "python2"
  },
  "language_info": {
   "codemirror_mode": {
    "name": "ipython",
    "version": 2
   },
   "file_extension": ".py",
   "mimetype": "text/x-python",
   "name": "python",
   "nbconvert_exporter": "python",
   "pygments_lexer": "ipython2",
   "version": "2.7.15rc1"
  }
 },
 "nbformat": 4,
 "nbformat_minor": 2
}
