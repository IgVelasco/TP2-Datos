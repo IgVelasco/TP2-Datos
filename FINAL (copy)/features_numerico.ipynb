{
 "cells": [
  {
   "cell_type": "code",
   "execution_count": 886,
   "metadata": {},
   "outputs": [],
   "source": [
    "import xgboost as xgb\n",
    "from sklearn.metrics import mean_squared_error\n",
    "import pandas as pd\n",
    "import numpy as np\n",
    "from sklearn.model_selection import train_test_split\n",
    "import datetime"
   ]
  },
  {
   "cell_type": "markdown",
   "metadata": {},
   "source": [
    "Cargo los dataframes originales"
   ]
  },
  {
   "cell_type": "code",
   "execution_count": 887,
   "metadata": {},
   "outputs": [],
   "source": [
    "df_original = pd.read_csv('events_up_to_01062018.csv', low_memory = False)\n",
    "df_labels= pd.read_csv('labels_training_set.csv', low_memory = False)"
   ]
  },
  {
   "cell_type": "markdown",
   "metadata": {},
   "source": [
    "Cargo los features numericos previamente encontrados en el notebook *jp_features*"
   ]
  },
  {
   "cell_type": "code",
   "execution_count": 888,
   "metadata": {},
   "outputs": [],
   "source": [
    "df_features_numericos = pd.read_csv('features_numericos.csv', low_memory=False)"
   ]
  },
  {
   "cell_type": "code",
   "execution_count": 889,
   "metadata": {},
   "outputs": [],
   "source": [
    "df_features_numericos = df_features_numericos.iloc[:,:15]"
   ]
  },
  {
   "cell_type": "code",
   "execution_count": 890,
   "metadata": {},
   "outputs": [],
   "source": [
    "df_ingresos_diarios = df_original[['person','timestamp','event']]"
   ]
  },
  {
   "cell_type": "code",
   "execution_count": 891,
   "metadata": {},
   "outputs": [
    {
     "name": "stderr",
     "output_type": "stream",
     "text": [
      "C:\\Users\\juanp\\AppData\\Local\\Continuum\\anaconda3\\lib\\site-packages\\ipykernel_launcher.py:1: SettingWithCopyWarning: \n",
      "A value is trying to be set on a copy of a slice from a DataFrame.\n",
      "Try using .loc[row_indexer,col_indexer] = value instead\n",
      "\n",
      "See the caveats in the documentation: http://pandas.pydata.org/pandas-docs/stable/indexing.html#indexing-view-versus-copy\n",
      "  \"\"\"Entry point for launching an IPython kernel.\n"
     ]
    }
   ],
   "source": [
    "df_ingresos_diarios['timestamp'] = pd.to_datetime(df_ingresos_diarios['timestamp'])"
   ]
  },
  {
   "cell_type": "code",
   "execution_count": 892,
   "metadata": {},
   "outputs": [],
   "source": [
    "df_promedio_ingresos_diarios = df_ingresos_diarios.groupby(['person',df_ingresos_diarios['timestamp'].dt.floor('d')]).size().reset_index(name='visitas_diarias')"
   ]
  },
  {
   "cell_type": "code",
   "execution_count": 893,
   "metadata": {},
   "outputs": [],
   "source": [
    "df_promedio_ingresos_diarios = df_promedio_ingresos_diarios.groupby('person')['visitas_diarias'].mean().reset_index(name='promedio_registros_diarias')"
   ]
  },
  {
   "cell_type": "code",
   "execution_count": 894,
   "metadata": {},
   "outputs": [
    {
     "data": {
      "text/html": [
       "<div>\n",
       "<style scoped>\n",
       "    .dataframe tbody tr th:only-of-type {\n",
       "        vertical-align: middle;\n",
       "    }\n",
       "\n",
       "    .dataframe tbody tr th {\n",
       "        vertical-align: top;\n",
       "    }\n",
       "\n",
       "    .dataframe thead th {\n",
       "        text-align: right;\n",
       "    }\n",
       "</style>\n",
       "<table border=\"1\" class=\"dataframe\">\n",
       "  <thead>\n",
       "    <tr style=\"text-align: right;\">\n",
       "      <th></th>\n",
       "      <th>person</th>\n",
       "      <th>promedio_registros_diarias</th>\n",
       "    </tr>\n",
       "  </thead>\n",
       "  <tbody>\n",
       "    <tr>\n",
       "      <th>0</th>\n",
       "      <td>0008ed71</td>\n",
       "      <td>6.000000</td>\n",
       "    </tr>\n",
       "    <tr>\n",
       "      <th>1</th>\n",
       "      <td>00091926</td>\n",
       "      <td>20.363636</td>\n",
       "    </tr>\n",
       "    <tr>\n",
       "      <th>2</th>\n",
       "      <td>00091a7a</td>\n",
       "      <td>10.000000</td>\n",
       "    </tr>\n",
       "    <tr>\n",
       "      <th>3</th>\n",
       "      <td>000ba417</td>\n",
       "      <td>68.666667</td>\n",
       "    </tr>\n",
       "    <tr>\n",
       "      <th>4</th>\n",
       "      <td>000c79fe</td>\n",
       "      <td>17.000000</td>\n",
       "    </tr>\n",
       "  </tbody>\n",
       "</table>\n",
       "</div>"
      ],
      "text/plain": [
       "     person  promedio_registros_diarias\n",
       "0  0008ed71                    6.000000\n",
       "1  00091926                   20.363636\n",
       "2  00091a7a                   10.000000\n",
       "3  000ba417                   68.666667\n",
       "4  000c79fe                   17.000000"
      ]
     },
     "execution_count": 894,
     "metadata": {},
     "output_type": "execute_result"
    }
   ],
   "source": [
    "df_promedio_ingresos_diarios.head()"
   ]
  },
  {
   "cell_type": "code",
   "execution_count": 895,
   "metadata": {},
   "outputs": [
    {
     "name": "stderr",
     "output_type": "stream",
     "text": [
      "C:\\Users\\juanp\\AppData\\Local\\Continuum\\anaconda3\\lib\\site-packages\\ipykernel_launcher.py:2: SettingWithCopyWarning: \n",
      "A value is trying to be set on a copy of a slice from a DataFrame.\n",
      "Try using .loc[row_indexer,col_indexer] = value instead\n",
      "\n",
      "See the caveats in the documentation: http://pandas.pydata.org/pandas-docs/stable/indexing.html#indexing-view-versus-copy\n",
      "  \n"
     ]
    }
   ],
   "source": [
    "df_dias_ingresando = df_ingresos_diarios\n",
    "df_dias_ingresando['date'] = df_dias_ingresando['timestamp'].dt.date"
   ]
  },
  {
   "cell_type": "code",
   "execution_count": 896,
   "metadata": {},
   "outputs": [],
   "source": [
    "df_dias_ingresando = df_dias_ingresando.drop_duplicates(['person','date'])"
   ]
  },
  {
   "cell_type": "code",
   "execution_count": 897,
   "metadata": {},
   "outputs": [],
   "source": [
    "df_dias_ingresando = df_dias_ingresando.groupby('person').size().reset_index(name='dias_ingresando')"
   ]
  },
  {
   "cell_type": "code",
   "execution_count": 898,
   "metadata": {},
   "outputs": [],
   "source": [
    "df_promedio_ingresos_diarios = df_promedio_ingresos_diarios.merge(df_dias_ingresando, on='person', how='left')"
   ]
  },
  {
   "cell_type": "code",
   "execution_count": 899,
   "metadata": {},
   "outputs": [
    {
     "data": {
      "text/html": [
       "<div>\n",
       "<style scoped>\n",
       "    .dataframe tbody tr th:only-of-type {\n",
       "        vertical-align: middle;\n",
       "    }\n",
       "\n",
       "    .dataframe tbody tr th {\n",
       "        vertical-align: top;\n",
       "    }\n",
       "\n",
       "    .dataframe thead th {\n",
       "        text-align: right;\n",
       "    }\n",
       "</style>\n",
       "<table border=\"1\" class=\"dataframe\">\n",
       "  <thead>\n",
       "    <tr style=\"text-align: right;\">\n",
       "      <th></th>\n",
       "      <th>person</th>\n",
       "      <th>promedio_registros_diarias</th>\n",
       "      <th>dias_ingresando</th>\n",
       "    </tr>\n",
       "  </thead>\n",
       "  <tbody>\n",
       "    <tr>\n",
       "      <th>0</th>\n",
       "      <td>0008ed71</td>\n",
       "      <td>6.000000</td>\n",
       "      <td>1</td>\n",
       "    </tr>\n",
       "    <tr>\n",
       "      <th>1</th>\n",
       "      <td>00091926</td>\n",
       "      <td>20.363636</td>\n",
       "      <td>22</td>\n",
       "    </tr>\n",
       "    <tr>\n",
       "      <th>2</th>\n",
       "      <td>00091a7a</td>\n",
       "      <td>10.000000</td>\n",
       "      <td>1</td>\n",
       "    </tr>\n",
       "    <tr>\n",
       "      <th>3</th>\n",
       "      <td>000ba417</td>\n",
       "      <td>68.666667</td>\n",
       "      <td>3</td>\n",
       "    </tr>\n",
       "    <tr>\n",
       "      <th>4</th>\n",
       "      <td>000c79fe</td>\n",
       "      <td>17.000000</td>\n",
       "      <td>1</td>\n",
       "    </tr>\n",
       "  </tbody>\n",
       "</table>\n",
       "</div>"
      ],
      "text/plain": [
       "     person  promedio_registros_diarias  dias_ingresando\n",
       "0  0008ed71                    6.000000                1\n",
       "1  00091926                   20.363636               22\n",
       "2  00091a7a                   10.000000                1\n",
       "3  000ba417                   68.666667                3\n",
       "4  000c79fe                   17.000000                1"
      ]
     },
     "execution_count": 899,
     "metadata": {},
     "output_type": "execute_result"
    }
   ],
   "source": [
    "df_promedio_ingresos_diarios.head()"
   ]
  },
  {
   "cell_type": "code",
   "execution_count": 900,
   "metadata": {},
   "outputs": [],
   "source": [
    "df_promedio_ingresos_por_hora = df_ingresos_diarios.groupby(['person',df_ingresos_diarios['timestamp'].dt.floor('h')]).size().reset_index(name='visitas_por_hora')"
   ]
  },
  {
   "cell_type": "code",
   "execution_count": 901,
   "metadata": {},
   "outputs": [],
   "source": [
    "df_promedio_ingresos_por_hora = df_promedio_ingresos_por_hora.groupby('person')['visitas_por_hora'].mean().reset_index(name='promedio_visitas_hora')"
   ]
  },
  {
   "cell_type": "code",
   "execution_count": 902,
   "metadata": {},
   "outputs": [],
   "source": [
    "df_promedio_ingresos_diarios = df_promedio_ingresos_diarios.merge(df_promedio_ingresos_por_hora, on='person', how='left')"
   ]
  },
  {
   "cell_type": "code",
   "execution_count": 903,
   "metadata": {},
   "outputs": [
    {
     "data": {
      "text/plain": [
       "(38829, 4)"
      ]
     },
     "execution_count": 903,
     "metadata": {},
     "output_type": "execute_result"
    }
   ],
   "source": [
    "df_promedio_ingresos_diarios.shape"
   ]
  },
  {
   "cell_type": "code",
   "execution_count": 904,
   "metadata": {},
   "outputs": [],
   "source": [
    "df_features_numericos = df_features_numericos.merge(df_promedio_ingresos_diarios, on='person', how='left')"
   ]
  },
  {
   "cell_type": "code",
   "execution_count": 905,
   "metadata": {},
   "outputs": [
    {
     "data": {
      "text/html": [
       "<div>\n",
       "<style scoped>\n",
       "    .dataframe tbody tr th:only-of-type {\n",
       "        vertical-align: middle;\n",
       "    }\n",
       "\n",
       "    .dataframe tbody tr th {\n",
       "        vertical-align: top;\n",
       "    }\n",
       "\n",
       "    .dataframe thead th {\n",
       "        text-align: right;\n",
       "    }\n",
       "</style>\n",
       "<table border=\"1\" class=\"dataframe\">\n",
       "  <thead>\n",
       "    <tr style=\"text-align: right;\">\n",
       "      <th></th>\n",
       "      <th>person</th>\n",
       "      <th>Cantidad_visitas</th>\n",
       "      <th>Promedio_visitas_producto</th>\n",
       "      <th>horas_mirando_productos</th>\n",
       "      <th>visitas_mes1</th>\n",
       "      <th>visitas_mes2</th>\n",
       "      <th>visitas_mes3</th>\n",
       "      <th>visitas_mes4</th>\n",
       "      <th>visitas_mes5</th>\n",
       "      <th>promedio_ingreso_mensual</th>\n",
       "      <th>promedio_registros_diarias</th>\n",
       "      <th>dias_ingresando</th>\n",
       "      <th>promedio_visitas_hora</th>\n",
       "    </tr>\n",
       "  </thead>\n",
       "  <tbody>\n",
       "    <tr>\n",
       "      <th>0</th>\n",
       "      <td>4886f805</td>\n",
       "      <td>4.0</td>\n",
       "      <td>5.043919</td>\n",
       "      <td>0.315278</td>\n",
       "      <td>0.0</td>\n",
       "      <td>0.0</td>\n",
       "      <td>0.0</td>\n",
       "      <td>0.0</td>\n",
       "      <td>9.0</td>\n",
       "      <td>1.8</td>\n",
       "      <td>9.000000</td>\n",
       "      <td>1</td>\n",
       "      <td>9.000000</td>\n",
       "    </tr>\n",
       "    <tr>\n",
       "      <th>1</th>\n",
       "      <td>ad93850f</td>\n",
       "      <td>17.0</td>\n",
       "      <td>9.904207</td>\n",
       "      <td>22.058056</td>\n",
       "      <td>0.0</td>\n",
       "      <td>0.0</td>\n",
       "      <td>0.0</td>\n",
       "      <td>0.0</td>\n",
       "      <td>65.0</td>\n",
       "      <td>13.0</td>\n",
       "      <td>16.250000</td>\n",
       "      <td>4</td>\n",
       "      <td>13.000000</td>\n",
       "    </tr>\n",
       "    <tr>\n",
       "      <th>2</th>\n",
       "      <td>0297fc1e</td>\n",
       "      <td>213.0</td>\n",
       "      <td>9.325721</td>\n",
       "      <td>191.342500</td>\n",
       "      <td>120.0</td>\n",
       "      <td>48.0</td>\n",
       "      <td>87.0</td>\n",
       "      <td>139.0</td>\n",
       "      <td>173.0</td>\n",
       "      <td>113.4</td>\n",
       "      <td>9.610169</td>\n",
       "      <td>59</td>\n",
       "      <td>5.906250</td>\n",
       "    </tr>\n",
       "    <tr>\n",
       "      <th>3</th>\n",
       "      <td>2d681dd8</td>\n",
       "      <td>6.0</td>\n",
       "      <td>8.860133</td>\n",
       "      <td>0.092222</td>\n",
       "      <td>0.0</td>\n",
       "      <td>0.0</td>\n",
       "      <td>0.0</td>\n",
       "      <td>0.0</td>\n",
       "      <td>26.0</td>\n",
       "      <td>5.2</td>\n",
       "      <td>13.000000</td>\n",
       "      <td>2</td>\n",
       "      <td>13.000000</td>\n",
       "    </tr>\n",
       "    <tr>\n",
       "      <th>4</th>\n",
       "      <td>cccea85e</td>\n",
       "      <td>252.0</td>\n",
       "      <td>9.100159</td>\n",
       "      <td>50.758611</td>\n",
       "      <td>0.0</td>\n",
       "      <td>0.0</td>\n",
       "      <td>0.0</td>\n",
       "      <td>0.0</td>\n",
       "      <td>836.0</td>\n",
       "      <td>167.2</td>\n",
       "      <td>64.307692</td>\n",
       "      <td>13</td>\n",
       "      <td>29.857143</td>\n",
       "    </tr>\n",
       "  </tbody>\n",
       "</table>\n",
       "</div>"
      ],
      "text/plain": [
       "     person  Cantidad_visitas  Promedio_visitas_producto  \\\n",
       "0  4886f805               4.0                   5.043919   \n",
       "1  ad93850f              17.0                   9.904207   \n",
       "2  0297fc1e             213.0                   9.325721   \n",
       "3  2d681dd8               6.0                   8.860133   \n",
       "4  cccea85e             252.0                   9.100159   \n",
       "\n",
       "   horas_mirando_productos  visitas_mes1  visitas_mes2  visitas_mes3  \\\n",
       "0                 0.315278           0.0           0.0           0.0   \n",
       "1                22.058056           0.0           0.0           0.0   \n",
       "2               191.342500         120.0          48.0          87.0   \n",
       "3                 0.092222           0.0           0.0           0.0   \n",
       "4                50.758611           0.0           0.0           0.0   \n",
       "\n",
       "   visitas_mes4  visitas_mes5  promedio_ingreso_mensual  \\\n",
       "0           0.0           9.0                       1.8   \n",
       "1           0.0          65.0                      13.0   \n",
       "2         139.0         173.0                     113.4   \n",
       "3           0.0          26.0                       5.2   \n",
       "4           0.0         836.0                     167.2   \n",
       "\n",
       "   promedio_registros_diarias  dias_ingresando  promedio_visitas_hora  \n",
       "0                    9.000000                1               9.000000  \n",
       "1                   16.250000                4              13.000000  \n",
       "2                    9.610169               59               5.906250  \n",
       "3                   13.000000                2              13.000000  \n",
       "4                   64.307692               13              29.857143  "
      ]
     },
     "execution_count": 905,
     "metadata": {},
     "output_type": "execute_result"
    }
   ],
   "source": [
    "df_features_numericos.head()"
   ]
  },
  {
   "cell_type": "code",
   "execution_count": 906,
   "metadata": {},
   "outputs": [],
   "source": [
    "df_std_ingresos_diarios = df_ingresos_diarios.groupby(['person',df_ingresos_diarios['timestamp'].dt.floor('d')]).size().reset_index(name='visitas_diarias')"
   ]
  },
  {
   "cell_type": "code",
   "execution_count": 907,
   "metadata": {},
   "outputs": [],
   "source": [
    "df_std_ingresos_diarios = df_std_ingresos_diarios.groupby('person')['visitas_diarias'].std().fillna(0).reset_index(name='std_visitas_diarias')"
   ]
  },
  {
   "cell_type": "code",
   "execution_count": 908,
   "metadata": {},
   "outputs": [
    {
     "data": {
      "text/html": [
       "<div>\n",
       "<style scoped>\n",
       "    .dataframe tbody tr th:only-of-type {\n",
       "        vertical-align: middle;\n",
       "    }\n",
       "\n",
       "    .dataframe tbody tr th {\n",
       "        vertical-align: top;\n",
       "    }\n",
       "\n",
       "    .dataframe thead th {\n",
       "        text-align: right;\n",
       "    }\n",
       "</style>\n",
       "<table border=\"1\" class=\"dataframe\">\n",
       "  <thead>\n",
       "    <tr style=\"text-align: right;\">\n",
       "      <th></th>\n",
       "      <th>person</th>\n",
       "      <th>std_visitas_diarias</th>\n",
       "    </tr>\n",
       "  </thead>\n",
       "  <tbody>\n",
       "    <tr>\n",
       "      <th>0</th>\n",
       "      <td>0008ed71</td>\n",
       "      <td>0.000000</td>\n",
       "    </tr>\n",
       "    <tr>\n",
       "      <th>1</th>\n",
       "      <td>00091926</td>\n",
       "      <td>21.868755</td>\n",
       "    </tr>\n",
       "    <tr>\n",
       "      <th>2</th>\n",
       "      <td>00091a7a</td>\n",
       "      <td>0.000000</td>\n",
       "    </tr>\n",
       "    <tr>\n",
       "      <th>3</th>\n",
       "      <td>000ba417</td>\n",
       "      <td>10.016653</td>\n",
       "    </tr>\n",
       "    <tr>\n",
       "      <th>4</th>\n",
       "      <td>000c79fe</td>\n",
       "      <td>0.000000</td>\n",
       "    </tr>\n",
       "  </tbody>\n",
       "</table>\n",
       "</div>"
      ],
      "text/plain": [
       "     person  std_visitas_diarias\n",
       "0  0008ed71             0.000000\n",
       "1  00091926            21.868755\n",
       "2  00091a7a             0.000000\n",
       "3  000ba417            10.016653\n",
       "4  000c79fe             0.000000"
      ]
     },
     "execution_count": 908,
     "metadata": {},
     "output_type": "execute_result"
    }
   ],
   "source": [
    "df_std_ingresos_diarios.head()"
   ]
  },
  {
   "cell_type": "code",
   "execution_count": 909,
   "metadata": {},
   "outputs": [],
   "source": [
    "df_features_numericos = df_features_numericos.merge(df_std_ingresos_diarios,on='person',how='left')"
   ]
  },
  {
   "cell_type": "code",
   "execution_count": 910,
   "metadata": {},
   "outputs": [
    {
     "data": {
      "text/html": [
       "<div>\n",
       "<style scoped>\n",
       "    .dataframe tbody tr th:only-of-type {\n",
       "        vertical-align: middle;\n",
       "    }\n",
       "\n",
       "    .dataframe tbody tr th {\n",
       "        vertical-align: top;\n",
       "    }\n",
       "\n",
       "    .dataframe thead th {\n",
       "        text-align: right;\n",
       "    }\n",
       "</style>\n",
       "<table border=\"1\" class=\"dataframe\">\n",
       "  <thead>\n",
       "    <tr style=\"text-align: right;\">\n",
       "      <th></th>\n",
       "      <th>person</th>\n",
       "      <th>Cantidad_visitas</th>\n",
       "      <th>Promedio_visitas_producto</th>\n",
       "      <th>horas_mirando_productos</th>\n",
       "      <th>visitas_mes1</th>\n",
       "      <th>visitas_mes2</th>\n",
       "      <th>visitas_mes3</th>\n",
       "      <th>visitas_mes4</th>\n",
       "      <th>visitas_mes5</th>\n",
       "      <th>promedio_ingreso_mensual</th>\n",
       "      <th>promedio_registros_diarias</th>\n",
       "      <th>dias_ingresando</th>\n",
       "      <th>promedio_visitas_hora</th>\n",
       "      <th>std_visitas_diarias</th>\n",
       "    </tr>\n",
       "  </thead>\n",
       "  <tbody>\n",
       "    <tr>\n",
       "      <th>0</th>\n",
       "      <td>4886f805</td>\n",
       "      <td>4.0</td>\n",
       "      <td>5.043919</td>\n",
       "      <td>0.315278</td>\n",
       "      <td>0.0</td>\n",
       "      <td>0.0</td>\n",
       "      <td>0.0</td>\n",
       "      <td>0.0</td>\n",
       "      <td>9.0</td>\n",
       "      <td>1.8</td>\n",
       "      <td>9.000000</td>\n",
       "      <td>1</td>\n",
       "      <td>9.000000</td>\n",
       "      <td>0.000000</td>\n",
       "    </tr>\n",
       "    <tr>\n",
       "      <th>1</th>\n",
       "      <td>ad93850f</td>\n",
       "      <td>17.0</td>\n",
       "      <td>9.904207</td>\n",
       "      <td>22.058056</td>\n",
       "      <td>0.0</td>\n",
       "      <td>0.0</td>\n",
       "      <td>0.0</td>\n",
       "      <td>0.0</td>\n",
       "      <td>65.0</td>\n",
       "      <td>13.0</td>\n",
       "      <td>16.250000</td>\n",
       "      <td>4</td>\n",
       "      <td>13.000000</td>\n",
       "      <td>17.651723</td>\n",
       "    </tr>\n",
       "    <tr>\n",
       "      <th>2</th>\n",
       "      <td>0297fc1e</td>\n",
       "      <td>213.0</td>\n",
       "      <td>9.325721</td>\n",
       "      <td>191.342500</td>\n",
       "      <td>120.0</td>\n",
       "      <td>48.0</td>\n",
       "      <td>87.0</td>\n",
       "      <td>139.0</td>\n",
       "      <td>173.0</td>\n",
       "      <td>113.4</td>\n",
       "      <td>9.610169</td>\n",
       "      <td>59</td>\n",
       "      <td>5.906250</td>\n",
       "      <td>6.158865</td>\n",
       "    </tr>\n",
       "    <tr>\n",
       "      <th>3</th>\n",
       "      <td>2d681dd8</td>\n",
       "      <td>6.0</td>\n",
       "      <td>8.860133</td>\n",
       "      <td>0.092222</td>\n",
       "      <td>0.0</td>\n",
       "      <td>0.0</td>\n",
       "      <td>0.0</td>\n",
       "      <td>0.0</td>\n",
       "      <td>26.0</td>\n",
       "      <td>5.2</td>\n",
       "      <td>13.000000</td>\n",
       "      <td>2</td>\n",
       "      <td>13.000000</td>\n",
       "      <td>4.242641</td>\n",
       "    </tr>\n",
       "    <tr>\n",
       "      <th>4</th>\n",
       "      <td>cccea85e</td>\n",
       "      <td>252.0</td>\n",
       "      <td>9.100159</td>\n",
       "      <td>50.758611</td>\n",
       "      <td>0.0</td>\n",
       "      <td>0.0</td>\n",
       "      <td>0.0</td>\n",
       "      <td>0.0</td>\n",
       "      <td>836.0</td>\n",
       "      <td>167.2</td>\n",
       "      <td>64.307692</td>\n",
       "      <td>13</td>\n",
       "      <td>29.857143</td>\n",
       "      <td>28.350146</td>\n",
       "    </tr>\n",
       "  </tbody>\n",
       "</table>\n",
       "</div>"
      ],
      "text/plain": [
       "     person  Cantidad_visitas  Promedio_visitas_producto  \\\n",
       "0  4886f805               4.0                   5.043919   \n",
       "1  ad93850f              17.0                   9.904207   \n",
       "2  0297fc1e             213.0                   9.325721   \n",
       "3  2d681dd8               6.0                   8.860133   \n",
       "4  cccea85e             252.0                   9.100159   \n",
       "\n",
       "   horas_mirando_productos  visitas_mes1  visitas_mes2  visitas_mes3  \\\n",
       "0                 0.315278           0.0           0.0           0.0   \n",
       "1                22.058056           0.0           0.0           0.0   \n",
       "2               191.342500         120.0          48.0          87.0   \n",
       "3                 0.092222           0.0           0.0           0.0   \n",
       "4                50.758611           0.0           0.0           0.0   \n",
       "\n",
       "   visitas_mes4  visitas_mes5  promedio_ingreso_mensual  \\\n",
       "0           0.0           9.0                       1.8   \n",
       "1           0.0          65.0                      13.0   \n",
       "2         139.0         173.0                     113.4   \n",
       "3           0.0          26.0                       5.2   \n",
       "4           0.0         836.0                     167.2   \n",
       "\n",
       "   promedio_registros_diarias  dias_ingresando  promedio_visitas_hora  \\\n",
       "0                    9.000000                1               9.000000   \n",
       "1                   16.250000                4              13.000000   \n",
       "2                    9.610169               59               5.906250   \n",
       "3                   13.000000                2              13.000000   \n",
       "4                   64.307692               13              29.857143   \n",
       "\n",
       "   std_visitas_diarias  \n",
       "0             0.000000  \n",
       "1            17.651723  \n",
       "2             6.158865  \n",
       "3             4.242641  \n",
       "4            28.350146  "
      ]
     },
     "execution_count": 910,
     "metadata": {},
     "output_type": "execute_result"
    }
   ],
   "source": [
    "df_features_numericos.head()"
   ]
  },
  {
   "cell_type": "code",
   "execution_count": 911,
   "metadata": {},
   "outputs": [],
   "source": [
    "df_std_ingresos_hora = df_ingresos_diarios.groupby(['person',df_ingresos_diarios['timestamp'].dt.floor('h')]).size().reset_index(name='visitas_hora')"
   ]
  },
  {
   "cell_type": "code",
   "execution_count": 912,
   "metadata": {},
   "outputs": [],
   "source": [
    "df_std_ingresos_hora = df_std_ingresos_hora.groupby('person')['visitas_hora'].std().fillna(0).reset_index(name='std_visitas_hora')"
   ]
  },
  {
   "cell_type": "code",
   "execution_count": 913,
   "metadata": {},
   "outputs": [
    {
     "data": {
      "text/html": [
       "<div>\n",
       "<style scoped>\n",
       "    .dataframe tbody tr th:only-of-type {\n",
       "        vertical-align: middle;\n",
       "    }\n",
       "\n",
       "    .dataframe tbody tr th {\n",
       "        vertical-align: top;\n",
       "    }\n",
       "\n",
       "    .dataframe thead th {\n",
       "        text-align: right;\n",
       "    }\n",
       "</style>\n",
       "<table border=\"1\" class=\"dataframe\">\n",
       "  <thead>\n",
       "    <tr style=\"text-align: right;\">\n",
       "      <th></th>\n",
       "      <th>person</th>\n",
       "      <th>std_visitas_hora</th>\n",
       "    </tr>\n",
       "  </thead>\n",
       "  <tbody>\n",
       "    <tr>\n",
       "      <th>0</th>\n",
       "      <td>0008ed71</td>\n",
       "      <td>1.000000</td>\n",
       "    </tr>\n",
       "    <tr>\n",
       "      <th>1</th>\n",
       "      <td>00091926</td>\n",
       "      <td>12.201511</td>\n",
       "    </tr>\n",
       "    <tr>\n",
       "      <th>2</th>\n",
       "      <td>00091a7a</td>\n",
       "      <td>0.000000</td>\n",
       "    </tr>\n",
       "    <tr>\n",
       "      <th>3</th>\n",
       "      <td>000ba417</td>\n",
       "      <td>22.662990</td>\n",
       "    </tr>\n",
       "    <tr>\n",
       "      <th>4</th>\n",
       "      <td>000c79fe</td>\n",
       "      <td>0.000000</td>\n",
       "    </tr>\n",
       "  </tbody>\n",
       "</table>\n",
       "</div>"
      ],
      "text/plain": [
       "     person  std_visitas_hora\n",
       "0  0008ed71          1.000000\n",
       "1  00091926         12.201511\n",
       "2  00091a7a          0.000000\n",
       "3  000ba417         22.662990\n",
       "4  000c79fe          0.000000"
      ]
     },
     "execution_count": 913,
     "metadata": {},
     "output_type": "execute_result"
    }
   ],
   "source": [
    "df_std_ingresos_hora.head()"
   ]
  },
  {
   "cell_type": "code",
   "execution_count": 914,
   "metadata": {},
   "outputs": [],
   "source": [
    "df_features_numericos = df_features_numericos.merge(df_std_ingresos_hora, on='person', how='left')"
   ]
  },
  {
   "cell_type": "code",
   "execution_count": 915,
   "metadata": {},
   "outputs": [
    {
     "data": {
      "text/html": [
       "<div>\n",
       "<style scoped>\n",
       "    .dataframe tbody tr th:only-of-type {\n",
       "        vertical-align: middle;\n",
       "    }\n",
       "\n",
       "    .dataframe tbody tr th {\n",
       "        vertical-align: top;\n",
       "    }\n",
       "\n",
       "    .dataframe thead th {\n",
       "        text-align: right;\n",
       "    }\n",
       "</style>\n",
       "<table border=\"1\" class=\"dataframe\">\n",
       "  <thead>\n",
       "    <tr style=\"text-align: right;\">\n",
       "      <th></th>\n",
       "      <th>person</th>\n",
       "      <th>Cantidad_visitas</th>\n",
       "      <th>Promedio_visitas_producto</th>\n",
       "      <th>horas_mirando_productos</th>\n",
       "      <th>visitas_mes1</th>\n",
       "      <th>visitas_mes2</th>\n",
       "      <th>visitas_mes3</th>\n",
       "      <th>visitas_mes4</th>\n",
       "      <th>visitas_mes5</th>\n",
       "      <th>promedio_ingreso_mensual</th>\n",
       "      <th>promedio_registros_diarias</th>\n",
       "      <th>dias_ingresando</th>\n",
       "      <th>promedio_visitas_hora</th>\n",
       "      <th>std_visitas_diarias</th>\n",
       "      <th>std_visitas_hora</th>\n",
       "    </tr>\n",
       "  </thead>\n",
       "  <tbody>\n",
       "    <tr>\n",
       "      <th>0</th>\n",
       "      <td>4886f805</td>\n",
       "      <td>4.0</td>\n",
       "      <td>5.043919</td>\n",
       "      <td>0.315278</td>\n",
       "      <td>0.0</td>\n",
       "      <td>0.0</td>\n",
       "      <td>0.0</td>\n",
       "      <td>0.0</td>\n",
       "      <td>9.0</td>\n",
       "      <td>1.8</td>\n",
       "      <td>9.000000</td>\n",
       "      <td>1</td>\n",
       "      <td>9.000000</td>\n",
       "      <td>0.000000</td>\n",
       "      <td>0.000000</td>\n",
       "    </tr>\n",
       "    <tr>\n",
       "      <th>1</th>\n",
       "      <td>ad93850f</td>\n",
       "      <td>17.0</td>\n",
       "      <td>9.904207</td>\n",
       "      <td>22.058056</td>\n",
       "      <td>0.0</td>\n",
       "      <td>0.0</td>\n",
       "      <td>0.0</td>\n",
       "      <td>0.0</td>\n",
       "      <td>65.0</td>\n",
       "      <td>13.0</td>\n",
       "      <td>16.250000</td>\n",
       "      <td>4</td>\n",
       "      <td>13.000000</td>\n",
       "      <td>17.651723</td>\n",
       "      <td>10.770330</td>\n",
       "    </tr>\n",
       "    <tr>\n",
       "      <th>2</th>\n",
       "      <td>0297fc1e</td>\n",
       "      <td>213.0</td>\n",
       "      <td>9.325721</td>\n",
       "      <td>191.342500</td>\n",
       "      <td>120.0</td>\n",
       "      <td>48.0</td>\n",
       "      <td>87.0</td>\n",
       "      <td>139.0</td>\n",
       "      <td>173.0</td>\n",
       "      <td>113.4</td>\n",
       "      <td>9.610169</td>\n",
       "      <td>59</td>\n",
       "      <td>5.906250</td>\n",
       "      <td>6.158865</td>\n",
       "      <td>3.800493</td>\n",
       "    </tr>\n",
       "    <tr>\n",
       "      <th>3</th>\n",
       "      <td>2d681dd8</td>\n",
       "      <td>6.0</td>\n",
       "      <td>8.860133</td>\n",
       "      <td>0.092222</td>\n",
       "      <td>0.0</td>\n",
       "      <td>0.0</td>\n",
       "      <td>0.0</td>\n",
       "      <td>0.0</td>\n",
       "      <td>26.0</td>\n",
       "      <td>5.2</td>\n",
       "      <td>13.000000</td>\n",
       "      <td>2</td>\n",
       "      <td>13.000000</td>\n",
       "      <td>4.242641</td>\n",
       "      <td>4.242641</td>\n",
       "    </tr>\n",
       "    <tr>\n",
       "      <th>4</th>\n",
       "      <td>cccea85e</td>\n",
       "      <td>252.0</td>\n",
       "      <td>9.100159</td>\n",
       "      <td>50.758611</td>\n",
       "      <td>0.0</td>\n",
       "      <td>0.0</td>\n",
       "      <td>0.0</td>\n",
       "      <td>0.0</td>\n",
       "      <td>836.0</td>\n",
       "      <td>167.2</td>\n",
       "      <td>64.307692</td>\n",
       "      <td>13</td>\n",
       "      <td>29.857143</td>\n",
       "      <td>28.350146</td>\n",
       "      <td>22.130445</td>\n",
       "    </tr>\n",
       "  </tbody>\n",
       "</table>\n",
       "</div>"
      ],
      "text/plain": [
       "     person  Cantidad_visitas  Promedio_visitas_producto  \\\n",
       "0  4886f805               4.0                   5.043919   \n",
       "1  ad93850f              17.0                   9.904207   \n",
       "2  0297fc1e             213.0                   9.325721   \n",
       "3  2d681dd8               6.0                   8.860133   \n",
       "4  cccea85e             252.0                   9.100159   \n",
       "\n",
       "   horas_mirando_productos  visitas_mes1  visitas_mes2  visitas_mes3  \\\n",
       "0                 0.315278           0.0           0.0           0.0   \n",
       "1                22.058056           0.0           0.0           0.0   \n",
       "2               191.342500         120.0          48.0          87.0   \n",
       "3                 0.092222           0.0           0.0           0.0   \n",
       "4                50.758611           0.0           0.0           0.0   \n",
       "\n",
       "   visitas_mes4  visitas_mes5  promedio_ingreso_mensual  \\\n",
       "0           0.0           9.0                       1.8   \n",
       "1           0.0          65.0                      13.0   \n",
       "2         139.0         173.0                     113.4   \n",
       "3           0.0          26.0                       5.2   \n",
       "4           0.0         836.0                     167.2   \n",
       "\n",
       "   promedio_registros_diarias  dias_ingresando  promedio_visitas_hora  \\\n",
       "0                    9.000000                1               9.000000   \n",
       "1                   16.250000                4              13.000000   \n",
       "2                    9.610169               59               5.906250   \n",
       "3                   13.000000                2              13.000000   \n",
       "4                   64.307692               13              29.857143   \n",
       "\n",
       "   std_visitas_diarias  std_visitas_hora  \n",
       "0             0.000000          0.000000  \n",
       "1            17.651723         10.770330  \n",
       "2             6.158865          3.800493  \n",
       "3             4.242641          4.242641  \n",
       "4            28.350146         22.130445  "
      ]
     },
     "execution_count": 915,
     "metadata": {},
     "output_type": "execute_result"
    }
   ],
   "source": [
    "df_features_numericos.head()"
   ]
  },
  {
   "cell_type": "markdown",
   "metadata": {},
   "source": [
    "Max min y diferencia entre ellos sobre la cantidad de visitas diarias"
   ]
  },
  {
   "cell_type": "code",
   "execution_count": 916,
   "metadata": {},
   "outputs": [],
   "source": [
    "df_max_ingresos_dia = df_ingresos_diarios.groupby(['person',df_ingresos_diarios['timestamp'].dt.floor('d')]).size().reset_index(name='visitas_diarias')"
   ]
  },
  {
   "cell_type": "code",
   "execution_count": 917,
   "metadata": {},
   "outputs": [],
   "source": [
    "df_max_ingresos_dia = df_max_ingresos_dia.groupby('person')['visitas_diarias'].max().reset_index(name='max_visitas_diarias')"
   ]
  },
  {
   "cell_type": "code",
   "execution_count": 918,
   "metadata": {},
   "outputs": [],
   "source": [
    "df_features_numericos = df_features_numericos.merge(df_max_ingresos_dia, on='person', how='left')"
   ]
  },
  {
   "cell_type": "code",
   "execution_count": 919,
   "metadata": {},
   "outputs": [],
   "source": [
    "df_min_ingresos_dia = df_ingresos_diarios.groupby(['person',df_ingresos_diarios['timestamp'].dt.floor('d')]).size().reset_index(name='visitas_diarias')"
   ]
  },
  {
   "cell_type": "code",
   "execution_count": 920,
   "metadata": {},
   "outputs": [],
   "source": [
    "df_min_ingresos_dia = df_min_ingresos_dia.groupby('person')['visitas_diarias'].min().reset_index(name='min_visitas_diarias')"
   ]
  },
  {
   "cell_type": "code",
   "execution_count": 921,
   "metadata": {},
   "outputs": [],
   "source": [
    "df_features_numericos = df_features_numericos.merge(df_min_ingresos_dia, on='person', how='left')"
   ]
  },
  {
   "cell_type": "code",
   "execution_count": 922,
   "metadata": {},
   "outputs": [],
   "source": [
    "df_features_numericos['diff_min_max_diaria'] = df_features_numericos['max_visitas_diarias'] - df_features_numericos['min_visitas_diarias'] "
   ]
  },
  {
   "cell_type": "markdown",
   "metadata": {},
   "source": [
    "Max min y diferencia entre ellos sobre la cantidad de visitas por hora"
   ]
  },
  {
   "cell_type": "code",
   "execution_count": 923,
   "metadata": {},
   "outputs": [],
   "source": [
    "df_max_ingresos_hora = df_ingresos_diarios.groupby(['person',df_ingresos_diarios['timestamp'].dt.floor('h')]).size().reset_index(name='visitas_hora')"
   ]
  },
  {
   "cell_type": "code",
   "execution_count": 924,
   "metadata": {},
   "outputs": [],
   "source": [
    "df_max_ingresos_hora = df_max_ingresos_hora.groupby('person')['visitas_hora'].max().reset_index(name='max_visitas_hora')"
   ]
  },
  {
   "cell_type": "code",
   "execution_count": 925,
   "metadata": {},
   "outputs": [],
   "source": [
    "df_features_numericos = df_features_numericos.merge(df_max_ingresos_hora, on='person', how='left')"
   ]
  },
  {
   "cell_type": "code",
   "execution_count": 926,
   "metadata": {},
   "outputs": [],
   "source": [
    "df_min_ingresos_hora = df_ingresos_diarios.groupby(['person',df_ingresos_diarios['timestamp'].dt.floor('h')]).size().reset_index(name='visitas_hora')"
   ]
  },
  {
   "cell_type": "code",
   "execution_count": 927,
   "metadata": {},
   "outputs": [],
   "source": [
    "df_min_ingresos_hora = df_min_ingresos_hora.groupby('person')['visitas_hora'].min().reset_index(name='min_visitas_hora')"
   ]
  },
  {
   "cell_type": "code",
   "execution_count": 928,
   "metadata": {},
   "outputs": [],
   "source": [
    "df_features_numericos = df_features_numericos.merge(df_min_ingresos_hora, on='person', how='left')"
   ]
  },
  {
   "cell_type": "code",
   "execution_count": 929,
   "metadata": {},
   "outputs": [],
   "source": [
    "df_features_numericos['diff_min_max_hora'] = df_features_numericos['max_visitas_hora'] - df_features_numericos['min_visitas_hora'] "
   ]
  },
  {
   "cell_type": "markdown",
   "metadata": {},
   "source": [
    "<hola>"
   ]
  },
  {
   "cell_type": "markdown",
   "metadata": {},
   "source": [
    "Ver que dia realizo por primera y ultima vez el acceso a la pagina"
   ]
  },
  {
   "cell_type": "code",
   "execution_count": 930,
   "metadata": {},
   "outputs": [
    {
     "name": "stderr",
     "output_type": "stream",
     "text": [
      "C:\\Users\\juanp\\AppData\\Local\\Continuum\\anaconda3\\lib\\site-packages\\ipykernel_launcher.py:1: SettingWithCopyWarning: \n",
      "A value is trying to be set on a copy of a slice from a DataFrame.\n",
      "Try using .loc[row_indexer,col_indexer] = value instead\n",
      "\n",
      "See the caveats in the documentation: http://pandas.pydata.org/pandas-docs/stable/indexing.html#indexing-view-versus-copy\n",
      "  \"\"\"Entry point for launching an IPython kernel.\n"
     ]
    }
   ],
   "source": [
    "df_ingresos_diarios['dia_del_año'] = df_ingresos_diarios['timestamp'].dt.dayofyear"
   ]
  },
  {
   "cell_type": "code",
   "execution_count": 931,
   "metadata": {},
   "outputs": [],
   "source": [
    "df_dia_ultimo_ingreso = df_ingresos_diarios.groupby('person')['dia_del_año'].max().reset_index(name='ultimo_ingreso_dia')"
   ]
  },
  {
   "cell_type": "code",
   "execution_count": 932,
   "metadata": {},
   "outputs": [],
   "source": [
    "df_features_numericos = df_features_numericos.merge(df_dia_ultimo_ingreso, on='person', how='left')"
   ]
  },
  {
   "cell_type": "code",
   "execution_count": 933,
   "metadata": {},
   "outputs": [],
   "source": [
    "df_dia_primer_ingreso = df_ingresos_diarios.groupby('person')['dia_del_año'].min().reset_index(name='primer_ingreso_dia')"
   ]
  },
  {
   "cell_type": "code",
   "execution_count": 934,
   "metadata": {},
   "outputs": [],
   "source": [
    "df_features_numericos = df_features_numericos.merge(df_dia_primer_ingreso, on='person', how='left')"
   ]
  },
  {
   "cell_type": "code",
   "execution_count": 935,
   "metadata": {},
   "outputs": [],
   "source": [
    "df_features_numericos['diferencia_primer_ultimo_dia'] = df_features_numericos['ultimo_ingreso_dia'] - df_features_numericos['primer_ingreso_dia']"
   ]
  },
  {
   "cell_type": "code",
   "execution_count": 936,
   "metadata": {},
   "outputs": [
    {
     "data": {
      "text/plain": [
       "(38829, 24)"
      ]
     },
     "execution_count": 936,
     "metadata": {},
     "output_type": "execute_result"
    }
   ],
   "source": [
    "\n",
    "df_features_numericos.shape"
   ]
  },
  {
   "cell_type": "markdown",
   "metadata": {},
   "source": [
    "Analizo la __primera quincena__ de los meses"
   ]
  },
  {
   "cell_type": "code",
   "execution_count": 937,
   "metadata": {},
   "outputs": [],
   "source": [
    "df_temporal = df_ingresos_diarios"
   ]
  },
  {
   "cell_type": "code",
   "execution_count": 938,
   "metadata": {},
   "outputs": [
    {
     "name": "stderr",
     "output_type": "stream",
     "text": [
      "C:\\Users\\juanp\\AppData\\Local\\Continuum\\anaconda3\\lib\\site-packages\\ipykernel_launcher.py:1: SettingWithCopyWarning: \n",
      "A value is trying to be set on a copy of a slice from a DataFrame.\n",
      "Try using .loc[row_indexer,col_indexer] = value instead\n",
      "\n",
      "See the caveats in the documentation: http://pandas.pydata.org/pandas-docs/stable/indexing.html#indexing-view-versus-copy\n",
      "  \"\"\"Entry point for launching an IPython kernel.\n"
     ]
    }
   ],
   "source": [
    "df_temporal['dia'] = df_temporal['timestamp'].dt.day"
   ]
  },
  {
   "cell_type": "code",
   "execution_count": 939,
   "metadata": {},
   "outputs": [
    {
     "name": "stderr",
     "output_type": "stream",
     "text": [
      "C:\\Users\\juanp\\AppData\\Local\\Continuum\\anaconda3\\lib\\site-packages\\ipykernel_launcher.py:1: SettingWithCopyWarning: \n",
      "A value is trying to be set on a copy of a slice from a DataFrame.\n",
      "Try using .loc[row_indexer,col_indexer] = value instead\n",
      "\n",
      "See the caveats in the documentation: http://pandas.pydata.org/pandas-docs/stable/indexing.html#indexing-view-versus-copy\n",
      "  \"\"\"Entry point for launching an IPython kernel.\n"
     ]
    }
   ],
   "source": [
    "df_temporal['semana_del_dia'] = (df_temporal['dia']-1) // 7 + 1"
   ]
  },
  {
   "cell_type": "code",
   "execution_count": 940,
   "metadata": {},
   "outputs": [
    {
     "name": "stderr",
     "output_type": "stream",
     "text": [
      "C:\\Users\\juanp\\AppData\\Local\\Continuum\\anaconda3\\lib\\site-packages\\ipykernel_launcher.py:1: SettingWithCopyWarning: \n",
      "A value is trying to be set on a copy of a slice from a DataFrame.\n",
      "Try using .loc[row_indexer,col_indexer] = value instead\n",
      "\n",
      "See the caveats in the documentation: http://pandas.pydata.org/pandas-docs/stable/indexing.html#indexing-view-versus-copy\n",
      "  \"\"\"Entry point for launching an IPython kernel.\n"
     ]
    }
   ],
   "source": [
    "df_temporal['quincena_numero'] = df_temporal['semana_del_dia'].apply(lambda x: 1 if(x==1 or x==2) else 2)"
   ]
  },
  {
   "cell_type": "code",
   "execution_count": 941,
   "metadata": {},
   "outputs": [],
   "source": [
    "df_persona_actividad_quincena = df_temporal.groupby(['person','quincena_numero']).size()\\\n",
    "                                            .reset_index(name='registros_en_dicha_quincena')"
   ]
  },
  {
   "cell_type": "code",
   "execution_count": 942,
   "metadata": {},
   "outputs": [],
   "source": [
    "df_persona_actividad_quincena_1 = df_persona_actividad_quincena.groupby('quincena_numero').get_group(1)\\\n",
    "                                                                .reset_index()"
   ]
  },
  {
   "cell_type": "code",
   "execution_count": 943,
   "metadata": {},
   "outputs": [],
   "source": [
    "df_persona_actividad_quincena_2 = df_persona_actividad_quincena.groupby('quincena_numero').get_group(2)\\\n",
    "                                                                .reset_index()"
   ]
  },
  {
   "cell_type": "code",
   "execution_count": 944,
   "metadata": {},
   "outputs": [],
   "source": [
    "df_persona_actividad_quincena_1 = df_persona_actividad_quincena_1.drop(columns=['index','quincena_numero'])\n",
    "df_persona_actividad_quincena_1.columns = ['person','registros_primeras_quincenas']"
   ]
  },
  {
   "cell_type": "code",
   "execution_count": 945,
   "metadata": {},
   "outputs": [],
   "source": [
    "df_persona_actividad_quincena_2 = df_persona_actividad_quincena_2.drop(columns=['index','quincena_numero'])\n",
    "df_persona_actividad_quincena_2.columns = ['person','registros_segundas_quincenas']"
   ]
  },
  {
   "cell_type": "code",
   "execution_count": 946,
   "metadata": {},
   "outputs": [],
   "source": [
    "df_personas = df_original['person'].drop_duplicates().to_frame()"
   ]
  },
  {
   "cell_type": "code",
   "execution_count": 947,
   "metadata": {},
   "outputs": [],
   "source": [
    "df_actividad_por_quincena = df_personas.merge(df_persona_actividad_quincena_1, on='person', how='left')"
   ]
  },
  {
   "cell_type": "code",
   "execution_count": 948,
   "metadata": {},
   "outputs": [],
   "source": [
    "df_actividad_por_quincena = df_actividad_por_quincena.merge(df_persona_actividad_quincena_2,\\\n",
    "                                                           on='person',\\\n",
    "                                                           how='left')"
   ]
  },
  {
   "cell_type": "code",
   "execution_count": 949,
   "metadata": {},
   "outputs": [],
   "source": [
    "df_actividad_por_quincena = df_actividad_por_quincena.fillna(0)"
   ]
  },
  {
   "cell_type": "code",
   "execution_count": 950,
   "metadata": {},
   "outputs": [],
   "source": [
    "df_actividad_por_quincena['mayor_quincena_1'] = df_actividad_por_quincena['registros_primeras_quincenas']\\\n",
    "                                                            > df_actividad_por_quincena['registros_segundas_quincenas']"
   ]
  },
  {
   "cell_type": "code",
   "execution_count": 951,
   "metadata": {},
   "outputs": [],
   "source": [
    "df_actividad_por_quincena['mayor_quincena_1'] =df_actividad_por_quincena['mayor_quincena_1'].astype(int)"
   ]
  },
  {
   "cell_type": "code",
   "execution_count": 952,
   "metadata": {},
   "outputs": [],
   "source": [
    "df_actividad_por_quincena.to_csv(path_or_buf = 'features_a_probar.csv', index = False)"
   ]
  },
  {
   "cell_type": "markdown",
   "metadata": {},
   "source": [
    "# Features solo del 5to mes"
   ]
  },
  {
   "cell_type": "code",
   "execution_count": 953,
   "metadata": {},
   "outputs": [],
   "source": [
    "df_5to_mes_only = df_original[['person','timestamp','event','model','country']]"
   ]
  },
  {
   "cell_type": "code",
   "execution_count": 954,
   "metadata": {},
   "outputs": [
    {
     "name": "stderr",
     "output_type": "stream",
     "text": [
      "C:\\Users\\juanp\\AppData\\Local\\Continuum\\anaconda3\\lib\\site-packages\\ipykernel_launcher.py:1: SettingWithCopyWarning: \n",
      "A value is trying to be set on a copy of a slice from a DataFrame.\n",
      "Try using .loc[row_indexer,col_indexer] = value instead\n",
      "\n",
      "See the caveats in the documentation: http://pandas.pydata.org/pandas-docs/stable/indexing.html#indexing-view-versus-copy\n",
      "  \"\"\"Entry point for launching an IPython kernel.\n"
     ]
    }
   ],
   "source": [
    "df_5to_mes_only['mes'] = pd.to_datetime(df_5to_mes_only['timestamp']).dt.month"
   ]
  },
  {
   "cell_type": "code",
   "execution_count": 955,
   "metadata": {},
   "outputs": [],
   "source": [
    "df_5to_mes_only = df_5to_mes_only.groupby('mes').get_group(5)"
   ]
  },
  {
   "cell_type": "code",
   "execution_count": 956,
   "metadata": {},
   "outputs": [],
   "source": [
    "df_checkouts_5 = df_5to_mes_only.loc[df_5to_mes_only['event'] == 'checkout',:]"
   ]
  },
  {
   "cell_type": "code",
   "execution_count": 957,
   "metadata": {},
   "outputs": [],
   "source": [
    "df_num_check_person = df_checkouts_5.groupby('person').size().reset_index(name='cant_checkouts_5')"
   ]
  },
  {
   "cell_type": "code",
   "execution_count": 958,
   "metadata": {},
   "outputs": [],
   "source": [
    "df_features_mes_5 = df_personas.merge(df_num_check_person, on='person', how='left')"
   ]
  },
  {
   "cell_type": "code",
   "execution_count": 959,
   "metadata": {},
   "outputs": [],
   "source": [
    "df_pct_checkouts = df_5to_mes_only.groupby('person')['event'].value_counts(normalize=True)\\\n",
    "                                                            .reset_index(name='%checkouts')"
   ]
  },
  {
   "cell_type": "code",
   "execution_count": 960,
   "metadata": {},
   "outputs": [],
   "source": [
    "df_pct_checkouts = df_pct_checkouts.loc[df_pct_checkouts['event'] == 'checkout',:]"
   ]
  },
  {
   "cell_type": "code",
   "execution_count": 961,
   "metadata": {},
   "outputs": [],
   "source": [
    "df_pct_checkouts = df_pct_checkouts.drop(columns=['event'])"
   ]
  },
  {
   "cell_type": "code",
   "execution_count": 962,
   "metadata": {},
   "outputs": [],
   "source": [
    "df_pct_checkouts['%checkouts'] = df_pct_checkouts['%checkouts'] * 100 "
   ]
  },
  {
   "cell_type": "code",
   "execution_count": 963,
   "metadata": {},
   "outputs": [],
   "source": [
    "df_features_mes_5 = df_features_mes_5.merge(df_pct_checkouts, on='person', how='left')"
   ]
  },
  {
   "cell_type": "code",
   "execution_count": 964,
   "metadata": {},
   "outputs": [
    {
     "data": {
      "text/plain": [
       "(38829, 3)"
      ]
     },
     "execution_count": 964,
     "metadata": {},
     "output_type": "execute_result"
    }
   ],
   "source": [
    "df_features_mes_5.shape"
   ]
  },
  {
   "cell_type": "code",
   "execution_count": 965,
   "metadata": {},
   "outputs": [],
   "source": [
    "df_5to_mes_only['semana'] = pd.to_datetime(df_5to_mes_only['timestamp']).dt.week"
   ]
  },
  {
   "cell_type": "code",
   "execution_count": 966,
   "metadata": {},
   "outputs": [],
   "source": [
    "df_5to_mes_ultima_semana = df_5to_mes_only.groupby('semana').get_group(22)"
   ]
  },
  {
   "cell_type": "code",
   "execution_count": 967,
   "metadata": {},
   "outputs": [],
   "source": [
    "df_checkouts_ultima_semana = df_5to_mes_ultima_semana.groupby('person')['event'].value_counts()\\\n",
    "                                                    .reset_index(name='checkouts_ult_semana')"
   ]
  },
  {
   "cell_type": "code",
   "execution_count": 968,
   "metadata": {},
   "outputs": [],
   "source": [
    "df_checkouts_ultima_semana = df_checkouts_ultima_semana.loc[df_checkouts_ultima_semana['event'] == 'checkout',:]"
   ]
  },
  {
   "cell_type": "code",
   "execution_count": 969,
   "metadata": {},
   "outputs": [],
   "source": [
    "df_checkouts_ultima_semana = df_checkouts_ultima_semana.drop(columns=['event'])"
   ]
  },
  {
   "cell_type": "code",
   "execution_count": 970,
   "metadata": {},
   "outputs": [],
   "source": [
    "df_features_mes_5 = df_features_mes_5.merge(df_checkouts_ultima_semana, on='person', how='left')"
   ]
  },
  {
   "cell_type": "code",
   "execution_count": 971,
   "metadata": {},
   "outputs": [
    {
     "data": {
      "text/plain": [
       "(38829, 4)"
      ]
     },
     "execution_count": 971,
     "metadata": {},
     "output_type": "execute_result"
    }
   ],
   "source": [
    "df_features_mes_5.shape"
   ]
  },
  {
   "cell_type": "code",
   "execution_count": 972,
   "metadata": {},
   "outputs": [],
   "source": [
    "df_5to_mes_primera_semana = df_5to_mes_only.groupby('semana').get_group(18)"
   ]
  },
  {
   "cell_type": "code",
   "execution_count": 973,
   "metadata": {},
   "outputs": [],
   "source": [
    "df_actividad_primera_semana = df_5to_mes_primera_semana.groupby('person').size()\\\n",
    "                                                    .reset_index(name='act_primera_semana')"
   ]
  },
  {
   "cell_type": "code",
   "execution_count": 974,
   "metadata": {},
   "outputs": [],
   "source": [
    "df_actividad_ultima_semana = df_5to_mes_ultima_semana.groupby('person').size()\\\n",
    "                                                    .reset_index(name='act_ultima_semana')"
   ]
  },
  {
   "cell_type": "code",
   "execution_count": 975,
   "metadata": {},
   "outputs": [],
   "source": [
    "df_relacion_primera_ultima = df_actividad_primera_semana.merge(df_actividad_ultima_semana, on='person', how='outer')"
   ]
  },
  {
   "cell_type": "code",
   "execution_count": 976,
   "metadata": {},
   "outputs": [],
   "source": [
    "df_relacion_primera_ultima = df_relacion_primera_ultima.fillna(0)"
   ]
  },
  {
   "cell_type": "code",
   "execution_count": 977,
   "metadata": {},
   "outputs": [],
   "source": [
    "df_relacion_primera_ultima['mayor_actividad_ult_semana'] = df_relacion_primera_ultima['act_ultima_semana'] >= df_relacion_primera_ultima['act_primera_semana'] "
   ]
  },
  {
   "cell_type": "code",
   "execution_count": 978,
   "metadata": {},
   "outputs": [],
   "source": [
    "df_features_mes_5 = df_features_mes_5.merge(df_relacion_primera_ultima, on='person', how='left')"
   ]
  },
  {
   "cell_type": "code",
   "execution_count": 979,
   "metadata": {},
   "outputs": [
    {
     "data": {
      "text/plain": [
       "(38829, 7)"
      ]
     },
     "execution_count": 979,
     "metadata": {},
     "output_type": "execute_result"
    }
   ],
   "source": [
    "df_features_mes_5.shape"
   ]
  },
  {
   "cell_type": "code",
   "execution_count": 980,
   "metadata": {},
   "outputs": [],
   "source": [
    "df_cant_modelos = df_5to_mes_only.groupby('person')['model'].nunique().reset_index(name='cant_modelos_distintos')"
   ]
  },
  {
   "cell_type": "code",
   "execution_count": 981,
   "metadata": {},
   "outputs": [
    {
     "data": {
      "text/plain": [
       "(37143, 2)"
      ]
     },
     "execution_count": 981,
     "metadata": {},
     "output_type": "execute_result"
    }
   ],
   "source": [
    "df_cant_modelos.shape"
   ]
  },
  {
   "cell_type": "code",
   "execution_count": 982,
   "metadata": {},
   "outputs": [],
   "source": [
    "df_features_mes_5 = df_features_mes_5.merge(df_cant_modelos, on='person', how='left')"
   ]
  },
  {
   "cell_type": "code",
   "execution_count": 983,
   "metadata": {},
   "outputs": [
    {
     "data": {
      "text/plain": [
       "(38829, 8)"
      ]
     },
     "execution_count": 983,
     "metadata": {},
     "output_type": "execute_result"
    }
   ],
   "source": [
    "df_features_mes_5.shape"
   ]
  },
  {
   "cell_type": "code",
   "execution_count": 984,
   "metadata": {},
   "outputs": [],
   "source": [
    "df_cant_checkouts_dif_modelos = df_5to_mes_only.loc[df_5to_mes_only['event'] == 'checkout',:]"
   ]
  },
  {
   "cell_type": "code",
   "execution_count": 985,
   "metadata": {},
   "outputs": [],
   "source": [
    "df_cant_checkouts_dif_modelos = df_cant_checkouts_dif_modelos.groupby('person')['model'].nunique()\\\n",
    "                                                            .reset_index(name='cant_checkouts_dif_modelos')"
   ]
  },
  {
   "cell_type": "code",
   "execution_count": 986,
   "metadata": {},
   "outputs": [],
   "source": [
    "df_features_mes_5 = df_features_mes_5.merge(df_cant_checkouts_dif_modelos, on='person', how='left')"
   ]
  },
  {
   "cell_type": "code",
   "execution_count": 987,
   "metadata": {},
   "outputs": [
    {
     "data": {
      "text/plain": [
       "(38829, 9)"
      ]
     },
     "execution_count": 987,
     "metadata": {},
     "output_type": "execute_result"
    }
   ],
   "source": [
    "df_features_mes_5.shape"
   ]
  },
  {
   "cell_type": "code",
   "execution_count": 988,
   "metadata": {},
   "outputs": [],
   "source": [
    "df_interaccion_modelo = df_5to_mes_only.groupby(['person','model']).size().reset_index(name='cant_interacciones_por_modelo')"
   ]
  },
  {
   "cell_type": "code",
   "execution_count": 989,
   "metadata": {},
   "outputs": [],
   "source": [
    "df_datos_int_modelos = df_interaccion_modelo.groupby('person')\\\n",
    ".agg({'cant_interacciones_por_modelo' : ['max','mean']}).reset_index()"
   ]
  },
  {
   "cell_type": "code",
   "execution_count": 990,
   "metadata": {},
   "outputs": [],
   "source": [
    "df_datos_int_modelos.columns = df_datos_int_modelos.columns.droplevel(0)"
   ]
  },
  {
   "cell_type": "code",
   "execution_count": 991,
   "metadata": {},
   "outputs": [],
   "source": [
    "df_datos_int_modelos.columns = ['person','MAX(cant_interacciones_por_modelo)','MEAN(cant_interacciones_por_modelo)']"
   ]
  },
  {
   "cell_type": "code",
   "execution_count": 992,
   "metadata": {},
   "outputs": [],
   "source": [
    "df_features_mes_5 = df_features_mes_5.merge(df_datos_int_modelos, on='person', how='left')"
   ]
  },
  {
   "cell_type": "code",
   "execution_count": 993,
   "metadata": {},
   "outputs": [
    {
     "data": {
      "text/plain": [
       "(38829, 11)"
      ]
     },
     "execution_count": 993,
     "metadata": {},
     "output_type": "execute_result"
    }
   ],
   "source": [
    "df_features_mes_5.shape"
   ]
  },
  {
   "cell_type": "code",
   "execution_count": 994,
   "metadata": {},
   "outputs": [],
   "source": [
    "df_checkouts_modelo = df_checkouts_5.groupby(['person','model']).size().reset_index(name='cant_checkout_por_modelo')"
   ]
  },
  {
   "cell_type": "code",
   "execution_count": 995,
   "metadata": {
    "scrolled": true
   },
   "outputs": [
    {
     "data": {
      "text/html": [
       "<div>\n",
       "<style scoped>\n",
       "    .dataframe tbody tr th:only-of-type {\n",
       "        vertical-align: middle;\n",
       "    }\n",
       "\n",
       "    .dataframe tbody tr th {\n",
       "        vertical-align: top;\n",
       "    }\n",
       "\n",
       "    .dataframe thead th {\n",
       "        text-align: right;\n",
       "    }\n",
       "</style>\n",
       "<table border=\"1\" class=\"dataframe\">\n",
       "  <thead>\n",
       "    <tr style=\"text-align: right;\">\n",
       "      <th></th>\n",
       "      <th>person</th>\n",
       "      <th>model</th>\n",
       "      <th>cant_checkout_por_modelo</th>\n",
       "    </tr>\n",
       "  </thead>\n",
       "  <tbody>\n",
       "    <tr>\n",
       "      <th>0</th>\n",
       "      <td>0008ed71</td>\n",
       "      <td>LG G4 H818P</td>\n",
       "      <td>1</td>\n",
       "    </tr>\n",
       "    <tr>\n",
       "      <th>1</th>\n",
       "      <td>0008ed71</td>\n",
       "      <td>Samsung Galaxy S6 Flat</td>\n",
       "      <td>1</td>\n",
       "    </tr>\n",
       "    <tr>\n",
       "      <th>2</th>\n",
       "      <td>0008ed71</td>\n",
       "      <td>iPhone SE</td>\n",
       "      <td>1</td>\n",
       "    </tr>\n",
       "    <tr>\n",
       "      <th>3</th>\n",
       "      <td>00091926</td>\n",
       "      <td>iPhone 6S</td>\n",
       "      <td>2</td>\n",
       "    </tr>\n",
       "    <tr>\n",
       "      <th>4</th>\n",
       "      <td>000ba417</td>\n",
       "      <td>Motorola Moto G3 4G</td>\n",
       "      <td>1</td>\n",
       "    </tr>\n",
       "  </tbody>\n",
       "</table>\n",
       "</div>"
      ],
      "text/plain": [
       "     person                   model  cant_checkout_por_modelo\n",
       "0  0008ed71             LG G4 H818P                         1\n",
       "1  0008ed71  Samsung Galaxy S6 Flat                         1\n",
       "2  0008ed71               iPhone SE                         1\n",
       "3  00091926               iPhone 6S                         2\n",
       "4  000ba417     Motorola Moto G3 4G                         1"
      ]
     },
     "execution_count": 995,
     "metadata": {},
     "output_type": "execute_result"
    }
   ],
   "source": [
    "df_checkouts_modelo.head()"
   ]
  },
  {
   "cell_type": "code",
   "execution_count": 997,
   "metadata": {},
   "outputs": [
    {
     "data": {
      "text/plain": [
       "(38829, 11)"
      ]
     },
     "execution_count": 997,
     "metadata": {},
     "output_type": "execute_result"
    }
   ],
   "source": [
    "df_features_mes_5.shape"
   ]
  },
  {
   "cell_type": "code",
   "execution_count": 999,
   "metadata": {},
   "outputs": [],
   "source": [
    "def my_agg(x):\n",
    "    names = {\n",
    "        'Checkout max': x['cant_checkout_por_modelo'].max(),\n",
    "        'Checkout mean': x['cant_checkout_por_modelo'].mean()\n",
    "    }\n",
    "    return pd.Series(names, index=['Checkout max','Checkout mean'])"
   ]
  },
  {
   "cell_type": "code",
   "execution_count": 1000,
   "metadata": {},
   "outputs": [],
   "source": [
    "df_checkouts_modelo = df_checkouts_modelo.groupby('person').apply(my_agg)"
   ]
  },
  {
   "cell_type": "code",
   "execution_count": 1004,
   "metadata": {},
   "outputs": [],
   "source": [
    "df_features_mes_5 = df_features_mes_5.merge(df_checkouts_modelo, on='person', how='left')"
   ]
  },
  {
   "cell_type": "code",
   "execution_count": 1005,
   "metadata": {},
   "outputs": [],
   "source": [
    "df_features_mes_5 = df_features_mes_5.fillna(0)"
   ]
  },
  {
   "cell_type": "code",
   "execution_count": 1006,
   "metadata": {},
   "outputs": [],
   "source": [
    "df_features_mes_5['mayor_actividad_ult_semana'] = df_features_mes_5['mayor_actividad_ult_semana'].astype(int)"
   ]
  },
  {
   "cell_type": "code",
   "execution_count": 1008,
   "metadata": {},
   "outputs": [
    {
     "data": {
      "text/plain": [
       "(38829, 13)"
      ]
     },
     "execution_count": 1008,
     "metadata": {},
     "output_type": "execute_result"
    }
   ],
   "source": [
    "df_features_mes_5.shape"
   ]
  },
  {
   "cell_type": "code",
   "execution_count": 1009,
   "metadata": {},
   "outputs": [],
   "source": [
    "df_5to_mes_only_lead = df_5to_mes_only.groupby('event').get_group('lead')"
   ]
  },
  {
   "cell_type": "code",
   "execution_count": 1010,
   "metadata": {},
   "outputs": [],
   "source": [
    "df_5to_mes_only_lead_cantidad = df_5to_mes_only_lead.groupby('person').size().reset_index(name='cant_lead_5to_mes')"
   ]
  },
  {
   "cell_type": "code",
   "execution_count": 1011,
   "metadata": {},
   "outputs": [
    {
     "data": {
      "text/plain": [
       "(239, 2)"
      ]
     },
     "execution_count": 1011,
     "metadata": {},
     "output_type": "execute_result"
    }
   ],
   "source": [
    "df_5to_mes_only_lead_cantidad.shape"
   ]
  },
  {
   "cell_type": "code",
   "execution_count": 1012,
   "metadata": {},
   "outputs": [],
   "source": [
    "df_features_mes_5 = df_features_mes_5.merge(df_5to_mes_only_lead_cantidad, on='person', how='left')"
   ]
  },
  {
   "cell_type": "code",
   "execution_count": 1013,
   "metadata": {},
   "outputs": [],
   "source": [
    "df_features_mes_5 = df_features_mes_5.fillna(0)"
   ]
  },
  {
   "cell_type": "code",
   "execution_count": 1014,
   "metadata": {},
   "outputs": [],
   "source": [
    "df_5to_mes_lead_cantidad_modelos_consultados = df_5to_mes_only_lead.groupby('person')['model'].nunique()\\\n",
    "                                                                .reset_index(name='cant_modelos_que_consulto_stock')"
   ]
  },
  {
   "cell_type": "code",
   "execution_count": 1015,
   "metadata": {},
   "outputs": [],
   "source": [
    "df_features_mes_5 = df_features_mes_5.merge(df_5to_mes_lead_cantidad_modelos_consultados, on='person',how='left')"
   ]
  },
  {
   "cell_type": "code",
   "execution_count": 1016,
   "metadata": {},
   "outputs": [],
   "source": [
    "df_features_mes_5 = df_features_mes_5.fillna(0)"
   ]
  },
  {
   "cell_type": "code",
   "execution_count": 1017,
   "metadata": {},
   "outputs": [],
   "source": [
    "df_features_mes_5.to_csv(path_or_buf = 'features_numericos_mes_5.csv', index = False)"
   ]
  },
  {
   "cell_type": "code",
   "execution_count": 1018,
   "metadata": {},
   "outputs": [
    {
     "data": {
      "text/plain": [
       "(38829, 15)"
      ]
     },
     "execution_count": 1018,
     "metadata": {},
     "output_type": "execute_result"
    }
   ],
   "source": [
    "df_features_mes_5.shape"
   ]
  },
  {
   "cell_type": "code",
   "execution_count": 1019,
   "metadata": {},
   "outputs": [
    {
     "data": {
      "text/plain": [
       "(38829, 24)"
      ]
     },
     "execution_count": 1019,
     "metadata": {},
     "output_type": "execute_result"
    }
   ],
   "source": [
    "df_features_numericos.shape"
   ]
  },
  {
   "cell_type": "markdown",
   "metadata": {},
   "source": [
    "# Merge features mes 5 con features de Nacho"
   ]
  },
  {
   "cell_type": "code",
   "execution_count": 1020,
   "metadata": {},
   "outputs": [],
   "source": [
    "df_nacho = pd.read_csv('features_nacho.csv', low_memory=False)"
   ]
  },
  {
   "cell_type": "code",
   "execution_count": 1021,
   "metadata": {},
   "outputs": [
    {
     "data": {
      "text/plain": [
       "Index(['person', 'conversion_sum', 'conversion_mean', 'viewed_sum',\n",
       "       'viewed_mean', 'viewed_std', 'dif_5_check', 'last_day_check',\n",
       "       'first_day_check', 'last_week_check', 'first_week_check'],\n",
       "      dtype='object')"
      ]
     },
     "execution_count": 1021,
     "metadata": {},
     "output_type": "execute_result"
    }
   ],
   "source": [
    "df_nacho.columns"
   ]
  },
  {
   "cell_type": "code",
   "execution_count": 1022,
   "metadata": {},
   "outputs": [],
   "source": [
    "df_features_mes_5 = pd.read_csv('features_numericos_mes_5.csv', low_memory=False)"
   ]
  },
  {
   "cell_type": "code",
   "execution_count": 1023,
   "metadata": {},
   "outputs": [
    {
     "data": {
      "text/plain": [
       "Index(['person', 'cant_checkouts_5', '%checkouts', 'checkouts_ult_semana',\n",
       "       'act_primera_semana', 'act_ultima_semana', 'mayor_actividad_ult_semana',\n",
       "       'cant_modelos_distintos', 'cant_checkouts_dif_modelos',\n",
       "       'MAX(cant_interacciones_por_modelo)',\n",
       "       'MEAN(cant_interacciones_por_modelo)', 'Checkout max', 'Checkout mean',\n",
       "       'cant_lead_5to_mes', 'cant_modelos_que_consulto_stock'],\n",
       "      dtype='object')"
      ]
     },
     "execution_count": 1023,
     "metadata": {},
     "output_type": "execute_result"
    }
   ],
   "source": [
    "df_features_mes_5.columns"
   ]
  },
  {
   "cell_type": "code",
   "execution_count": 1024,
   "metadata": {},
   "outputs": [],
   "source": [
    "df_features_numericos = df_nacho.merge(df_features_mes_5, on='person', how='outer')"
   ]
  },
  {
   "cell_type": "code",
   "execution_count": 1025,
   "metadata": {},
   "outputs": [
    {
     "data": {
      "text/plain": [
       "Index(['person', 'conversion_sum', 'conversion_mean', 'viewed_sum',\n",
       "       'viewed_mean', 'viewed_std', 'dif_5_check', 'last_day_check',\n",
       "       'first_day_check', 'last_week_check', 'first_week_check',\n",
       "       'cant_checkouts_5', '%checkouts', 'checkouts_ult_semana',\n",
       "       'act_primera_semana', 'act_ultima_semana', 'mayor_actividad_ult_semana',\n",
       "       'cant_modelos_distintos', 'cant_checkouts_dif_modelos',\n",
       "       'MAX(cant_interacciones_por_modelo)',\n",
       "       'MEAN(cant_interacciones_por_modelo)', 'Checkout max', 'Checkout mean',\n",
       "       'cant_lead_5to_mes', 'cant_modelos_que_consulto_stock'],\n",
       "      dtype='object')"
      ]
     },
     "execution_count": 1025,
     "metadata": {},
     "output_type": "execute_result"
    }
   ],
   "source": [
    "df_features_numericos.columns"
   ]
  },
  {
   "cell_type": "code",
   "execution_count": 1026,
   "metadata": {},
   "outputs": [
    {
     "data": {
      "text/html": [
       "<div>\n",
       "<style scoped>\n",
       "    .dataframe tbody tr th:only-of-type {\n",
       "        vertical-align: middle;\n",
       "    }\n",
       "\n",
       "    .dataframe tbody tr th {\n",
       "        vertical-align: top;\n",
       "    }\n",
       "\n",
       "    .dataframe thead th {\n",
       "        text-align: right;\n",
       "    }\n",
       "</style>\n",
       "<table border=\"1\" class=\"dataframe\">\n",
       "  <thead>\n",
       "    <tr style=\"text-align: right;\">\n",
       "      <th></th>\n",
       "      <th>person</th>\n",
       "      <th>conversion_sum</th>\n",
       "      <th>conversion_mean</th>\n",
       "      <th>viewed_sum</th>\n",
       "      <th>viewed_mean</th>\n",
       "      <th>viewed_std</th>\n",
       "      <th>dif_5_check</th>\n",
       "      <th>last_day_check</th>\n",
       "      <th>first_day_check</th>\n",
       "      <th>last_week_check</th>\n",
       "      <th>...</th>\n",
       "      <th>act_ultima_semana</th>\n",
       "      <th>mayor_actividad_ult_semana</th>\n",
       "      <th>cant_modelos_distintos</th>\n",
       "      <th>cant_checkouts_dif_modelos</th>\n",
       "      <th>MAX(cant_interacciones_por_modelo)</th>\n",
       "      <th>MEAN(cant_interacciones_por_modelo)</th>\n",
       "      <th>Checkout max</th>\n",
       "      <th>Checkout mean</th>\n",
       "      <th>cant_lead_5to_mes</th>\n",
       "      <th>cant_modelos_que_consulto_stock</th>\n",
       "    </tr>\n",
       "  </thead>\n",
       "  <tbody>\n",
       "    <tr>\n",
       "      <th>0</th>\n",
       "      <td>4886f805</td>\n",
       "      <td>0.0</td>\n",
       "      <td>0.0</td>\n",
       "      <td>4.0</td>\n",
       "      <td>NaN</td>\n",
       "      <td>4.000000</td>\n",
       "      <td>0.0</td>\n",
       "      <td>18.0</td>\n",
       "      <td>18.0</td>\n",
       "      <td>4.0</td>\n",
       "      <td>...</td>\n",
       "      <td>0.0</td>\n",
       "      <td>0</td>\n",
       "      <td>1.0</td>\n",
       "      <td>1.0</td>\n",
       "      <td>5.0</td>\n",
       "      <td>5.000000</td>\n",
       "      <td>1.0</td>\n",
       "      <td>1.0</td>\n",
       "      <td>0.0</td>\n",
       "      <td>0.0</td>\n",
       "    </tr>\n",
       "    <tr>\n",
       "      <th>1</th>\n",
       "      <td>ad93850f</td>\n",
       "      <td>0.0</td>\n",
       "      <td>0.0</td>\n",
       "      <td>20.0</td>\n",
       "      <td>7.371115</td>\n",
       "      <td>6.666667</td>\n",
       "      <td>0.0</td>\n",
       "      <td>14.0</td>\n",
       "      <td>14.0</td>\n",
       "      <td>0.0</td>\n",
       "      <td>...</td>\n",
       "      <td>0.0</td>\n",
       "      <td>0</td>\n",
       "      <td>3.0</td>\n",
       "      <td>1.0</td>\n",
       "      <td>18.0</td>\n",
       "      <td>7.000000</td>\n",
       "      <td>1.0</td>\n",
       "      <td>1.0</td>\n",
       "      <td>0.0</td>\n",
       "      <td>0.0</td>\n",
       "    </tr>\n",
       "    <tr>\n",
       "      <th>2</th>\n",
       "      <td>0297fc1e</td>\n",
       "      <td>0.0</td>\n",
       "      <td>0.0</td>\n",
       "      <td>404.0</td>\n",
       "      <td>5.228295</td>\n",
       "      <td>7.214286</td>\n",
       "      <td>12.0</td>\n",
       "      <td>22.0</td>\n",
       "      <td>10.0</td>\n",
       "      <td>1.0</td>\n",
       "      <td>...</td>\n",
       "      <td>8.0</td>\n",
       "      <td>0</td>\n",
       "      <td>11.0</td>\n",
       "      <td>2.0</td>\n",
       "      <td>79.0</td>\n",
       "      <td>12.272727</td>\n",
       "      <td>1.0</td>\n",
       "      <td>1.0</td>\n",
       "      <td>0.0</td>\n",
       "      <td>0.0</td>\n",
       "    </tr>\n",
       "    <tr>\n",
       "      <th>3</th>\n",
       "      <td>2d681dd8</td>\n",
       "      <td>0.0</td>\n",
       "      <td>0.0</td>\n",
       "      <td>13.0</td>\n",
       "      <td>0.707107</td>\n",
       "      <td>6.500000</td>\n",
       "      <td>0.0</td>\n",
       "      <td>27.0</td>\n",
       "      <td>27.0</td>\n",
       "      <td>6.0</td>\n",
       "      <td>...</td>\n",
       "      <td>0.0</td>\n",
       "      <td>0</td>\n",
       "      <td>3.0</td>\n",
       "      <td>1.0</td>\n",
       "      <td>6.0</td>\n",
       "      <td>4.666667</td>\n",
       "      <td>1.0</td>\n",
       "      <td>1.0</td>\n",
       "      <td>0.0</td>\n",
       "      <td>0.0</td>\n",
       "    </tr>\n",
       "    <tr>\n",
       "      <th>4</th>\n",
       "      <td>cccea85e</td>\n",
       "      <td>0.0</td>\n",
       "      <td>0.0</td>\n",
       "      <td>739.0</td>\n",
       "      <td>26.241971</td>\n",
       "      <td>56.846154</td>\n",
       "      <td>0.0</td>\n",
       "      <td>11.0</td>\n",
       "      <td>11.0</td>\n",
       "      <td>4.0</td>\n",
       "      <td>...</td>\n",
       "      <td>252.0</td>\n",
       "      <td>1</td>\n",
       "      <td>57.0</td>\n",
       "      <td>1.0</td>\n",
       "      <td>253.0</td>\n",
       "      <td>12.982456</td>\n",
       "      <td>1.0</td>\n",
       "      <td>1.0</td>\n",
       "      <td>0.0</td>\n",
       "      <td>0.0</td>\n",
       "    </tr>\n",
       "  </tbody>\n",
       "</table>\n",
       "<p>5 rows × 25 columns</p>\n",
       "</div>"
      ],
      "text/plain": [
       "     person  conversion_sum  conversion_mean  viewed_sum  viewed_mean  \\\n",
       "0  4886f805             0.0              0.0         4.0          NaN   \n",
       "1  ad93850f             0.0              0.0        20.0     7.371115   \n",
       "2  0297fc1e             0.0              0.0       404.0     5.228295   \n",
       "3  2d681dd8             0.0              0.0        13.0     0.707107   \n",
       "4  cccea85e             0.0              0.0       739.0    26.241971   \n",
       "\n",
       "   viewed_std  dif_5_check  last_day_check  first_day_check  last_week_check  \\\n",
       "0    4.000000          0.0            18.0             18.0              4.0   \n",
       "1    6.666667          0.0            14.0             14.0              0.0   \n",
       "2    7.214286         12.0            22.0             10.0              1.0   \n",
       "3    6.500000          0.0            27.0             27.0              6.0   \n",
       "4   56.846154          0.0            11.0             11.0              4.0   \n",
       "\n",
       "                ...                 act_ultima_semana  \\\n",
       "0               ...                               0.0   \n",
       "1               ...                               0.0   \n",
       "2               ...                               8.0   \n",
       "3               ...                               0.0   \n",
       "4               ...                             252.0   \n",
       "\n",
       "   mayor_actividad_ult_semana  cant_modelos_distintos  \\\n",
       "0                           0                     1.0   \n",
       "1                           0                     3.0   \n",
       "2                           0                    11.0   \n",
       "3                           0                     3.0   \n",
       "4                           1                    57.0   \n",
       "\n",
       "   cant_checkouts_dif_modelos  MAX(cant_interacciones_por_modelo)  \\\n",
       "0                         1.0                                 5.0   \n",
       "1                         1.0                                18.0   \n",
       "2                         2.0                                79.0   \n",
       "3                         1.0                                 6.0   \n",
       "4                         1.0                               253.0   \n",
       "\n",
       "   MEAN(cant_interacciones_por_modelo)  Checkout max  Checkout mean  \\\n",
       "0                             5.000000           1.0            1.0   \n",
       "1                             7.000000           1.0            1.0   \n",
       "2                            12.272727           1.0            1.0   \n",
       "3                             4.666667           1.0            1.0   \n",
       "4                            12.982456           1.0            1.0   \n",
       "\n",
       "   cant_lead_5to_mes  cant_modelos_que_consulto_stock  \n",
       "0                0.0                              0.0  \n",
       "1                0.0                              0.0  \n",
       "2                0.0                              0.0  \n",
       "3                0.0                              0.0  \n",
       "4                0.0                              0.0  \n",
       "\n",
       "[5 rows x 25 columns]"
      ]
     },
     "execution_count": 1026,
     "metadata": {},
     "output_type": "execute_result"
    }
   ],
   "source": [
    "df_features_numericos.head()"
   ]
  },
  {
   "cell_type": "markdown",
   "metadata": {},
   "source": [
    "Features numericos que saque antes, que no son solo del mes 5"
   ]
  },
  {
   "cell_type": "code",
   "execution_count": 1027,
   "metadata": {},
   "outputs": [],
   "source": [
    "df_features_numericos_viejos = pd.read_csv('features_numericos.csv', low_memory=False)"
   ]
  },
  {
   "cell_type": "code",
   "execution_count": 1028,
   "metadata": {},
   "outputs": [],
   "source": [
    "df_features_numericos_viejos = df_features_numericos_viejos[['person', 'Cantidad_visitas', 'Promedio_visitas_producto',\\\n",
    "       'horas_mirando_productos', 'visitas_mes1', 'visitas_mes2',\\\n",
    "       'visitas_mes3', 'visitas_mes4', 'visitas_mes5',\\\n",
    "       'promedio_ingreso_mensual']]"
   ]
  },
  {
   "cell_type": "code",
   "execution_count": 1029,
   "metadata": {},
   "outputs": [
    {
     "data": {
      "text/plain": [
       "Index(['person', 'Cantidad_visitas', 'Promedio_visitas_producto',\n",
       "       'horas_mirando_productos', 'visitas_mes1', 'visitas_mes2',\n",
       "       'visitas_mes3', 'visitas_mes4', 'visitas_mes5',\n",
       "       'promedio_ingreso_mensual'],\n",
       "      dtype='object')"
      ]
     },
     "execution_count": 1029,
     "metadata": {},
     "output_type": "execute_result"
    }
   ],
   "source": [
    "df_features_numericos_viejos.columns"
   ]
  },
  {
   "cell_type": "code",
   "execution_count": 1030,
   "metadata": {},
   "outputs": [],
   "source": [
    "df_features_numericos = df_features_numericos.merge(df_features_numericos_viejos, on='person', how='left')"
   ]
  },
  {
   "cell_type": "code",
   "execution_count": 1031,
   "metadata": {},
   "outputs": [],
   "source": [
    "df_features_numericos = df_features_numericos.fillna(0) "
   ]
  },
  {
   "cell_type": "code",
   "execution_count": 1032,
   "metadata": {},
   "outputs": [
    {
     "data": {
      "text/plain": [
       "(38829, 34)"
      ]
     },
     "execution_count": 1032,
     "metadata": {},
     "output_type": "execute_result"
    }
   ],
   "source": [
    "df_features_numericos.shape"
   ]
  },
  {
   "cell_type": "code",
   "execution_count": 1033,
   "metadata": {},
   "outputs": [],
   "source": [
    "df_features_numericos_reduccion_repetidos = df_features_numericos.T.drop_duplicates().T"
   ]
  },
  {
   "cell_type": "code",
   "execution_count": 1034,
   "metadata": {},
   "outputs": [
    {
     "data": {
      "text/plain": [
       "(38829, 34)"
      ]
     },
     "execution_count": 1034,
     "metadata": {},
     "output_type": "execute_result"
    }
   ],
   "source": [
    "df_features_numericos_reduccion_repetidos.shape"
   ]
  },
  {
   "cell_type": "code",
   "execution_count": 1035,
   "metadata": {},
   "outputs": [],
   "source": [
    "df_features_numericos.to_csv(path_or_buf = 'features_numericos_merge_final.csv',index = False)"
   ]
  }
 ],
 "metadata": {
  "kernelspec": {
   "display_name": "Python 3",
   "language": "python",
   "name": "python3"
  },
  "language_info": {
   "codemirror_mode": {
    "name": "ipython",
    "version": 3
   },
   "file_extension": ".py",
   "mimetype": "text/x-python",
   "name": "python",
   "nbconvert_exporter": "python",
   "pygments_lexer": "ipython3",
   "version": "3.7.0"
  }
 },
 "nbformat": 4,
 "nbformat_minor": 2
}
