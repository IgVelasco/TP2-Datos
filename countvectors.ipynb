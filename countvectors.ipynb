{
 "cells": [
  {
   "cell_type": "code",
   "execution_count": 1,
   "metadata": {},
   "outputs": [],
   "source": [
    "import numpy as np\n",
    "import pandas as pd\n",
    "from sklearn import model_selection\n",
    "from sklearn.linear_model import LogisticRegression\n",
    "from sklearn.naive_bayes import GaussianNB\n",
    "from sklearn.model_selection import train_test_split\n",
    "from sklearn.feature_extraction.text import CountVectorizer\n",
    "\n"
   ]
  },
  {
   "cell_type": "code",
   "execution_count": 2,
   "metadata": {},
   "outputs": [],
   "source": [
    "df = pd.read_csv('events_up_to_01062018.csv', low_memory = False)\n",
    "df_labels= pd.read_csv('labels_training_set.csv', low_memory = False)"
   ]
  },
  {
   "cell_type": "code",
   "execution_count": 3,
   "metadata": {},
   "outputs": [],
   "source": [
    "df_conversion = df.loc[df['event'] == 'conversion']\n",
    "models_converted = (df_conversion['model'].value_counts())\n",
    "df_top_models =(models_converted.head(10)).index\n",
    "\n",
    "df_top_models = pd.Series(df_top_models)\n",
    "models_converted = df_top_models.values\n",
    "models_converted = np.array([x.lower() if isinstance(x, str) else x for x in models_converted])\n",
    "models_converted = list(list(models_converted))"
   ]
  },
  {
   "cell_type": "code",
   "execution_count": 4,
   "metadata": {},
   "outputs": [
    {
     "data": {
      "text/html": [
       "<div>\n",
       "<style scoped>\n",
       "    .dataframe tbody tr th:only-of-type {\n",
       "        vertical-align: middle;\n",
       "    }\n",
       "\n",
       "    .dataframe tbody tr th {\n",
       "        vertical-align: top;\n",
       "    }\n",
       "\n",
       "    .dataframe thead th {\n",
       "        text-align: right;\n",
       "    }\n",
       "</style>\n",
       "<table border=\"1\" class=\"dataframe\">\n",
       "  <thead>\n",
       "    <tr style=\"text-align: right;\">\n",
       "      <th></th>\n",
       "      <th>person</th>\n",
       "      <th>model</th>\n",
       "    </tr>\n",
       "  </thead>\n",
       "  <tbody>\n",
       "    <tr>\n",
       "      <th>0</th>\n",
       "      <td>00091926</td>\n",
       "      <td>[iPhone 6 Plus, iPhone 6S, iPhone 6S, Motorola...</td>\n",
       "    </tr>\n",
       "    <tr>\n",
       "      <th>1</th>\n",
       "      <td>00091a7a</td>\n",
       "      <td>[iPhone SE, iPhone 6, iPhone 6S]</td>\n",
       "    </tr>\n",
       "    <tr>\n",
       "      <th>2</th>\n",
       "      <td>000ba417</td>\n",
       "      <td>[Samsung Galaxy A3 2016, Samsung Galaxy Gran P...</td>\n",
       "    </tr>\n",
       "    <tr>\n",
       "      <th>3</th>\n",
       "      <td>000c79fe</td>\n",
       "      <td>[iPhone 7, iPhone 7, iPhone 7]</td>\n",
       "    </tr>\n",
       "    <tr>\n",
       "      <th>4</th>\n",
       "      <td>000e4d9e</td>\n",
       "      <td>[Samsung Galaxy S4 i9505, Samsung Galaxy S6 Fl...</td>\n",
       "    </tr>\n",
       "  </tbody>\n",
       "</table>\n",
       "</div>"
      ],
      "text/plain": [
       "     person                                              model\n",
       "0  00091926  [iPhone 6 Plus, iPhone 6S, iPhone 6S, Motorola...\n",
       "1  00091a7a                   [iPhone SE, iPhone 6, iPhone 6S]\n",
       "2  000ba417  [Samsung Galaxy A3 2016, Samsung Galaxy Gran P...\n",
       "3  000c79fe                     [iPhone 7, iPhone 7, iPhone 7]\n",
       "4  000e4d9e  [Samsung Galaxy S4 i9505, Samsung Galaxy S6 Fl..."
      ]
     },
     "execution_count": 4,
     "metadata": {},
     "output_type": "execute_result"
    }
   ],
   "source": [
    "df_model = df.loc[df['event'] == 'viewed product']\n",
    "df_model = df_model.groupby('person')['model'].apply(list).reset_index()\n",
    "df_model.head()"
   ]
  },
  {
   "cell_type": "code",
   "execution_count": 5,
   "metadata": {
    "scrolled": true
   },
   "outputs": [
    {
     "data": {
      "text/html": [
       "<div>\n",
       "<style scoped>\n",
       "    .dataframe tbody tr th:only-of-type {\n",
       "        vertical-align: middle;\n",
       "    }\n",
       "\n",
       "    .dataframe tbody tr th {\n",
       "        vertical-align: top;\n",
       "    }\n",
       "\n",
       "    .dataframe thead th {\n",
       "        text-align: right;\n",
       "    }\n",
       "</style>\n",
       "<table border=\"1\" class=\"dataframe\">\n",
       "  <thead>\n",
       "    <tr style=\"text-align: right;\">\n",
       "      <th></th>\n",
       "      <th>person</th>\n",
       "      <th>model</th>\n",
       "      <th>cantidad_vistos</th>\n",
       "    </tr>\n",
       "  </thead>\n",
       "  <tbody>\n",
       "    <tr>\n",
       "      <th>0</th>\n",
       "      <td>00091926</td>\n",
       "      <td>iPhone 6 Plus, iPhone 6S, iPhone 6S, Motorola ...</td>\n",
       "      <td>372</td>\n",
       "    </tr>\n",
       "    <tr>\n",
       "      <th>1</th>\n",
       "      <td>00091a7a</td>\n",
       "      <td>iPhone SE, iPhone 6, iPhone 6S</td>\n",
       "      <td>3</td>\n",
       "    </tr>\n",
       "    <tr>\n",
       "      <th>2</th>\n",
       "      <td>000ba417</td>\n",
       "      <td>Samsung Galaxy A3 2016, Samsung Galaxy Gran Pr...</td>\n",
       "      <td>153</td>\n",
       "    </tr>\n",
       "    <tr>\n",
       "      <th>3</th>\n",
       "      <td>000c79fe</td>\n",
       "      <td>iPhone 7, iPhone 7, iPhone 7</td>\n",
       "      <td>3</td>\n",
       "    </tr>\n",
       "    <tr>\n",
       "      <th>4</th>\n",
       "      <td>000e4d9e</td>\n",
       "      <td>Samsung Galaxy S4 i9505, Samsung Galaxy S6 Fla...</td>\n",
       "      <td>339</td>\n",
       "    </tr>\n",
       "  </tbody>\n",
       "</table>\n",
       "</div>"
      ],
      "text/plain": [
       "     person                                              model  \\\n",
       "0  00091926  iPhone 6 Plus, iPhone 6S, iPhone 6S, Motorola ...   \n",
       "1  00091a7a                     iPhone SE, iPhone 6, iPhone 6S   \n",
       "2  000ba417  Samsung Galaxy A3 2016, Samsung Galaxy Gran Pr...   \n",
       "3  000c79fe                       iPhone 7, iPhone 7, iPhone 7   \n",
       "4  000e4d9e  Samsung Galaxy S4 i9505, Samsung Galaxy S6 Fla...   \n",
       "\n",
       "   cantidad_vistos  \n",
       "0              372  \n",
       "1                3  \n",
       "2              153  \n",
       "3                3  \n",
       "4              339  "
      ]
     },
     "execution_count": 5,
     "metadata": {},
     "output_type": "execute_result"
    }
   ],
   "source": [
    "df_model['cantidad_vistos'] = df_model['model'].apply(len)\n",
    "df_model['model'] = df_model['model'].apply(lambda x: ', '.join(map(str, x)))\n",
    "df_model = df_model.fillna('')\n",
    "df_model.head()"
   ]
  },
  {
   "cell_type": "code",
   "execution_count": 6,
   "metadata": {},
   "outputs": [
    {
     "data": {
      "text/plain": [
       "['samsung galaxy j5',\n",
       " 'iphone 5s',\n",
       " 'iphone 6',\n",
       " 'iphone 6s',\n",
       " 'motorola moto g2 3g dual',\n",
       " 'samsung galaxy j7 prime',\n",
       " 'motorola moto g4 plus',\n",
       " 'samsung galaxy s7',\n",
       " 'samsung galaxy s6 flat',\n",
       " 'samsung galaxy s7 edge']"
      ]
     },
     "execution_count": 6,
     "metadata": {},
     "output_type": "execute_result"
    }
   ],
   "source": [
    "list(models_converted)"
   ]
  },
  {
   "cell_type": "code",
   "execution_count": 7,
   "metadata": {},
   "outputs": [
    {
     "data": {
      "text/plain": [
       "(37130, 10)"
      ]
     },
     "execution_count": 7,
     "metadata": {},
     "output_type": "execute_result"
    }
   ],
   "source": [
    "word_vectorizer = CountVectorizer(vocabulary = models_converted, tokenizer=lambda x: x.split(', '))\n",
    "\n",
    "tf_mat = word_vectorizer.fit_transform(df_model['model'])\n",
    "\n",
    "tf_array = tf_mat.toarray()\n",
    "tf_array.shape"
   ]
  },
  {
   "cell_type": "code",
   "execution_count": 8,
   "metadata": {},
   "outputs": [],
   "source": [
    "feature_names = word_vectorizer.get_feature_names()"
   ]
  },
  {
   "cell_type": "code",
   "execution_count": 9,
   "metadata": {
    "scrolled": false
   },
   "outputs": [
    {
     "data": {
      "text/plain": [
       "(37130, 12)"
      ]
     },
     "execution_count": 9,
     "metadata": {},
     "output_type": "execute_result"
    }
   ],
   "source": [
    "df_tfidf = pd.DataFrame(tf_array, columns=feature_names)\n",
    "df_tfidf['person'] = df_model['person']\n",
    "df_tfidf['cantidad_vistos'] = df_model['cantidad_vistos']\n",
    "df_tfidf.shape"
   ]
  },
  {
   "cell_type": "code",
   "execution_count": null,
   "metadata": {},
   "outputs": [],
   "source": []
  },
  {
   "cell_type": "code",
   "execution_count": 10,
   "metadata": {},
   "outputs": [],
   "source": [
    "df_searched = df.loc[df['search_term'].notnull()]"
   ]
  },
  {
   "cell_type": "code",
   "execution_count": 11,
   "metadata": {},
   "outputs": [
    {
     "data": {
      "text/html": [
       "<div>\n",
       "<style scoped>\n",
       "    .dataframe tbody tr th:only-of-type {\n",
       "        vertical-align: middle;\n",
       "    }\n",
       "\n",
       "    .dataframe tbody tr th {\n",
       "        vertical-align: top;\n",
       "    }\n",
       "\n",
       "    .dataframe thead th {\n",
       "        text-align: right;\n",
       "    }\n",
       "</style>\n",
       "<table border=\"1\" class=\"dataframe\">\n",
       "  <thead>\n",
       "    <tr style=\"text-align: right;\">\n",
       "      <th></th>\n",
       "      <th>person</th>\n",
       "      <th>search_term</th>\n",
       "    </tr>\n",
       "  </thead>\n",
       "  <tbody>\n",
       "    <tr>\n",
       "      <th>0</th>\n",
       "      <td>000c79fe</td>\n",
       "      <td>[Iphone 7, Galaxy a8, Iphone 7, Galaxy s8, Iph...</td>\n",
       "    </tr>\n",
       "    <tr>\n",
       "      <th>1</th>\n",
       "      <td>000e619d</td>\n",
       "      <td>[samsung rosa, sansung j7, sansung j7, sansung...</td>\n",
       "    </tr>\n",
       "    <tr>\n",
       "      <th>2</th>\n",
       "      <td>001001be</td>\n",
       "      <td>[IPhone  6, 5s, IPhone  6, IPhone  6, 5s, IPho...</td>\n",
       "    </tr>\n",
       "    <tr>\n",
       "      <th>3</th>\n",
       "      <td>001802e4</td>\n",
       "      <td>[Aiphone 6s, Aiphone 6s]</td>\n",
       "    </tr>\n",
       "    <tr>\n",
       "      <th>4</th>\n",
       "      <td>0019e639</td>\n",
       "      <td>[ON 7, ON 7, ON 7, ON 7, ON 7, ON 7, ON 7, ON ...</td>\n",
       "    </tr>\n",
       "  </tbody>\n",
       "</table>\n",
       "</div>"
      ],
      "text/plain": [
       "     person                                        search_term\n",
       "0  000c79fe  [Iphone 7, Galaxy a8, Iphone 7, Galaxy s8, Iph...\n",
       "1  000e619d  [samsung rosa, sansung j7, sansung j7, sansung...\n",
       "2  001001be  [IPhone  6, 5s, IPhone  6, IPhone  6, 5s, IPho...\n",
       "3  001802e4                           [Aiphone 6s, Aiphone 6s]\n",
       "4  0019e639  [ON 7, ON 7, ON 7, ON 7, ON 7, ON 7, ON 7, ON ..."
      ]
     },
     "execution_count": 11,
     "metadata": {},
     "output_type": "execute_result"
    }
   ],
   "source": [
    "df_searched = df_searched.groupby('person')['search_term'].apply(list).reset_index()\n",
    "df_searched.head()"
   ]
  },
  {
   "cell_type": "code",
   "execution_count": 12,
   "metadata": {},
   "outputs": [
    {
     "data": {
      "text/html": [
       "<div>\n",
       "<style scoped>\n",
       "    .dataframe tbody tr th:only-of-type {\n",
       "        vertical-align: middle;\n",
       "    }\n",
       "\n",
       "    .dataframe tbody tr th {\n",
       "        vertical-align: top;\n",
       "    }\n",
       "\n",
       "    .dataframe thead th {\n",
       "        text-align: right;\n",
       "    }\n",
       "</style>\n",
       "<table border=\"1\" class=\"dataframe\">\n",
       "  <thead>\n",
       "    <tr style=\"text-align: right;\">\n",
       "      <th></th>\n",
       "      <th>person</th>\n",
       "      <th>search_term</th>\n",
       "      <th>cantidad_vistos</th>\n",
       "    </tr>\n",
       "  </thead>\n",
       "  <tbody>\n",
       "    <tr>\n",
       "      <th>0</th>\n",
       "      <td>000c79fe</td>\n",
       "      <td>Iphone 7, Galaxy a8, Iphone 7, Galaxy s8, Ipho...</td>\n",
       "      <td>8</td>\n",
       "    </tr>\n",
       "    <tr>\n",
       "      <th>1</th>\n",
       "      <td>000e619d</td>\n",
       "      <td>samsung rosa, sansung j7, sansung j7, sansung ...</td>\n",
       "      <td>6</td>\n",
       "    </tr>\n",
       "    <tr>\n",
       "      <th>2</th>\n",
       "      <td>001001be</td>\n",
       "      <td>IPhone  6, 5s, IPhone  6, IPhone  6, 5s, IPhon...</td>\n",
       "      <td>16</td>\n",
       "    </tr>\n",
       "    <tr>\n",
       "      <th>3</th>\n",
       "      <td>001802e4</td>\n",
       "      <td>Aiphone 6s, Aiphone 6s</td>\n",
       "      <td>2</td>\n",
       "    </tr>\n",
       "    <tr>\n",
       "      <th>4</th>\n",
       "      <td>0019e639</td>\n",
       "      <td>ON 7, ON 7, ON 7, ON 7, ON 7, ON 7, ON 7, ON 7...</td>\n",
       "      <td>11</td>\n",
       "    </tr>\n",
       "  </tbody>\n",
       "</table>\n",
       "</div>"
      ],
      "text/plain": [
       "     person                                        search_term  \\\n",
       "0  000c79fe  Iphone 7, Galaxy a8, Iphone 7, Galaxy s8, Ipho...   \n",
       "1  000e619d  samsung rosa, sansung j7, sansung j7, sansung ...   \n",
       "2  001001be  IPhone  6, 5s, IPhone  6, IPhone  6, 5s, IPhon...   \n",
       "3  001802e4                             Aiphone 6s, Aiphone 6s   \n",
       "4  0019e639  ON 7, ON 7, ON 7, ON 7, ON 7, ON 7, ON 7, ON 7...   \n",
       "\n",
       "   cantidad_vistos  \n",
       "0                8  \n",
       "1                6  \n",
       "2               16  \n",
       "3                2  \n",
       "4               11  "
      ]
     },
     "execution_count": 12,
     "metadata": {},
     "output_type": "execute_result"
    }
   ],
   "source": [
    "df_searched['cantidad_vistos'] = df_searched['search_term'].apply(len)\n",
    "df_searched['search_term'] = df_searched['search_term'].apply(lambda x: ', '.join(map(str, x)))\n",
    "df_searched = df_searched.fillna('')\n",
    "df_searched.head()"
   ]
  },
  {
   "cell_type": "code",
   "execution_count": 13,
   "metadata": {},
   "outputs": [
    {
     "data": {
      "text/plain": [
       "(12570, 10)"
      ]
     },
     "execution_count": 13,
     "metadata": {},
     "output_type": "execute_result"
    }
   ],
   "source": [
    "word_vectorizer = CountVectorizer(vocabulary = models_converted, tokenizer=lambda x: x.split(', '))\n",
    "\n",
    "tf_mat = word_vectorizer.fit_transform(df_searched['search_term'])\n",
    "\n",
    "tf_array = tf_mat.toarray()\n",
    "tf_array.shape"
   ]
  },
  {
   "cell_type": "code",
   "execution_count": 14,
   "metadata": {},
   "outputs": [],
   "source": [
    "feature_names_searched = word_vectorizer.get_feature_names()"
   ]
  },
  {
   "cell_type": "code",
   "execution_count": 16,
   "metadata": {},
   "outputs": [
    {
     "data": {
      "text/html": [
       "<div>\n",
       "<style scoped>\n",
       "    .dataframe tbody tr th:only-of-type {\n",
       "        vertical-align: middle;\n",
       "    }\n",
       "\n",
       "    .dataframe tbody tr th {\n",
       "        vertical-align: top;\n",
       "    }\n",
       "\n",
       "    .dataframe thead th {\n",
       "        text-align: right;\n",
       "    }\n",
       "</style>\n",
       "<table border=\"1\" class=\"dataframe\">\n",
       "  <thead>\n",
       "    <tr style=\"text-align: right;\">\n",
       "      <th></th>\n",
       "      <th>samsung galaxy j5</th>\n",
       "      <th>iphone 5s</th>\n",
       "      <th>iphone 6</th>\n",
       "      <th>iphone 6s</th>\n",
       "      <th>motorola moto g2 3g dual</th>\n",
       "      <th>samsung galaxy j7 prime</th>\n",
       "      <th>motorola moto g4 plus</th>\n",
       "      <th>samsung galaxy s7</th>\n",
       "      <th>samsung galaxy s6 flat</th>\n",
       "      <th>samsung galaxy s7 edge</th>\n",
       "      <th>person</th>\n",
       "      <th>cantidad_vistos</th>\n",
       "    </tr>\n",
       "  </thead>\n",
       "  <tbody>\n",
       "    <tr>\n",
       "      <th>0</th>\n",
       "      <td>0</td>\n",
       "      <td>0</td>\n",
       "      <td>1</td>\n",
       "      <td>1</td>\n",
       "      <td>0</td>\n",
       "      <td>0</td>\n",
       "      <td>0</td>\n",
       "      <td>0</td>\n",
       "      <td>0</td>\n",
       "      <td>0</td>\n",
       "      <td>00091926</td>\n",
       "      <td>372</td>\n",
       "    </tr>\n",
       "    <tr>\n",
       "      <th>1</th>\n",
       "      <td>0</td>\n",
       "      <td>0</td>\n",
       "      <td>0</td>\n",
       "      <td>0</td>\n",
       "      <td>0</td>\n",
       "      <td>0</td>\n",
       "      <td>0</td>\n",
       "      <td>0</td>\n",
       "      <td>0</td>\n",
       "      <td>0</td>\n",
       "      <td>00091a7a</td>\n",
       "      <td>3</td>\n",
       "    </tr>\n",
       "    <tr>\n",
       "      <th>2</th>\n",
       "      <td>0</td>\n",
       "      <td>0</td>\n",
       "      <td>0</td>\n",
       "      <td>0</td>\n",
       "      <td>0</td>\n",
       "      <td>0</td>\n",
       "      <td>0</td>\n",
       "      <td>0</td>\n",
       "      <td>0</td>\n",
       "      <td>0</td>\n",
       "      <td>000ba417</td>\n",
       "      <td>153</td>\n",
       "    </tr>\n",
       "    <tr>\n",
       "      <th>3</th>\n",
       "      <td>0</td>\n",
       "      <td>0</td>\n",
       "      <td>0</td>\n",
       "      <td>0</td>\n",
       "      <td>0</td>\n",
       "      <td>0</td>\n",
       "      <td>0</td>\n",
       "      <td>0</td>\n",
       "      <td>0</td>\n",
       "      <td>0</td>\n",
       "      <td>000c79fe</td>\n",
       "      <td>3</td>\n",
       "    </tr>\n",
       "    <tr>\n",
       "      <th>4</th>\n",
       "      <td>0</td>\n",
       "      <td>0</td>\n",
       "      <td>0</td>\n",
       "      <td>0</td>\n",
       "      <td>0</td>\n",
       "      <td>0</td>\n",
       "      <td>0</td>\n",
       "      <td>0</td>\n",
       "      <td>0</td>\n",
       "      <td>0</td>\n",
       "      <td>000e4d9e</td>\n",
       "      <td>339</td>\n",
       "    </tr>\n",
       "  </tbody>\n",
       "</table>\n",
       "</div>"
      ],
      "text/plain": [
       "   samsung galaxy j5  iphone 5s  iphone 6  iphone 6s  \\\n",
       "0                  0          0         1          1   \n",
       "1                  0          0         0          0   \n",
       "2                  0          0         0          0   \n",
       "3                  0          0         0          0   \n",
       "4                  0          0         0          0   \n",
       "\n",
       "   motorola moto g2 3g dual  samsung galaxy j7 prime  motorola moto g4 plus  \\\n",
       "0                         0                        0                      0   \n",
       "1                         0                        0                      0   \n",
       "2                         0                        0                      0   \n",
       "3                         0                        0                      0   \n",
       "4                         0                        0                      0   \n",
       "\n",
       "   samsung galaxy s7  samsung galaxy s6 flat  samsung galaxy s7 edge  \\\n",
       "0                  0                       0                       0   \n",
       "1                  0                       0                       0   \n",
       "2                  0                       0                       0   \n",
       "3                  0                       0                       0   \n",
       "4                  0                       0                       0   \n",
       "\n",
       "     person  cantidad_vistos  \n",
       "0  00091926              372  \n",
       "1  00091a7a                3  \n",
       "2  000ba417              153  \n",
       "3  000c79fe                3  \n",
       "4  000e4d9e              339  "
      ]
     },
     "execution_count": 16,
     "metadata": {},
     "output_type": "execute_result"
    }
   ],
   "source": [
    "df_tfidf_searched = pd.DataFrame(tf_array, columns=feature_names)\n",
    "df_tfidf_searched['person'] = df_model['person']\n",
    "df_tfidf_searched['cantidad_vistos'] = df_model['cantidad_vistos']\n",
    "df_tfidf_searched.head()"
   ]
  },
  {
   "cell_type": "code",
   "execution_count": null,
   "metadata": {},
   "outputs": [],
   "source": []
  },
  {
   "cell_type": "markdown",
   "metadata": {},
   "source": [
    "## XGboost entrenamiento"
   ]
  },
  {
   "cell_type": "code",
   "execution_count": 17,
   "metadata": {},
   "outputs": [],
   "source": [
    "df_train = df_labels.merge(df_tfidf , left_on='person', right_on='person' , how='inner')"
   ]
  },
  {
   "cell_type": "markdown",
   "metadata": {},
   "source": [
    "Los labels me dan mi set para entrenar, los que no se encuentran en labels tengo que predecirlos"
   ]
  },
  {
   "cell_type": "markdown",
   "metadata": {},
   "source": [
    "Si ven aca, de la columna label en adelante tenemos los features."
   ]
  },
  {
   "cell_type": "code",
   "execution_count": 18,
   "metadata": {
    "scrolled": true
   },
   "outputs": [
    {
     "data": {
      "text/html": [
       "<div>\n",
       "<style scoped>\n",
       "    .dataframe tbody tr th:only-of-type {\n",
       "        vertical-align: middle;\n",
       "    }\n",
       "\n",
       "    .dataframe tbody tr th {\n",
       "        vertical-align: top;\n",
       "    }\n",
       "\n",
       "    .dataframe thead th {\n",
       "        text-align: right;\n",
       "    }\n",
       "</style>\n",
       "<table border=\"1\" class=\"dataframe\">\n",
       "  <thead>\n",
       "    <tr style=\"text-align: right;\">\n",
       "      <th></th>\n",
       "      <th>samsung galaxy j5</th>\n",
       "      <th>iphone 5s</th>\n",
       "      <th>iphone 6</th>\n",
       "      <th>iphone 6s</th>\n",
       "      <th>motorola moto g2 3g dual</th>\n",
       "      <th>samsung galaxy j7 prime</th>\n",
       "      <th>motorola moto g4 plus</th>\n",
       "      <th>samsung galaxy s7</th>\n",
       "      <th>samsung galaxy s6 flat</th>\n",
       "      <th>samsung galaxy s7 edge</th>\n",
       "      <th>cantidad_vistos</th>\n",
       "    </tr>\n",
       "  </thead>\n",
       "  <tbody>\n",
       "    <tr>\n",
       "      <th>0</th>\n",
       "      <td>0</td>\n",
       "      <td>4</td>\n",
       "      <td>0</td>\n",
       "      <td>0</td>\n",
       "      <td>0</td>\n",
       "      <td>2</td>\n",
       "      <td>0</td>\n",
       "      <td>0</td>\n",
       "      <td>2</td>\n",
       "      <td>0</td>\n",
       "      <td>23</td>\n",
       "    </tr>\n",
       "    <tr>\n",
       "      <th>1</th>\n",
       "      <td>0</td>\n",
       "      <td>0</td>\n",
       "      <td>16</td>\n",
       "      <td>0</td>\n",
       "      <td>0</td>\n",
       "      <td>0</td>\n",
       "      <td>0</td>\n",
       "      <td>2</td>\n",
       "      <td>8</td>\n",
       "      <td>0</td>\n",
       "      <td>31</td>\n",
       "    </tr>\n",
       "    <tr>\n",
       "      <th>2</th>\n",
       "      <td>0</td>\n",
       "      <td>0</td>\n",
       "      <td>0</td>\n",
       "      <td>0</td>\n",
       "      <td>0</td>\n",
       "      <td>2</td>\n",
       "      <td>0</td>\n",
       "      <td>0</td>\n",
       "      <td>2</td>\n",
       "      <td>0</td>\n",
       "      <td>24</td>\n",
       "    </tr>\n",
       "    <tr>\n",
       "      <th>3</th>\n",
       "      <td>0</td>\n",
       "      <td>0</td>\n",
       "      <td>0</td>\n",
       "      <td>0</td>\n",
       "      <td>0</td>\n",
       "      <td>0</td>\n",
       "      <td>0</td>\n",
       "      <td>0</td>\n",
       "      <td>0</td>\n",
       "      <td>0</td>\n",
       "      <td>9</td>\n",
       "    </tr>\n",
       "    <tr>\n",
       "      <th>4</th>\n",
       "      <td>0</td>\n",
       "      <td>0</td>\n",
       "      <td>96</td>\n",
       "      <td>0</td>\n",
       "      <td>0</td>\n",
       "      <td>0</td>\n",
       "      <td>0</td>\n",
       "      <td>0</td>\n",
       "      <td>0</td>\n",
       "      <td>0</td>\n",
       "      <td>121</td>\n",
       "    </tr>\n",
       "  </tbody>\n",
       "</table>\n",
       "</div>"
      ],
      "text/plain": [
       "   samsung galaxy j5  iphone 5s  iphone 6  iphone 6s  \\\n",
       "0                  0          4         0          0   \n",
       "1                  0          0        16          0   \n",
       "2                  0          0         0          0   \n",
       "3                  0          0         0          0   \n",
       "4                  0          0        96          0   \n",
       "\n",
       "   motorola moto g2 3g dual  samsung galaxy j7 prime  motorola moto g4 plus  \\\n",
       "0                         0                        2                      0   \n",
       "1                         0                        0                      0   \n",
       "2                         0                        2                      0   \n",
       "3                         0                        0                      0   \n",
       "4                         0                        0                      0   \n",
       "\n",
       "   samsung galaxy s7  samsung galaxy s6 flat  samsung galaxy s7 edge  \\\n",
       "0                  0                       2                       0   \n",
       "1                  2                       8                       0   \n",
       "2                  0                       2                       0   \n",
       "3                  0                       0                       0   \n",
       "4                  0                       0                       0   \n",
       "\n",
       "   cantidad_vistos  \n",
       "0               23  \n",
       "1               31  \n",
       "2               24  \n",
       "3                9  \n",
       "4              121  "
      ]
     },
     "execution_count": 18,
     "metadata": {},
     "output_type": "execute_result"
    }
   ],
   "source": [
    "X, y = df_train.iloc[:,2:],df_train.iloc[:,1]\n",
    "X = X.fillna(0)\n",
    "X.head()"
   ]
  },
  {
   "cell_type": "markdown",
   "metadata": {},
   "source": [
    "Separamos los datos para hacer xgboost de la siguiente forma\n",
    "\n",
    "\n",
    "|Variable |Contiene|\n",
    "|------------------------|-----------------------------------------------------|\n",
    "|X| features que usa xgboost son solo numeros es decir que sacamos a la persona   |\n",
    "|y| label de cada persona|"
   ]
  },
  {
   "cell_type": "markdown",
   "metadata": {},
   "source": [
    "## Xgboost\n",
    "\n",
    "Para evaluar usen esta medida que me da valores muy parecidos a los de kaggle, para hacer las predicciones usen el otro"
   ]
  },
  {
   "cell_type": "code",
   "execution_count": 19,
   "metadata": {},
   "outputs": [
    {
     "ename": "AttributeError",
     "evalue": "'XGBClassifier' object has no attribute 'add'",
     "output_type": "error",
     "traceback": [
      "\u001b[0;31m---------------------------------------------------------------------------\u001b[0m",
      "\u001b[0;31mAttributeError\u001b[0m                            Traceback (most recent call last)",
      "\u001b[0;32m<ipython-input-19-49384396c575>\u001b[0m in \u001b[0;36m<module>\u001b[0;34m\u001b[0m\n\u001b[1;32m      7\u001b[0m                 n_estimators = 10)\n\u001b[1;32m      8\u001b[0m \u001b[0;34m\u001b[0m\u001b[0m\n\u001b[0;32m----> 9\u001b[0;31m \u001b[0mmodel\u001b[0m\u001b[0;34m.\u001b[0m\u001b[0madd\u001b[0m\u001b[0;34m(\u001b[0m\u001b[0mDense\u001b[0m\u001b[0;34m(\u001b[0m\u001b[0;36m64\u001b[0m\u001b[0;34m,\u001b[0m \u001b[0minput_dim\u001b[0m\u001b[0;34m=\u001b[0m\u001b[0;36m64\u001b[0m\u001b[0;34m,\u001b[0m \u001b[0mkernel_regularizer\u001b[0m\u001b[0;34m=\u001b[0m\u001b[0mregularizers\u001b[0m\u001b[0;34m.\u001b[0m\u001b[0ml2\u001b[0m\u001b[0;34m(\u001b[0m\u001b[0;36m0.01\u001b[0m\u001b[0;34m)\u001b[0m\u001b[0;34m)\u001b[0m\u001b[0;34m)\u001b[0m\u001b[0;34m\u001b[0m\u001b[0m\n\u001b[0m",
      "\u001b[0;31mAttributeError\u001b[0m: 'XGBClassifier' object has no attribute 'add'"
     ]
    }
   ],
   "source": [
    "import xgboost as xgb\n",
    "model = xgb.XGBClassifier(objective ='reg:linear', \n",
    "                colsample_bytree = 1, learning_rate = 0.1,\n",
    "                max_depth = 6,\n",
    "                subsample = 0.8,\n",
    "                gamma = 1,\n",
    "                n_estimators = 10)\n",
    "\n",
    "model.add(Dense(64, input_dim=64, kernel_regularizer=regularizers.l2(0.01)))"
   ]
  },
  {
   "cell_type": "markdown",
   "metadata": {},
   "source": [
    "Este es el arbol con sus hiperparametros"
   ]
  },
  {
   "cell_type": "code",
   "execution_count": null,
   "metadata": {},
   "outputs": [],
   "source": [
    "X_train, X_test, y_train, y_test = \\\n",
    "    train_test_split(X, y, test_size=0.2, random_state=123)"
   ]
  },
  {
   "cell_type": "code",
   "execution_count": null,
   "metadata": {},
   "outputs": [],
   "source": [
    "model.fit(X_train,y_train)"
   ]
  },
  {
   "cell_type": "markdown",
   "metadata": {},
   "source": [
    "Aca vuelvo a separar los datos para poder realizar una metrica interna y ver masomenos como performan las cosas que hago"
   ]
  },
  {
   "cell_type": "code",
   "execution_count": null,
   "metadata": {
    "scrolled": true
   },
   "outputs": [],
   "source": [
    "persons = df_labels['person']\n",
    "persons_to_predict = (df.loc[~df['person'].isin(persons)])['person'].drop_duplicates().to_frame()\n",
    "persons_to_predict.shape"
   ]
  },
  {
   "cell_type": "markdown",
   "metadata": {},
   "source": [
    "Obtengo las personas a predecir!"
   ]
  },
  {
   "cell_type": "code",
   "execution_count": null,
   "metadata": {
    "scrolled": false
   },
   "outputs": [],
   "source": [
    "X_predict = persons_to_predict.merge(df_tfidf_searched, on= 'person', how= 'left')\n",
    "X_predict = X_predict.drop(['person'], axis=1)\n",
    "X_predict.head()"
   ]
  },
  {
   "cell_type": "markdown",
   "metadata": {},
   "source": [
    "Necesito tener el mismo dataframe que tenia cuando lo entrene pero ahora para predecir, en este caso <b>X</b>"
   ]
  },
  {
   "cell_type": "markdown",
   "metadata": {},
   "source": [
    "Entreno al arbol!"
   ]
  },
  {
   "cell_type": "code",
   "execution_count": null,
   "metadata": {
    "scrolled": false
   },
   "outputs": [],
   "source": [
    "from sklearn.metrics import roc_auc_score\n",
    "roc_auc_score(y_test,  model.predict_proba(X_test)[:,1])"
   ]
  },
  {
   "cell_type": "markdown",
   "metadata": {},
   "source": [
    "Obtengo un resultado con los que separe para el test mas arriba en :\n",
    "```python\n",
    "    X_train, X_test, y_train, y_test = \\\n",
    "    train_test_split(X, y, test_size=0.2, random_state=123)\n",
    "    ```\n",
    "###### Lo que hace es sacar las predicciones para X_test y evaluarlos con y_test\n",
    "    "
   ]
  },
  {
   "cell_type": "code",
   "execution_count": null,
   "metadata": {},
   "outputs": [],
   "source": []
  },
  {
   "cell_type": "code",
   "execution_count": null,
   "metadata": {},
   "outputs": [],
   "source": []
  }
 ],
 "metadata": {
  "kernelspec": {
   "display_name": "Python 3",
   "language": "python",
   "name": "python3"
  },
  "language_info": {
   "codemirror_mode": {
    "name": "ipython",
    "version": 3
   },
   "file_extension": ".py",
   "mimetype": "text/x-python",
   "name": "python",
   "nbconvert_exporter": "python",
   "pygments_lexer": "ipython3",
   "version": "3.6.6"
  }
 },
 "nbformat": 4,
 "nbformat_minor": 2
}
