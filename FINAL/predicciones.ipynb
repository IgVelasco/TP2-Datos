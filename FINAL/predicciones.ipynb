{
 "cells": [
  {
   "cell_type": "markdown",
   "metadata": {},
   "source": [
    "# Modelos de ML a utilizar"
   ]
  },
  {
   "cell_type": "code",
   "execution_count": 1,
   "metadata": {},
   "outputs": [],
   "source": [
    "def xgb_classifier(X_train, X_test, y_train, y_test, useTrainCV=True, cv_folds=5, early_stopping_rounds=50):\n",
    "    \n",
    "    alg = xgb.XGBClassifier(objective ='reg:linear', \n",
    "                colsample_bytree = 1, learning_rate = 0.1,\n",
    "                max_depth = 7,\n",
    "                subsample = 0.9,\n",
    "                gamma = 1,\n",
    "                n_estimators = 50)\n",
    "    \n",
    "    print('\\nXGBoost Classifier')\n",
    "    alg.fit(X_train, y_train, eval_metric='auc')\n",
    "    \n",
    "    pred_proba = alg.predict_proba(X_test)[:, 1]\n",
    "    auc = roc_auc_score(y_test, pred_proba)\n",
    "    \n",
    "    print('El puntaje auc es: {}'.format(auc))\n",
    "    \n",
    "    return alg"
   ]
  },
  {
   "cell_type": "code",
   "execution_count": 2,
   "metadata": {},
   "outputs": [],
   "source": [
    "def rf_classifier(X, y):\n",
    "    RFC = RandomForestClassifier()\n",
    "\n",
    "\n",
    "    rf_param_grid = {\"max_depth\": [None],\n",
    "                  \"max_features\": [1, 3, 10],\n",
    "                  \"min_samples_split\": [2, 3, 10],\n",
    "                  \"min_samples_leaf\": [1, 3, 10],\n",
    "                  \"bootstrap\": [False],\n",
    "                  \"n_estimators\" :[50,65,100],\n",
    "                  \"criterion\": [\"gini\"]}\n",
    "\n",
    "\n",
    "    gsRFC = GridSearchCV(RFC,param_grid = rf_param_grid, cv=2, scoring=\"roc_auc\", n_jobs= 4, verbose = 1)\n",
    "\n",
    "    gsRFC.fit(X,y)\n",
    "\n",
    "    RFC_best = gsRFC.best_estimator_\n",
    "\n",
    "    # Best score\n",
    "    print('Random classifier')\n",
    "    print(gsRFC.best_score_)\n",
    "    \n",
    "    return RFC_best"
   ]
  },
  {
   "cell_type": "code",
   "execution_count": 3,
   "metadata": {},
   "outputs": [],
   "source": [
    "def dt_classifier(X_train, X_test, y_train, y_test):\n",
    "    clf = tree.DecisionTreeClassifier(random_state = 100,\n",
    "    max_depth=8, min_samples_leaf=4)\n",
    "    \n",
    "    clf.fit(X_train, y_train)\n",
    "    \n",
    "    predict = clf.predict_proba(X_test)[:,1]\n",
    "    \n",
    "    auc = roc_auc_score(y_test, predict)\n",
    "    print('\\nDecision Tree')\n",
    "    print('El puntaje auc es: {}'.format(auc))\n",
    "    \n",
    "    return clf"
   ]
  },
  {
   "cell_type": "code",
   "execution_count": 4,
   "metadata": {},
   "outputs": [],
   "source": [
    "def knn_classifier(X_train, X_test, y_train, y_test):\n",
    "    \"\"\"Aplica KNN al test entregado, primero haciendo gridsearch para sacar el k optimo\"\"\"\n",
    "    \n",
    "    k_range = list(range(1, 2))\n",
    "    param_grid = dict(n_neighbors=k_range)\n",
    "    \n",
    "    knn = KNeighborsClassifier(n_neighbors=5)\n",
    "    grid = GridSearchCV(knn, param_grid, cv=10, scoring='accuracy')\n",
    "    \n",
    "    grid.fit(X_train, y_train)\n",
    "    \n",
    "    knn_best = grid.best_estimator_\n",
    "    \n",
    "    \n",
    "    predict = knn_best.predict_proba(X_test)[:,1]\n",
    "    \n",
    "    auc = roc_auc_score(y_test, predict)\n",
    "    print('\\nKNN con k=3')\n",
    "    print('El puntaje auc es: {}'.format(auc))\n",
    "    \n",
    "    return knn_best"
   ]
  },
  {
   "cell_type": "code",
   "execution_count": 5,
   "metadata": {},
   "outputs": [],
   "source": [
    "def ext_classifier(X, y):\n",
    "    ExtC = ExtraTreesClassifier()\n",
    "\n",
    "\n",
    "    ## Search grid for optimal parameters\n",
    "    ex_param_grid = {\"max_depth\": [None],\n",
    "              \"max_features\": [1, 3, 10],\n",
    "              \"min_samples_split\": [2, 3, 10],\n",
    "              \"min_samples_leaf\": [1, 3, 10],\n",
    "              \"bootstrap\": [False],\n",
    "              \"n_estimators\" :[100,300],\n",
    "              \"criterion\": [\"gini\"]}\n",
    "\n",
    "\n",
    "    gsExtC = GridSearchCV(ExtC,param_grid = ex_param_grid, cv=2, scoring=\"roc_auc\", n_jobs= 4, verbose = 1)\n",
    "\n",
    "    gsExtC.fit(X, y)\n",
    "\n",
    "    ExtC_best = gsExtC.best_estimator_\n",
    "\n",
    "    # Best score\n",
    "    print('Extra tree classifier')\n",
    "    print(gsExtC.best_score_)\n",
    "    return ExtC_best"
   ]
  },
  {
   "cell_type": "code",
   "execution_count": 6,
   "metadata": {},
   "outputs": [],
   "source": [
    "def lgb_classifier(X_train, X_test, y_train, y_test):\n",
    "    lgb_cl = lgb.LGBMClassifier(learning_rate=0.005,objective='binary',num_leaves=55,max_depth=13,\n",
    "                        n_estimators=60,colsample_bytree=0.8,n_jobs=-1,\n",
    "                        random_state=0,silent=False,subsample=0.8,\n",
    "                        sumsample_freq=0.5)\n",
    "\n",
    "    lgb_cl.fit(X_train,y_train)\n",
    "    predict = lgb_cl.predict_proba(X_test)[:,1]\n",
    "    \n",
    "    auc = roc_auc_score(y_test, predict)\n",
    "    print('\\nLGB Classifier')\n",
    "    print('El puntaje auc es: {}'.format(auc))\n",
    "    \n",
    "    return lgb_cl"
   ]
  },
  {
   "cell_type": "code",
   "execution_count": 7,
   "metadata": {},
   "outputs": [],
   "source": [
    "def mlp_classifier(X,y):\n",
    "    mlp = MLPClassifier()\n",
    "\n",
    "    mlp_param_grid = {'solver': ['lbfgs'],\n",
    "                  'max_iter': [50,100],\n",
    "                  'alpha': 10.0 ** -np.arange(5, 10), \n",
    "                  'hidden_layer_sizes':np.arange(13, 15),\n",
    "                  'random_state':[1,5,6,9]}\n",
    "\n",
    "\n",
    "    gsmlp = GridSearchCV(mlp,param_grid = mlp_param_grid, cv=2, scoring=\"roc_auc\", n_jobs= 4, verbose = 1)\n",
    "\n",
    "    gsmlp.fit(X,y)\n",
    "\n",
    "    mlp_best = gsmlp.best_estimator_\n",
    "    print('\\nRed Neuronal Classifier')\n",
    "    print(gsmlp.best_score_)\n",
    "    return mlp_best"
   ]
  },
  {
   "cell_type": "code",
   "execution_count": 8,
   "metadata": {},
   "outputs": [],
   "source": [
    "def gb_classifier(X,y):\n",
    "    GBC = GradientBoostingClassifier()\n",
    "    gb_param_grid = {'loss' : [\"deviance\"],\n",
    "                      'n_estimators' : [50,65,100],\n",
    "                      'learning_rate': [0.1, 0.05, 0.01],\n",
    "                      'max_depth': [4, 8],\n",
    "                      'min_samples_leaf': [100,150],\n",
    "                      'max_features': [0.3, 0.1],\n",
    "                      }\n",
    "                               \n",
    "    gsGBC = GridSearchCV(GBC,param_grid = gb_param_grid, cv=2, scoring=\"roc_auc\", n_jobs= 4, verbose = 1)\n",
    "    gsGBC.fit(X,y)\n",
    "  \n",
    "    GBC_best = gsGBC.best_estimator_\n",
    "  \n",
    "    # Best score\\n\",\n",
    "    print('Gradient Boosting')\n",
    "    print(gsGBC.best_score_)\n",
    "    return GBC_best"
   ]
  },
  {
   "cell_type": "code",
   "execution_count": 9,
   "metadata": {},
   "outputs": [],
   "source": [
    "def ensamblador(estimadores,X_train, X_test, y_train, y_test):\n",
    "    eclf3 = VotingClassifier(estimators=[\n",
    "       ('xgb', estimadores[0]), ('lgb', estimadores[1]),('mlp', estimadores[2]),('gb',estimadores[3])],\n",
    "       voting='soft', weights=[1, 0.5, 0.5, 1],\n",
    "      flatten_transform=True)\n",
    "\n",
    "    eclf3.fit(X_train,y_train)\n",
    "    \n",
    "    predict = eclf3.predict_proba(X_test)[:,1]\n",
    "    \n",
    "    auc = roc_auc_score(y_test, predict)\n",
    "    \n",
    "    print('Ensamble final')\n",
    "    print('El puntaje auc es: {}'.format(auc))\n",
    "    \n",
    "    return eclf3"
   ]
  },
  {
   "cell_type": "markdown",
   "metadata": {},
   "source": [
    "# Predicciones en varios modelos"
   ]
  },
  {
   "cell_type": "code",
   "execution_count": 10,
   "metadata": {},
   "outputs": [
    {
     "name": "stderr",
     "output_type": "stream",
     "text": [
      "C:\\Users\\juanp\\AppData\\Local\\Continuum\\anaconda3\\lib\\site-packages\\sklearn\\ensemble\\weight_boosting.py:29: DeprecationWarning: numpy.core.umath_tests is an internal NumPy module and should not be imported. It will be removed in a future NumPy release.\n",
      "  from numpy.core.umath_tests import inner1d\n"
     ]
    }
   ],
   "source": [
    "import xgboost as xgb\n",
    "from sklearn.metrics import mean_squared_error\n",
    "import pandas as pd\n",
    "import numpy as np\n",
    "from sklearn.model_selection import train_test_split\n",
    "import datetime\n",
    "from sklearn.utils import shuffle\n",
    "from sklearn.metrics import roc_auc_score\n",
    "from sklearn.preprocessing import MinMaxScaler\n",
    "from sklearn.ensemble import RandomForestClassifier\n",
    "from sklearn import tree\n",
    "from sklearn.neighbors import KNeighborsClassifier\n",
    "from sklearn.model_selection import GridSearchCV\n",
    "from sklearn.ensemble import AdaBoostClassifier, GradientBoostingClassifier, ExtraTreesClassifier, VotingClassifier\n",
    "from sklearn.model_selection import GridSearchCV, cross_val_score, StratifiedKFold, learning_curve\n",
    "import lightgbm as lgb\n",
    "from sklearn.neural_network import MLPClassifier"
   ]
  },
  {
   "cell_type": "code",
   "execution_count": 11,
   "metadata": {},
   "outputs": [],
   "source": [
    "df_original = pd.read_csv('events_up_to_01062018.csv', low_memory = False)\n",
    "df_labels= pd.read_csv('labels_training_set.csv', low_memory = False)"
   ]
  },
  {
   "cell_type": "code",
   "execution_count": 12,
   "metadata": {},
   "outputs": [],
   "source": [
    "df_features_numericos = pd.read_csv('features_numericos_merge_final.csv', low_memory=False)\n",
    "df_features_bool = pd.read_csv('features_bool.csv', low_memory=False)\n",
    "df_features_categoricos = pd.read_csv('features_categoricos_reducidos.csv', low_memory=False)"
   ]
  },
  {
   "cell_type": "code",
   "execution_count": 13,
   "metadata": {},
   "outputs": [
    {
     "data": {
      "text/plain": [
       "(38829, 6)"
      ]
     },
     "execution_count": 13,
     "metadata": {},
     "output_type": "execute_result"
    }
   ],
   "source": [
    "df_features_bool.shape"
   ]
  },
  {
   "cell_type": "code",
   "execution_count": 14,
   "metadata": {},
   "outputs": [
    {
     "data": {
      "text/plain": [
       "(38829, 34)"
      ]
     },
     "execution_count": 14,
     "metadata": {},
     "output_type": "execute_result"
    }
   ],
   "source": [
    "df_features_numericos.shape"
   ]
  },
  {
   "cell_type": "code",
   "execution_count": 15,
   "metadata": {},
   "outputs": [
    {
     "data": {
      "text/plain": [
       "(38829, 7)"
      ]
     },
     "execution_count": 15,
     "metadata": {},
     "output_type": "execute_result"
    }
   ],
   "source": [
    "df_features_categoricos.shape"
   ]
  },
  {
   "cell_type": "code",
   "execution_count": 16,
   "metadata": {},
   "outputs": [
    {
     "data": {
      "text/plain": [
       "(38829,)"
      ]
     },
     "execution_count": 16,
     "metadata": {},
     "output_type": "execute_result"
    }
   ],
   "source": [
    "df_original['person'].drop_duplicates().shape"
   ]
  },
  {
   "cell_type": "markdown",
   "metadata": {},
   "source": [
    "## Trabajo en los features por separado, empiezo por los numericos"
   ]
  },
  {
   "cell_type": "markdown",
   "metadata": {},
   "source": [
    "A los numericos hago un fillna con ceros"
   ]
  },
  {
   "cell_type": "code",
   "execution_count": 17,
   "metadata": {},
   "outputs": [],
   "source": [
    "df_features_numericos = df_features_numericos.fillna(0)"
   ]
  },
  {
   "cell_type": "code",
   "execution_count": 18,
   "metadata": {},
   "outputs": [
    {
     "data": {
      "text/plain": [
       "person                                 0\n",
       "conversion_sum                         0\n",
       "conversion_mean                        0\n",
       "viewed_sum                             0\n",
       "viewed_mean                            0\n",
       "viewed_std                             0\n",
       "dif_5_check                            0\n",
       "last_day_check                         0\n",
       "first_day_check                        0\n",
       "last_week_check                        0\n",
       "first_week_check                       0\n",
       "cant_checkouts_5                       0\n",
       "%checkouts                             0\n",
       "checkouts_ult_semana                   0\n",
       "act_primera_semana                     0\n",
       "act_ultima_semana                      0\n",
       "mayor_actividad_ult_semana             0\n",
       "cant_modelos_distintos                 0\n",
       "cant_checkouts_dif_modelos             0\n",
       "MAX(cant_interacciones_por_modelo)     0\n",
       "MEAN(cant_interacciones_por_modelo)    0\n",
       "Checkout max                           0\n",
       "Checkout mean                          0\n",
       "cant_lead_5to_mes                      0\n",
       "cant_modelos_que_consulto_stock        0\n",
       "Cantidad_visitas                       0\n",
       "Promedio_visitas_producto              0\n",
       "horas_mirando_productos                0\n",
       "visitas_mes1                           0\n",
       "visitas_mes2                           0\n",
       "visitas_mes3                           0\n",
       "visitas_mes4                           0\n",
       "visitas_mes5                           0\n",
       "promedio_ingreso_mensual               0\n",
       "dtype: int64"
      ]
     },
     "execution_count": 18,
     "metadata": {},
     "output_type": "execute_result"
    }
   ],
   "source": [
    "df_features_numericos.isnull().sum()"
   ]
  },
  {
   "cell_type": "markdown",
   "metadata": {},
   "source": [
    "## Categoricos"
   ]
  },
  {
   "cell_type": "markdown",
   "metadata": {},
   "source": [
    "Fabrico los dummies"
   ]
  },
  {
   "cell_type": "code",
   "execution_count": 19,
   "metadata": {},
   "outputs": [
    {
     "data": {
      "text/html": [
       "<div>\n",
       "<style scoped>\n",
       "    .dataframe tbody tr th:only-of-type {\n",
       "        vertical-align: middle;\n",
       "    }\n",
       "\n",
       "    .dataframe tbody tr th {\n",
       "        vertical-align: top;\n",
       "    }\n",
       "\n",
       "    .dataframe thead th {\n",
       "        text-align: right;\n",
       "    }\n",
       "</style>\n",
       "<table border=\"1\" class=\"dataframe\">\n",
       "  <thead>\n",
       "    <tr style=\"text-align: right;\">\n",
       "      <th></th>\n",
       "      <th>person</th>\n",
       "      <th>region_persona</th>\n",
       "      <th>pais</th>\n",
       "      <th>semana_mas_interactuante</th>\n",
       "      <th>device_type</th>\n",
       "      <th>channel_frecuente</th>\n",
       "      <th>marca_mas_buscada</th>\n",
       "    </tr>\n",
       "  </thead>\n",
       "  <tbody>\n",
       "    <tr>\n",
       "      <th>0</th>\n",
       "      <td>4886f805</td>\n",
       "      <td>Rio de Janeiro</td>\n",
       "      <td>Brazil</td>\n",
       "      <td>Third</td>\n",
       "      <td>Smartphone</td>\n",
       "      <td>Organic</td>\n",
       "      <td>Samsung</td>\n",
       "    </tr>\n",
       "    <tr>\n",
       "      <th>1</th>\n",
       "      <td>ad93850f</td>\n",
       "      <td>Sao Paulo</td>\n",
       "      <td>Brazil</td>\n",
       "      <td>Third</td>\n",
       "      <td>Smartphone</td>\n",
       "      <td>Paid</td>\n",
       "      <td>iPhone</td>\n",
       "    </tr>\n",
       "    <tr>\n",
       "      <th>2</th>\n",
       "      <td>0297fc1e</td>\n",
       "      <td>Rio de Janeiro</td>\n",
       "      <td>Brazil</td>\n",
       "      <td>Fourth</td>\n",
       "      <td>Smartphone</td>\n",
       "      <td>Direct</td>\n",
       "      <td>iPhone</td>\n",
       "    </tr>\n",
       "    <tr>\n",
       "      <th>3</th>\n",
       "      <td>2d681dd8</td>\n",
       "      <td>Sao Paulo</td>\n",
       "      <td>Brazil</td>\n",
       "      <td>Fourth</td>\n",
       "      <td>Computer</td>\n",
       "      <td>Organic</td>\n",
       "      <td>iPhone</td>\n",
       "    </tr>\n",
       "    <tr>\n",
       "      <th>4</th>\n",
       "      <td>cccea85e</td>\n",
       "      <td>Sao Paulo</td>\n",
       "      <td>Brazil</td>\n",
       "      <td>Third</td>\n",
       "      <td>Computer</td>\n",
       "      <td>Organic</td>\n",
       "      <td>Motorola</td>\n",
       "    </tr>\n",
       "  </tbody>\n",
       "</table>\n",
       "</div>"
      ],
      "text/plain": [
       "     person  region_persona    pais semana_mas_interactuante device_type  \\\n",
       "0  4886f805  Rio de Janeiro  Brazil                    Third  Smartphone   \n",
       "1  ad93850f       Sao Paulo  Brazil                    Third  Smartphone   \n",
       "2  0297fc1e  Rio de Janeiro  Brazil                   Fourth  Smartphone   \n",
       "3  2d681dd8       Sao Paulo  Brazil                   Fourth    Computer   \n",
       "4  cccea85e       Sao Paulo  Brazil                    Third    Computer   \n",
       "\n",
       "  channel_frecuente marca_mas_buscada  \n",
       "0           Organic           Samsung  \n",
       "1              Paid            iPhone  \n",
       "2            Direct            iPhone  \n",
       "3           Organic            iPhone  \n",
       "4           Organic          Motorola  "
      ]
     },
     "execution_count": 19,
     "metadata": {},
     "output_type": "execute_result"
    }
   ],
   "source": [
    "df_features_categoricos.head()"
   ]
  },
  {
   "cell_type": "code",
   "execution_count": 20,
   "metadata": {},
   "outputs": [],
   "source": [
    "df_features_categoricos = pd.concat([df_features_categoricos, pd.get_dummies(df_features_categoricos.iloc[:,1:])], axis=1)"
   ]
  },
  {
   "cell_type": "code",
   "execution_count": 21,
   "metadata": {},
   "outputs": [
    {
     "data": {
      "text/html": [
       "<div>\n",
       "<style scoped>\n",
       "    .dataframe tbody tr th:only-of-type {\n",
       "        vertical-align: middle;\n",
       "    }\n",
       "\n",
       "    .dataframe tbody tr th {\n",
       "        vertical-align: top;\n",
       "    }\n",
       "\n",
       "    .dataframe thead th {\n",
       "        text-align: right;\n",
       "    }\n",
       "</style>\n",
       "<table border=\"1\" class=\"dataframe\">\n",
       "  <thead>\n",
       "    <tr style=\"text-align: right;\">\n",
       "      <th></th>\n",
       "      <th>person</th>\n",
       "      <th>region_persona</th>\n",
       "      <th>pais</th>\n",
       "      <th>semana_mas_interactuante</th>\n",
       "      <th>device_type</th>\n",
       "      <th>channel_frecuente</th>\n",
       "      <th>marca_mas_buscada</th>\n",
       "      <th>region_persona_0</th>\n",
       "      <th>region_persona_Acre</th>\n",
       "      <th>region_persona_Alagoas</th>\n",
       "      <th>...</th>\n",
       "      <th>channel_frecuente_Organic</th>\n",
       "      <th>channel_frecuente_Paid</th>\n",
       "      <th>channel_frecuente_Referral</th>\n",
       "      <th>channel_frecuente_Social</th>\n",
       "      <th>channel_frecuente_Unknown</th>\n",
       "      <th>marca_mas_buscada_LG</th>\n",
       "      <th>marca_mas_buscada_Motorola</th>\n",
       "      <th>marca_mas_buscada_Other</th>\n",
       "      <th>marca_mas_buscada_Samsung</th>\n",
       "      <th>marca_mas_buscada_iPhone</th>\n",
       "    </tr>\n",
       "  </thead>\n",
       "  <tbody>\n",
       "    <tr>\n",
       "      <th>0</th>\n",
       "      <td>4886f805</td>\n",
       "      <td>Rio de Janeiro</td>\n",
       "      <td>Brazil</td>\n",
       "      <td>Third</td>\n",
       "      <td>Smartphone</td>\n",
       "      <td>Organic</td>\n",
       "      <td>Samsung</td>\n",
       "      <td>0</td>\n",
       "      <td>0</td>\n",
       "      <td>0</td>\n",
       "      <td>...</td>\n",
       "      <td>1</td>\n",
       "      <td>0</td>\n",
       "      <td>0</td>\n",
       "      <td>0</td>\n",
       "      <td>0</td>\n",
       "      <td>0</td>\n",
       "      <td>0</td>\n",
       "      <td>0</td>\n",
       "      <td>1</td>\n",
       "      <td>0</td>\n",
       "    </tr>\n",
       "    <tr>\n",
       "      <th>1</th>\n",
       "      <td>ad93850f</td>\n",
       "      <td>Sao Paulo</td>\n",
       "      <td>Brazil</td>\n",
       "      <td>Third</td>\n",
       "      <td>Smartphone</td>\n",
       "      <td>Paid</td>\n",
       "      <td>iPhone</td>\n",
       "      <td>0</td>\n",
       "      <td>0</td>\n",
       "      <td>0</td>\n",
       "      <td>...</td>\n",
       "      <td>0</td>\n",
       "      <td>1</td>\n",
       "      <td>0</td>\n",
       "      <td>0</td>\n",
       "      <td>0</td>\n",
       "      <td>0</td>\n",
       "      <td>0</td>\n",
       "      <td>0</td>\n",
       "      <td>0</td>\n",
       "      <td>1</td>\n",
       "    </tr>\n",
       "    <tr>\n",
       "      <th>2</th>\n",
       "      <td>0297fc1e</td>\n",
       "      <td>Rio de Janeiro</td>\n",
       "      <td>Brazil</td>\n",
       "      <td>Fourth</td>\n",
       "      <td>Smartphone</td>\n",
       "      <td>Direct</td>\n",
       "      <td>iPhone</td>\n",
       "      <td>0</td>\n",
       "      <td>0</td>\n",
       "      <td>0</td>\n",
       "      <td>...</td>\n",
       "      <td>0</td>\n",
       "      <td>0</td>\n",
       "      <td>0</td>\n",
       "      <td>0</td>\n",
       "      <td>0</td>\n",
       "      <td>0</td>\n",
       "      <td>0</td>\n",
       "      <td>0</td>\n",
       "      <td>0</td>\n",
       "      <td>1</td>\n",
       "    </tr>\n",
       "    <tr>\n",
       "      <th>3</th>\n",
       "      <td>2d681dd8</td>\n",
       "      <td>Sao Paulo</td>\n",
       "      <td>Brazil</td>\n",
       "      <td>Fourth</td>\n",
       "      <td>Computer</td>\n",
       "      <td>Organic</td>\n",
       "      <td>iPhone</td>\n",
       "      <td>0</td>\n",
       "      <td>0</td>\n",
       "      <td>0</td>\n",
       "      <td>...</td>\n",
       "      <td>1</td>\n",
       "      <td>0</td>\n",
       "      <td>0</td>\n",
       "      <td>0</td>\n",
       "      <td>0</td>\n",
       "      <td>0</td>\n",
       "      <td>0</td>\n",
       "      <td>0</td>\n",
       "      <td>0</td>\n",
       "      <td>1</td>\n",
       "    </tr>\n",
       "    <tr>\n",
       "      <th>4</th>\n",
       "      <td>cccea85e</td>\n",
       "      <td>Sao Paulo</td>\n",
       "      <td>Brazil</td>\n",
       "      <td>Third</td>\n",
       "      <td>Computer</td>\n",
       "      <td>Organic</td>\n",
       "      <td>Motorola</td>\n",
       "      <td>0</td>\n",
       "      <td>0</td>\n",
       "      <td>0</td>\n",
       "      <td>...</td>\n",
       "      <td>1</td>\n",
       "      <td>0</td>\n",
       "      <td>0</td>\n",
       "      <td>0</td>\n",
       "      <td>0</td>\n",
       "      <td>0</td>\n",
       "      <td>1</td>\n",
       "      <td>0</td>\n",
       "      <td>0</td>\n",
       "      <td>0</td>\n",
       "    </tr>\n",
       "  </tbody>\n",
       "</table>\n",
       "<p>5 rows × 133 columns</p>\n",
       "</div>"
      ],
      "text/plain": [
       "     person  region_persona    pais semana_mas_interactuante device_type  \\\n",
       "0  4886f805  Rio de Janeiro  Brazil                    Third  Smartphone   \n",
       "1  ad93850f       Sao Paulo  Brazil                    Third  Smartphone   \n",
       "2  0297fc1e  Rio de Janeiro  Brazil                   Fourth  Smartphone   \n",
       "3  2d681dd8       Sao Paulo  Brazil                   Fourth    Computer   \n",
       "4  cccea85e       Sao Paulo  Brazil                    Third    Computer   \n",
       "\n",
       "  channel_frecuente marca_mas_buscada  region_persona_0  region_persona_Acre  \\\n",
       "0           Organic           Samsung                 0                    0   \n",
       "1              Paid            iPhone                 0                    0   \n",
       "2            Direct            iPhone                 0                    0   \n",
       "3           Organic            iPhone                 0                    0   \n",
       "4           Organic          Motorola                 0                    0   \n",
       "\n",
       "   region_persona_Alagoas            ...             \\\n",
       "0                       0            ...              \n",
       "1                       0            ...              \n",
       "2                       0            ...              \n",
       "3                       0            ...              \n",
       "4                       0            ...              \n",
       "\n",
       "   channel_frecuente_Organic  channel_frecuente_Paid  \\\n",
       "0                          1                       0   \n",
       "1                          0                       1   \n",
       "2                          0                       0   \n",
       "3                          1                       0   \n",
       "4                          1                       0   \n",
       "\n",
       "   channel_frecuente_Referral  channel_frecuente_Social  \\\n",
       "0                           0                         0   \n",
       "1                           0                         0   \n",
       "2                           0                         0   \n",
       "3                           0                         0   \n",
       "4                           0                         0   \n",
       "\n",
       "   channel_frecuente_Unknown  marca_mas_buscada_LG  \\\n",
       "0                          0                     0   \n",
       "1                          0                     0   \n",
       "2                          0                     0   \n",
       "3                          0                     0   \n",
       "4                          0                     0   \n",
       "\n",
       "   marca_mas_buscada_Motorola  marca_mas_buscada_Other  \\\n",
       "0                           0                        0   \n",
       "1                           0                        0   \n",
       "2                           0                        0   \n",
       "3                           0                        0   \n",
       "4                           1                        0   \n",
       "\n",
       "   marca_mas_buscada_Samsung  marca_mas_buscada_iPhone  \n",
       "0                          1                         0  \n",
       "1                          0                         1  \n",
       "2                          0                         1  \n",
       "3                          0                         1  \n",
       "4                          0                         0  \n",
       "\n",
       "[5 rows x 133 columns]"
      ]
     },
     "execution_count": 21,
     "metadata": {},
     "output_type": "execute_result"
    }
   ],
   "source": [
    "df_features_categoricos.head()"
   ]
  },
  {
   "cell_type": "code",
   "execution_count": 22,
   "metadata": {},
   "outputs": [],
   "source": [
    "df_features_categoricos = df_features_categoricos.drop(columns=['region_persona','pais','semana_mas_interactuante','device_type','channel_frecuente','marca_mas_buscada'])"
   ]
  },
  {
   "cell_type": "code",
   "execution_count": 23,
   "metadata": {},
   "outputs": [
    {
     "data": {
      "text/html": [
       "<div>\n",
       "<style scoped>\n",
       "    .dataframe tbody tr th:only-of-type {\n",
       "        vertical-align: middle;\n",
       "    }\n",
       "\n",
       "    .dataframe tbody tr th {\n",
       "        vertical-align: top;\n",
       "    }\n",
       "\n",
       "    .dataframe thead th {\n",
       "        text-align: right;\n",
       "    }\n",
       "</style>\n",
       "<table border=\"1\" class=\"dataframe\">\n",
       "  <thead>\n",
       "    <tr style=\"text-align: right;\">\n",
       "      <th></th>\n",
       "      <th>person</th>\n",
       "      <th>region_persona_0</th>\n",
       "      <th>region_persona_Acre</th>\n",
       "      <th>region_persona_Alagoas</th>\n",
       "      <th>region_persona_Amapa</th>\n",
       "      <th>region_persona_Amazonas</th>\n",
       "      <th>region_persona_Arkansas</th>\n",
       "      <th>region_persona_Asuncion</th>\n",
       "      <th>region_persona_Aveiro</th>\n",
       "      <th>region_persona_Bahia</th>\n",
       "      <th>...</th>\n",
       "      <th>channel_frecuente_Organic</th>\n",
       "      <th>channel_frecuente_Paid</th>\n",
       "      <th>channel_frecuente_Referral</th>\n",
       "      <th>channel_frecuente_Social</th>\n",
       "      <th>channel_frecuente_Unknown</th>\n",
       "      <th>marca_mas_buscada_LG</th>\n",
       "      <th>marca_mas_buscada_Motorola</th>\n",
       "      <th>marca_mas_buscada_Other</th>\n",
       "      <th>marca_mas_buscada_Samsung</th>\n",
       "      <th>marca_mas_buscada_iPhone</th>\n",
       "    </tr>\n",
       "  </thead>\n",
       "  <tbody>\n",
       "    <tr>\n",
       "      <th>0</th>\n",
       "      <td>4886f805</td>\n",
       "      <td>0</td>\n",
       "      <td>0</td>\n",
       "      <td>0</td>\n",
       "      <td>0</td>\n",
       "      <td>0</td>\n",
       "      <td>0</td>\n",
       "      <td>0</td>\n",
       "      <td>0</td>\n",
       "      <td>0</td>\n",
       "      <td>...</td>\n",
       "      <td>1</td>\n",
       "      <td>0</td>\n",
       "      <td>0</td>\n",
       "      <td>0</td>\n",
       "      <td>0</td>\n",
       "      <td>0</td>\n",
       "      <td>0</td>\n",
       "      <td>0</td>\n",
       "      <td>1</td>\n",
       "      <td>0</td>\n",
       "    </tr>\n",
       "    <tr>\n",
       "      <th>1</th>\n",
       "      <td>ad93850f</td>\n",
       "      <td>0</td>\n",
       "      <td>0</td>\n",
       "      <td>0</td>\n",
       "      <td>0</td>\n",
       "      <td>0</td>\n",
       "      <td>0</td>\n",
       "      <td>0</td>\n",
       "      <td>0</td>\n",
       "      <td>0</td>\n",
       "      <td>...</td>\n",
       "      <td>0</td>\n",
       "      <td>1</td>\n",
       "      <td>0</td>\n",
       "      <td>0</td>\n",
       "      <td>0</td>\n",
       "      <td>0</td>\n",
       "      <td>0</td>\n",
       "      <td>0</td>\n",
       "      <td>0</td>\n",
       "      <td>1</td>\n",
       "    </tr>\n",
       "    <tr>\n",
       "      <th>2</th>\n",
       "      <td>0297fc1e</td>\n",
       "      <td>0</td>\n",
       "      <td>0</td>\n",
       "      <td>0</td>\n",
       "      <td>0</td>\n",
       "      <td>0</td>\n",
       "      <td>0</td>\n",
       "      <td>0</td>\n",
       "      <td>0</td>\n",
       "      <td>0</td>\n",
       "      <td>...</td>\n",
       "      <td>0</td>\n",
       "      <td>0</td>\n",
       "      <td>0</td>\n",
       "      <td>0</td>\n",
       "      <td>0</td>\n",
       "      <td>0</td>\n",
       "      <td>0</td>\n",
       "      <td>0</td>\n",
       "      <td>0</td>\n",
       "      <td>1</td>\n",
       "    </tr>\n",
       "    <tr>\n",
       "      <th>3</th>\n",
       "      <td>2d681dd8</td>\n",
       "      <td>0</td>\n",
       "      <td>0</td>\n",
       "      <td>0</td>\n",
       "      <td>0</td>\n",
       "      <td>0</td>\n",
       "      <td>0</td>\n",
       "      <td>0</td>\n",
       "      <td>0</td>\n",
       "      <td>0</td>\n",
       "      <td>...</td>\n",
       "      <td>1</td>\n",
       "      <td>0</td>\n",
       "      <td>0</td>\n",
       "      <td>0</td>\n",
       "      <td>0</td>\n",
       "      <td>0</td>\n",
       "      <td>0</td>\n",
       "      <td>0</td>\n",
       "      <td>0</td>\n",
       "      <td>1</td>\n",
       "    </tr>\n",
       "    <tr>\n",
       "      <th>4</th>\n",
       "      <td>cccea85e</td>\n",
       "      <td>0</td>\n",
       "      <td>0</td>\n",
       "      <td>0</td>\n",
       "      <td>0</td>\n",
       "      <td>0</td>\n",
       "      <td>0</td>\n",
       "      <td>0</td>\n",
       "      <td>0</td>\n",
       "      <td>0</td>\n",
       "      <td>...</td>\n",
       "      <td>1</td>\n",
       "      <td>0</td>\n",
       "      <td>0</td>\n",
       "      <td>0</td>\n",
       "      <td>0</td>\n",
       "      <td>0</td>\n",
       "      <td>1</td>\n",
       "      <td>0</td>\n",
       "      <td>0</td>\n",
       "      <td>0</td>\n",
       "    </tr>\n",
       "  </tbody>\n",
       "</table>\n",
       "<p>5 rows × 127 columns</p>\n",
       "</div>"
      ],
      "text/plain": [
       "     person  region_persona_0  region_persona_Acre  region_persona_Alagoas  \\\n",
       "0  4886f805                 0                    0                       0   \n",
       "1  ad93850f                 0                    0                       0   \n",
       "2  0297fc1e                 0                    0                       0   \n",
       "3  2d681dd8                 0                    0                       0   \n",
       "4  cccea85e                 0                    0                       0   \n",
       "\n",
       "   region_persona_Amapa  region_persona_Amazonas  region_persona_Arkansas  \\\n",
       "0                     0                        0                        0   \n",
       "1                     0                        0                        0   \n",
       "2                     0                        0                        0   \n",
       "3                     0                        0                        0   \n",
       "4                     0                        0                        0   \n",
       "\n",
       "   region_persona_Asuncion  region_persona_Aveiro  region_persona_Bahia  \\\n",
       "0                        0                      0                     0   \n",
       "1                        0                      0                     0   \n",
       "2                        0                      0                     0   \n",
       "3                        0                      0                     0   \n",
       "4                        0                      0                     0   \n",
       "\n",
       "             ...             channel_frecuente_Organic  \\\n",
       "0            ...                                     1   \n",
       "1            ...                                     0   \n",
       "2            ...                                     0   \n",
       "3            ...                                     1   \n",
       "4            ...                                     1   \n",
       "\n",
       "   channel_frecuente_Paid  channel_frecuente_Referral  \\\n",
       "0                       0                           0   \n",
       "1                       1                           0   \n",
       "2                       0                           0   \n",
       "3                       0                           0   \n",
       "4                       0                           0   \n",
       "\n",
       "   channel_frecuente_Social  channel_frecuente_Unknown  marca_mas_buscada_LG  \\\n",
       "0                         0                          0                     0   \n",
       "1                         0                          0                     0   \n",
       "2                         0                          0                     0   \n",
       "3                         0                          0                     0   \n",
       "4                         0                          0                     0   \n",
       "\n",
       "   marca_mas_buscada_Motorola  marca_mas_buscada_Other  \\\n",
       "0                           0                        0   \n",
       "1                           0                        0   \n",
       "2                           0                        0   \n",
       "3                           0                        0   \n",
       "4                           1                        0   \n",
       "\n",
       "   marca_mas_buscada_Samsung  marca_mas_buscada_iPhone  \n",
       "0                          1                         0  \n",
       "1                          0                         1  \n",
       "2                          0                         1  \n",
       "3                          0                         1  \n",
       "4                          0                         0  \n",
       "\n",
       "[5 rows x 127 columns]"
      ]
     },
     "execution_count": 23,
     "metadata": {},
     "output_type": "execute_result"
    }
   ],
   "source": [
    "df_features_categoricos.head()"
   ]
  },
  {
   "cell_type": "markdown",
   "metadata": {},
   "source": [
    "## Booleano"
   ]
  },
  {
   "cell_type": "markdown",
   "metadata": {},
   "source": [
    "Los transformo a numericos (1 o 0)"
   ]
  },
  {
   "cell_type": "code",
   "execution_count": 24,
   "metadata": {},
   "outputs": [
    {
     "data": {
      "text/html": [
       "<div>\n",
       "<style scoped>\n",
       "    .dataframe tbody tr th:only-of-type {\n",
       "        vertical-align: middle;\n",
       "    }\n",
       "\n",
       "    .dataframe tbody tr th {\n",
       "        vertical-align: top;\n",
       "    }\n",
       "\n",
       "    .dataframe thead th {\n",
       "        text-align: right;\n",
       "    }\n",
       "</style>\n",
       "<table border=\"1\" class=\"dataframe\">\n",
       "  <thead>\n",
       "    <tr style=\"text-align: right;\">\n",
       "      <th></th>\n",
       "      <th>person</th>\n",
       "      <th>busco_top_5_visitas</th>\n",
       "      <th>visito_mas_que_el_promedio</th>\n",
       "      <th>siempre_incrementando</th>\n",
       "      <th>inc_ultimo_mes</th>\n",
       "      <th>mismo_interes_ultimos_dos_meses</th>\n",
       "    </tr>\n",
       "  </thead>\n",
       "  <tbody>\n",
       "    <tr>\n",
       "      <th>0</th>\n",
       "      <td>4886f805</td>\n",
       "      <td>0.0</td>\n",
       "      <td>False</td>\n",
       "      <td>0</td>\n",
       "      <td>1</td>\n",
       "      <td>0</td>\n",
       "    </tr>\n",
       "    <tr>\n",
       "      <th>1</th>\n",
       "      <td>ad93850f</td>\n",
       "      <td>1.0</td>\n",
       "      <td>True</td>\n",
       "      <td>0</td>\n",
       "      <td>1</td>\n",
       "      <td>0</td>\n",
       "    </tr>\n",
       "    <tr>\n",
       "      <th>2</th>\n",
       "      <td>0297fc1e</td>\n",
       "      <td>1.0</td>\n",
       "      <td>True</td>\n",
       "      <td>0</td>\n",
       "      <td>1</td>\n",
       "      <td>1</td>\n",
       "    </tr>\n",
       "    <tr>\n",
       "      <th>3</th>\n",
       "      <td>2d681dd8</td>\n",
       "      <td>1.0</td>\n",
       "      <td>False</td>\n",
       "      <td>0</td>\n",
       "      <td>1</td>\n",
       "      <td>0</td>\n",
       "    </tr>\n",
       "    <tr>\n",
       "      <th>4</th>\n",
       "      <td>cccea85e</td>\n",
       "      <td>0.0</td>\n",
       "      <td>True</td>\n",
       "      <td>0</td>\n",
       "      <td>1</td>\n",
       "      <td>0</td>\n",
       "    </tr>\n",
       "  </tbody>\n",
       "</table>\n",
       "</div>"
      ],
      "text/plain": [
       "     person  busco_top_5_visitas  visito_mas_que_el_promedio  \\\n",
       "0  4886f805                  0.0                       False   \n",
       "1  ad93850f                  1.0                        True   \n",
       "2  0297fc1e                  1.0                        True   \n",
       "3  2d681dd8                  1.0                       False   \n",
       "4  cccea85e                  0.0                        True   \n",
       "\n",
       "   siempre_incrementando  inc_ultimo_mes  mismo_interes_ultimos_dos_meses  \n",
       "0                      0               1                                0  \n",
       "1                      0               1                                0  \n",
       "2                      0               1                                1  \n",
       "3                      0               1                                0  \n",
       "4                      0               1                                0  "
      ]
     },
     "execution_count": 24,
     "metadata": {},
     "output_type": "execute_result"
    }
   ],
   "source": [
    "df_features_bool.head()"
   ]
  },
  {
   "cell_type": "code",
   "execution_count": 25,
   "metadata": {},
   "outputs": [],
   "source": [
    "df_features_bool.iloc[:,1:] = df_features_bool.iloc[:,1:].astype(int)"
   ]
  },
  {
   "cell_type": "code",
   "execution_count": 26,
   "metadata": {},
   "outputs": [
    {
     "data": {
      "text/plain": [
       "(38829, 6)"
      ]
     },
     "execution_count": 26,
     "metadata": {},
     "output_type": "execute_result"
    }
   ],
   "source": [
    "df_features_bool.shape"
   ]
  },
  {
   "cell_type": "markdown",
   "metadata": {},
   "source": [
    "# Mergeo los features "
   ]
  },
  {
   "cell_type": "code",
   "execution_count": 27,
   "metadata": {},
   "outputs": [],
   "source": [
    "df_features_totales = df_features_bool.merge(df_features_numericos, on='person', how='left')"
   ]
  },
  {
   "cell_type": "code",
   "execution_count": 28,
   "metadata": {},
   "outputs": [],
   "source": [
    "df_features_totales = df_features_totales.merge(df_features_categoricos, on='person', how='left')"
   ]
  },
  {
   "cell_type": "code",
   "execution_count": 29,
   "metadata": {},
   "outputs": [],
   "source": [
    "df_features_totales = df_features_totales.merge(pd.read_csv('neww_features.csv'), on='person', how='left')"
   ]
  },
  {
   "cell_type": "code",
   "execution_count": 30,
   "metadata": {},
   "outputs": [
    {
     "data": {
      "text/plain": [
       "(38829, 323)"
      ]
     },
     "execution_count": 30,
     "metadata": {},
     "output_type": "execute_result"
    }
   ],
   "source": [
    "df_features_totales.shape"
   ]
  },
  {
   "cell_type": "code",
   "execution_count": 31,
   "metadata": {},
   "outputs": [
    {
     "data": {
      "text/plain": [
       "(38829,)"
      ]
     },
     "execution_count": 31,
     "metadata": {},
     "output_type": "execute_result"
    }
   ],
   "source": [
    "df_original['person'].drop_duplicates().shape"
   ]
  },
  {
   "cell_type": "markdown",
   "metadata": {},
   "source": [
    "Aparentemente tengo datos de todos los usuarios"
   ]
  },
  {
   "cell_type": "code",
   "execution_count": 32,
   "metadata": {},
   "outputs": [],
   "source": [
    "df_features_totales = df_features_totales.T.drop_duplicates().T"
   ]
  },
  {
   "cell_type": "code",
   "execution_count": 33,
   "metadata": {
    "scrolled": true
   },
   "outputs": [
    {
     "data": {
      "text/plain": [
       "(38829, 305)"
      ]
     },
     "execution_count": 33,
     "metadata": {},
     "output_type": "execute_result"
    }
   ],
   "source": [
    "df_features_totales.shape"
   ]
  },
  {
   "cell_type": "markdown",
   "metadata": {},
   "source": [
    "# Data preprocessing"
   ]
  },
  {
   "cell_type": "code",
   "execution_count": 34,
   "metadata": {},
   "outputs": [],
   "source": [
    "df_train = df_labels.merge(df_features_totales, on='person', how='left')"
   ]
  },
  {
   "cell_type": "code",
   "execution_count": 35,
   "metadata": {},
   "outputs": [
    {
     "data": {
      "text/plain": [
       "(19414, 306)"
      ]
     },
     "execution_count": 35,
     "metadata": {},
     "output_type": "execute_result"
    }
   ],
   "source": [
    "df_train.shape"
   ]
  },
  {
   "cell_type": "code",
   "execution_count": 36,
   "metadata": {},
   "outputs": [],
   "source": [
    "df_train = df_train.fillna(0)"
   ]
  },
  {
   "cell_type": "code",
   "execution_count": 37,
   "metadata": {},
   "outputs": [],
   "source": [
    "df_train_0 = df_train.loc[df_train['label'] == 0, :]\n",
    "df_train_1 = df_train.loc[df_train['label'] == 1, :]\n",
    "df_train_equal = pd.concat([df_train_1, shuffle(df_train_0).iloc[:980,:] ],axis=0)"
   ]
  },
  {
   "cell_type": "code",
   "execution_count": 38,
   "metadata": {},
   "outputs": [],
   "source": [
    "X,y = df_train.iloc[:,2:], df_train.iloc[:,1]"
   ]
  },
  {
   "cell_type": "code",
   "execution_count": 39,
   "metadata": {},
   "outputs": [],
   "source": [
    "X_train, X_test, y_train, y_test = \\\n",
    "    train_test_split(X, y, test_size=0.2, random_state=123)"
   ]
  },
  {
   "cell_type": "markdown",
   "metadata": {},
   "source": [
    "# Random Forest para feature importance"
   ]
  },
  {
   "cell_type": "markdown",
   "metadata": {},
   "source": [
    "Nos Quedaremos con los primeros 100 features"
   ]
  },
  {
   "cell_type": "code",
   "execution_count": 41,
   "metadata": {},
   "outputs": [
    {
     "name": "stdout",
     "output_type": "stream",
     "text": [
      "Wall time: 8min 55s\n",
      "Optimal number of features : 223\n",
      "Best features : Index(['busco_top_5_visitas', 'visito_mas_que_el_promedio', 'inc_ultimo_mes',\n",
      "       'mismo_interes_ultimos_dos_meses', 'conversion_sum', 'conversion_mean',\n",
      "       'viewed_sum', 'viewed_mean', 'viewed_std', 'dif_5_check',\n",
      "       ...\n",
      "       'PERCENTILE(checkout - viewed product)',\n",
      "       'PERCENTILE(conversion - visited site)',\n",
      "       'PERCENTILE(visited site - viewed product)',\n",
      "       'PERCENTILE(conversion - checkout)',\n",
      "       'PERCENTILE(conversion + visited site)',\n",
      "       'PERCENTILE(checkout + conversion)',\n",
      "       'PERCENTILE(conversion + viewed product)',\n",
      "       'PERCENTILE(checkout + visited site)',\n",
      "       'PERCENTILE(viewed product + visited site)',\n",
      "       'PERCENTILE(checkout + viewed product)'],\n",
      "      dtype='object', length=223)\n"
     ]
    }
   ],
   "source": [
    "from sklearn.feature_selection import RFECV\n",
    "\n",
    "# The \"accuracy\" scoring is proportional to the number of correct classifications\n",
    "clf_rf_4 = RandomForestClassifier() \n",
    "rfecv = RFECV(estimator=clf_rf_4, step=1, cv=5,scoring='accuracy')   #5-fold cross-validation\n",
    "%time rfecv = rfecv.fit(X_train, y_train)\n",
    "\n",
    "print('Optimal number of features :', rfecv.n_features_)\n",
    "print('Best features :', X_train.columns[rfecv.support_])"
   ]
  },
  {
   "cell_type": "code",
   "execution_count": 44,
   "metadata": {},
   "outputs": [],
   "source": [
    "f_m_i = list(X_train.columns[rfecv.support_])"
   ]
  },
  {
   "cell_type": "code",
   "execution_count": 46,
   "metadata": {},
   "outputs": [],
   "source": [
    "f_m_i.append('person')"
   ]
  },
  {
   "cell_type": "markdown",
   "metadata": {},
   "source": [
    "# Modelaje y entrenamiento!"
   ]
  },
  {
   "cell_type": "markdown",
   "metadata": {},
   "source": [
    "Nos quedamos con los 100 elejidos"
   ]
  },
  {
   "cell_type": "code",
   "execution_count": 47,
   "metadata": {},
   "outputs": [],
   "source": [
    "df_train = df_labels.merge(df_features_totales[f_m_i], on='person', how='left')"
   ]
  },
  {
   "cell_type": "code",
   "execution_count": 48,
   "metadata": {},
   "outputs": [
    {
     "data": {
      "text/plain": [
       "(19414, 225)"
      ]
     },
     "execution_count": 48,
     "metadata": {},
     "output_type": "execute_result"
    }
   ],
   "source": [
    "df_train.shape"
   ]
  },
  {
   "cell_type": "code",
   "execution_count": 49,
   "metadata": {},
   "outputs": [],
   "source": [
    "df_train = df_train.fillna(0)"
   ]
  },
  {
   "cell_type": "code",
   "execution_count": 50,
   "metadata": {},
   "outputs": [],
   "source": [
    "df_train_0 = df_train.loc[df_train['label'] == 0, :]\n",
    "df_train_1 = df_train.loc[df_train['label'] == 1, :]\n",
    "df_train_equal = pd.concat([df_train_1, shuffle(df_train_0).iloc[:980,:] ],axis=0)"
   ]
  },
  {
   "cell_type": "code",
   "execution_count": 51,
   "metadata": {},
   "outputs": [],
   "source": [
    "X,y = df_train.iloc[:,2:], df_train.iloc[:,1]"
   ]
  },
  {
   "cell_type": "code",
   "execution_count": 52,
   "metadata": {},
   "outputs": [],
   "source": [
    "X_train, X_test, y_train, y_test = \\\n",
    "    train_test_split(X, y, test_size=0.2, random_state=123)"
   ]
  },
  {
   "cell_type": "markdown",
   "metadata": {},
   "source": [
    "Entrenamos los 4 algoritmos seleccionados"
   ]
  },
  {
   "cell_type": "code",
   "execution_count": 53,
   "metadata": {},
   "outputs": [
    {
     "name": "stdout",
     "output_type": "stream",
     "text": [
      "\n",
      "XGBoost Classifier\n",
      "El puntaje auc es: 0.8781084614817377\n",
      "\n",
      "LGB Classifier\n",
      "El puntaje auc es: 0.8740477500524695\n",
      "Fitting 2 folds for each of 80 candidates, totalling 160 fits\n"
     ]
    },
    {
     "name": "stderr",
     "output_type": "stream",
     "text": [
      "[Parallel(n_jobs=4)]: Done  42 tasks      | elapsed:   31.5s\n",
      "[Parallel(n_jobs=4)]: Done 160 out of 160 | elapsed:  1.8min finished\n"
     ]
    },
    {
     "name": "stdout",
     "output_type": "stream",
     "text": [
      "\n",
      "Red Neuronal Classifier\n",
      "0.846034888947442\n",
      "Fitting 2 folds for each of 72 candidates, totalling 144 fits\n"
     ]
    },
    {
     "name": "stderr",
     "output_type": "stream",
     "text": [
      "[Parallel(n_jobs=4)]: Done  42 tasks      | elapsed:   54.0s\n",
      "[Parallel(n_jobs=4)]: Done 144 out of 144 | elapsed:  3.2min finished\n"
     ]
    },
    {
     "name": "stdout",
     "output_type": "stream",
     "text": [
      "Gradient Boosting\n",
      "0.8689216687000286\n"
     ]
    }
   ],
   "source": [
    "xgb_model = xgb_classifier(X_train, X_test, y_train, y_test,useTrainCV=True)\n",
    "lgb_model = lgb_classifier(X_train, X_test, y_train, y_test)\n",
    "mlp_model = mlp_classifier(X,y)\n",
    "gb_model = gb_classifier(X, y)"
   ]
  },
  {
   "cell_type": "code",
   "execution_count": 54,
   "metadata": {},
   "outputs": [
    {
     "name": "stdout",
     "output_type": "stream",
     "text": [
      "Ensamble final\n",
      "El puntaje auc es: 0.8790763104604267\n"
     ]
    }
   ],
   "source": [
    "ensamble = ensamblador([xgb_model,lgb_model,mlp_model,gb_model],X_train, X_test, y_train, y_test)"
   ]
  },
  {
   "cell_type": "markdown",
   "metadata": {},
   "source": [
    "# Prediccion para el tp"
   ]
  },
  {
   "cell_type": "code",
   "execution_count": 55,
   "metadata": {},
   "outputs": [],
   "source": [
    "personas_a_predecir = pd.read_csv('trocafone_kaggle_test.csv', low_memory=False)"
   ]
  },
  {
   "cell_type": "code",
   "execution_count": 56,
   "metadata": {},
   "outputs": [],
   "source": [
    "mejores_columnas_por_random_forest = ['last_day_check',\n",
    " 'first_day_check',\n",
    " 'Checkout mean',\n",
    " 'checkout + visited site',\n",
    " 'Checkout max',\n",
    " '%checkouts',\n",
    " 'PERCENTILE(visited site - checkout)',\n",
    " 'cant_modelos_distintos',\n",
    " 'PERCENTILE(checkout)',\n",
    " 'MAX(cant_interacciones_por_modelo)',\n",
    " 'visitas_mes5',\n",
    " 'cant_checkouts_5',\n",
    " 'checkout + viewed product',\n",
    " 'Promedio_visitas_producto',\n",
    " 'visited site + visited site - checkout',\n",
    " 'horas_mirando_productos',\n",
    " 'viewed product',\n",
    " 'PERCENTILE(checkout - visited site)',\n",
    " 'checkout + viewed product - visited site',\n",
    " 'checkout + visited site - checkout',\n",
    " 'viewed_std',\n",
    " 'PERCENTILE(checkout + viewed product)',\n",
    " 'MEAN(cant_interacciones_por_modelo)',\n",
    " 'last_week_check',\n",
    " 'promedio_ingreso_mensual',\n",
    " 'viewed product + viewed product - visited site',\n",
    " 'checkout - visited site + visited site',\n",
    " 'act_ultima_semana',\n",
    " 'Cantidad_visitas',\n",
    " 'viewed product - visited site + visited site',\n",
    " 'PERCENTILE(viewed product)',\n",
    " 'device_type_Smartphone',\n",
    " 'viewed_sum',\n",
    " 'PERCENTILE(checkout - viewed product)',\n",
    " 'PERCENTILE(visited site - viewed product)',\n",
    " 'PERCENTILE(viewed product - visited site)',\n",
    " 'visited site + visited site - viewed product',\n",
    " 'viewed product + viewed product - checkout',\n",
    " 'device_type_Computer',\n",
    " 'PERCENTILE(viewed product + visited site)',\n",
    " 'viewed_mean',\n",
    " 'viewed product + visited site',\n",
    " 'checkout',\n",
    " 'first_week_check',\n",
    " 'viewed product - checkout + visited site - checkout',\n",
    " 'checkout - viewed product + checkout - visited site',\n",
    " 'PERCENTILE(viewed product - checkout)',\n",
    " 'visited site - viewed product',\n",
    " 'viewed product - visited site',\n",
    " 'viewed product + visited site - viewed product',\n",
    " 'checkout + checkout - visited site',\n",
    " 'checkout - viewed product',\n",
    " 'visited site',\n",
    " 'checkout - viewed product + visited site - viewed product',\n",
    " 'checkout - viewed product + viewed product',\n",
    " 'PERCENTILE(visited site)',\n",
    " 'checkout - visited site + visited site - viewed product',\n",
    " 'visitas_mes4',\n",
    " 'visited site - checkout + visited site - viewed product',\n",
    " 'viewed product - visited site + visited site - checkout',\n",
    " 'visitas_mes3',\n",
    " 'checkout - visited site + viewed product - checkout',\n",
    " 'conversion + conversion - viewed product',\n",
    " 'checkout + checkout - viewed product',\n",
    " 'viewed product + visited site - checkout',\n",
    " 'viewed product - checkout + viewed product - visited site',\n",
    " 'checkout - viewed product + conversion - visited site',\n",
    " 'cant_checkouts_dif_modelos',\n",
    " 'viewed product - conversion + visited site',\n",
    " 'act_primera_semana',\n",
    " 'conversion - viewed product + visited site - viewed product',\n",
    " 'checkout - viewed product + visited site',\n",
    " 'conversion_sum',\n",
    " 'semana_mas_interactuante_Fifth',\n",
    " 'viewed product - checkout',\n",
    " 'marca_mas_buscada_Samsung',\n",
    " 'viewed product - conversion + visited site - conversion',\n",
    " 'inc_ultimo_mes',\n",
    " 'checkout - visited site + viewed product - visited site',\n",
    " 'checkout + viewed product - checkout',\n",
    " 'conversion + viewed product - conversion',\n",
    " 'busco_top_5_visitas',\n",
    " 'PERCENTILE(checkout - conversion)',\n",
    " 'checkouts_ult_semana',\n",
    " 'channel_frecuente_Paid',\n",
    " 'conversion - checkout + conversion - viewed product',\n",
    " 'viewed product - checkout + viewed product - conversion',\n",
    " 'checkout - viewed product + visited site - checkout',\n",
    " 'PERCENTILE(checkout + visited site)',\n",
    " 'channel_frecuente_Referral',\n",
    " 'PERCENTILE(conversion - viewed product)',\n",
    " 'conversion - visited site + viewed product - conversion',\n",
    " 'checkout - visited site + viewed product - conversion',\n",
    " 'conversion - visited site + visited site - viewed product',\n",
    " 'conversion - visited site + viewed product - checkout',\n",
    " 'checkout - viewed product + viewed product - visited site',\n",
    " 'marca_mas_buscada_iPhone',\n",
    " 'mayor_actividad_ult_semana',\n",
    " 'conversion + viewed product',\n",
    " 'PERCENTILE(conversion)', 'person']"
   ]
  },
  {
   "cell_type": "code",
   "execution_count": 58,
   "metadata": {},
   "outputs": [
    {
     "data": {
      "text/plain": [
       "Index(['busco_top_5_visitas', 'visito_mas_que_el_promedio', 'inc_ultimo_mes',\n",
       "       'mismo_interes_ultimos_dos_meses', 'conversion_sum', 'conversion_mean',\n",
       "       'viewed_sum', 'viewed_mean', 'viewed_std', 'dif_5_check',\n",
       "       ...\n",
       "       'PERCENTILE(conversion - visited site)',\n",
       "       'PERCENTILE(visited site - viewed product)',\n",
       "       'PERCENTILE(conversion - checkout)',\n",
       "       'PERCENTILE(conversion + visited site)',\n",
       "       'PERCENTILE(checkout + conversion)',\n",
       "       'PERCENTILE(conversion + viewed product)',\n",
       "       'PERCENTILE(checkout + visited site)',\n",
       "       'PERCENTILE(viewed product + visited site)',\n",
       "       'PERCENTILE(checkout + viewed product)', 'person'],\n",
       "      dtype='object', length=224)"
      ]
     },
     "execution_count": 58,
     "metadata": {},
     "output_type": "execute_result"
    }
   ],
   "source": [
    "df_features_totales[f_m_i].columns"
   ]
  },
  {
   "cell_type": "code",
   "execution_count": 59,
   "metadata": {},
   "outputs": [],
   "source": [
    "personas_a_predecir_con_features = personas_a_predecir.merge(df_features_totales[f_m_i], on='person', how='left')"
   ]
  },
  {
   "cell_type": "code",
   "execution_count": 60,
   "metadata": {},
   "outputs": [],
   "source": [
    "personas_a_predecir_con_features = personas_a_predecir_con_features.fillna(0)"
   ]
  },
  {
   "cell_type": "code",
   "execution_count": 61,
   "metadata": {},
   "outputs": [
    {
     "data": {
      "text/html": [
       "<div>\n",
       "<style scoped>\n",
       "    .dataframe tbody tr th:only-of-type {\n",
       "        vertical-align: middle;\n",
       "    }\n",
       "\n",
       "    .dataframe tbody tr th {\n",
       "        vertical-align: top;\n",
       "    }\n",
       "\n",
       "    .dataframe thead th {\n",
       "        text-align: right;\n",
       "    }\n",
       "</style>\n",
       "<table border=\"1\" class=\"dataframe\">\n",
       "  <thead>\n",
       "    <tr style=\"text-align: right;\">\n",
       "      <th></th>\n",
       "      <th>person</th>\n",
       "      <th>busco_top_5_visitas</th>\n",
       "      <th>visito_mas_que_el_promedio</th>\n",
       "      <th>inc_ultimo_mes</th>\n",
       "      <th>mismo_interes_ultimos_dos_meses</th>\n",
       "      <th>conversion_sum</th>\n",
       "      <th>conversion_mean</th>\n",
       "      <th>viewed_sum</th>\n",
       "      <th>viewed_mean</th>\n",
       "      <th>viewed_std</th>\n",
       "      <th>...</th>\n",
       "      <th>PERCENTILE(checkout - viewed product)</th>\n",
       "      <th>PERCENTILE(conversion - visited site)</th>\n",
       "      <th>PERCENTILE(visited site - viewed product)</th>\n",
       "      <th>PERCENTILE(conversion - checkout)</th>\n",
       "      <th>PERCENTILE(conversion + visited site)</th>\n",
       "      <th>PERCENTILE(checkout + conversion)</th>\n",
       "      <th>PERCENTILE(conversion + viewed product)</th>\n",
       "      <th>PERCENTILE(checkout + visited site)</th>\n",
       "      <th>PERCENTILE(viewed product + visited site)</th>\n",
       "      <th>PERCENTILE(checkout + viewed product)</th>\n",
       "    </tr>\n",
       "  </thead>\n",
       "  <tbody>\n",
       "    <tr>\n",
       "      <th>0</th>\n",
       "      <td>4886f805</td>\n",
       "      <td>0</td>\n",
       "      <td>0</td>\n",
       "      <td>1</td>\n",
       "      <td>0</td>\n",
       "      <td>0.0</td>\n",
       "      <td>0.0</td>\n",
       "      <td>4.0</td>\n",
       "      <td>0.000000</td>\n",
       "      <td>4.000000</td>\n",
       "      <td>...</td>\n",
       "      <td>0.711226</td>\n",
       "      <td>0.0</td>\n",
       "      <td>0.662682</td>\n",
       "      <td>0.0</td>\n",
       "      <td>0.0</td>\n",
       "      <td>0.0</td>\n",
       "      <td>0.0</td>\n",
       "      <td>0.166450</td>\n",
       "      <td>0.247665</td>\n",
       "      <td>0.254634</td>\n",
       "    </tr>\n",
       "    <tr>\n",
       "      <th>1</th>\n",
       "      <td>0297fc1e</td>\n",
       "      <td>1</td>\n",
       "      <td>1</td>\n",
       "      <td>1</td>\n",
       "      <td>1</td>\n",
       "      <td>0.0</td>\n",
       "      <td>0.0</td>\n",
       "      <td>404.0</td>\n",
       "      <td>5.228295</td>\n",
       "      <td>7.214286</td>\n",
       "      <td>...</td>\n",
       "      <td>0.009016</td>\n",
       "      <td>0.0</td>\n",
       "      <td>0.010817</td>\n",
       "      <td>0.0</td>\n",
       "      <td>0.0</td>\n",
       "      <td>0.0</td>\n",
       "      <td>0.0</td>\n",
       "      <td>0.997089</td>\n",
       "      <td>0.993528</td>\n",
       "      <td>0.991173</td>\n",
       "    </tr>\n",
       "    <tr>\n",
       "      <th>2</th>\n",
       "      <td>2d681dd8</td>\n",
       "      <td>1</td>\n",
       "      <td>0</td>\n",
       "      <td>1</td>\n",
       "      <td>0</td>\n",
       "      <td>0.0</td>\n",
       "      <td>0.0</td>\n",
       "      <td>13.0</td>\n",
       "      <td>0.707107</td>\n",
       "      <td>6.500000</td>\n",
       "      <td>...</td>\n",
       "      <td>0.453345</td>\n",
       "      <td>0.0</td>\n",
       "      <td>0.420758</td>\n",
       "      <td>0.0</td>\n",
       "      <td>0.0</td>\n",
       "      <td>0.0</td>\n",
       "      <td>0.0</td>\n",
       "      <td>0.406105</td>\n",
       "      <td>0.526929</td>\n",
       "      <td>0.521515</td>\n",
       "    </tr>\n",
       "    <tr>\n",
       "      <th>3</th>\n",
       "      <td>cccea85e</td>\n",
       "      <td>0</td>\n",
       "      <td>1</td>\n",
       "      <td>1</td>\n",
       "      <td>0</td>\n",
       "      <td>0.0</td>\n",
       "      <td>0.0</td>\n",
       "      <td>739.0</td>\n",
       "      <td>26.241971</td>\n",
       "      <td>56.846154</td>\n",
       "      <td>...</td>\n",
       "      <td>0.002270</td>\n",
       "      <td>0.0</td>\n",
       "      <td>0.001760</td>\n",
       "      <td>0.0</td>\n",
       "      <td>0.0</td>\n",
       "      <td>0.0</td>\n",
       "      <td>0.0</td>\n",
       "      <td>0.939928</td>\n",
       "      <td>0.997563</td>\n",
       "      <td>0.997604</td>\n",
       "    </tr>\n",
       "    <tr>\n",
       "      <th>4</th>\n",
       "      <td>4c8a8b93</td>\n",
       "      <td>1</td>\n",
       "      <td>1</td>\n",
       "      <td>1</td>\n",
       "      <td>0</td>\n",
       "      <td>0.0</td>\n",
       "      <td>0.0</td>\n",
       "      <td>177.0</td>\n",
       "      <td>40.339807</td>\n",
       "      <td>35.400000</td>\n",
       "      <td>...</td>\n",
       "      <td>0.036284</td>\n",
       "      <td>0.0</td>\n",
       "      <td>0.033739</td>\n",
       "      <td>0.0</td>\n",
       "      <td>0.0</td>\n",
       "      <td>0.0</td>\n",
       "      <td>0.0</td>\n",
       "      <td>0.935390</td>\n",
       "      <td>0.965828</td>\n",
       "      <td>0.962219</td>\n",
       "    </tr>\n",
       "  </tbody>\n",
       "</table>\n",
       "<p>5 rows × 224 columns</p>\n",
       "</div>"
      ],
      "text/plain": [
       "     person  busco_top_5_visitas  visito_mas_que_el_promedio  inc_ultimo_mes  \\\n",
       "0  4886f805                    0                           0               1   \n",
       "1  0297fc1e                    1                           1               1   \n",
       "2  2d681dd8                    1                           0               1   \n",
       "3  cccea85e                    0                           1               1   \n",
       "4  4c8a8b93                    1                           1               1   \n",
       "\n",
       "   mismo_interes_ultimos_dos_meses  conversion_sum  conversion_mean  \\\n",
       "0                                0             0.0              0.0   \n",
       "1                                1             0.0              0.0   \n",
       "2                                0             0.0              0.0   \n",
       "3                                0             0.0              0.0   \n",
       "4                                0             0.0              0.0   \n",
       "\n",
       "   viewed_sum  viewed_mean  viewed_std                  ...                    \\\n",
       "0         4.0     0.000000    4.000000                  ...                     \n",
       "1       404.0     5.228295    7.214286                  ...                     \n",
       "2        13.0     0.707107    6.500000                  ...                     \n",
       "3       739.0    26.241971   56.846154                  ...                     \n",
       "4       177.0    40.339807   35.400000                  ...                     \n",
       "\n",
       "   PERCENTILE(checkout - viewed product)  \\\n",
       "0                               0.711226   \n",
       "1                               0.009016   \n",
       "2                               0.453345   \n",
       "3                               0.002270   \n",
       "4                               0.036284   \n",
       "\n",
       "   PERCENTILE(conversion - visited site)  \\\n",
       "0                                    0.0   \n",
       "1                                    0.0   \n",
       "2                                    0.0   \n",
       "3                                    0.0   \n",
       "4                                    0.0   \n",
       "\n",
       "   PERCENTILE(visited site - viewed product)  \\\n",
       "0                                   0.662682   \n",
       "1                                   0.010817   \n",
       "2                                   0.420758   \n",
       "3                                   0.001760   \n",
       "4                                   0.033739   \n",
       "\n",
       "   PERCENTILE(conversion - checkout)  PERCENTILE(conversion + visited site)  \\\n",
       "0                                0.0                                    0.0   \n",
       "1                                0.0                                    0.0   \n",
       "2                                0.0                                    0.0   \n",
       "3                                0.0                                    0.0   \n",
       "4                                0.0                                    0.0   \n",
       "\n",
       "   PERCENTILE(checkout + conversion)  PERCENTILE(conversion + viewed product)  \\\n",
       "0                                0.0                                      0.0   \n",
       "1                                0.0                                      0.0   \n",
       "2                                0.0                                      0.0   \n",
       "3                                0.0                                      0.0   \n",
       "4                                0.0                                      0.0   \n",
       "\n",
       "   PERCENTILE(checkout + visited site)  \\\n",
       "0                             0.166450   \n",
       "1                             0.997089   \n",
       "2                             0.406105   \n",
       "3                             0.939928   \n",
       "4                             0.935390   \n",
       "\n",
       "   PERCENTILE(viewed product + visited site)  \\\n",
       "0                                   0.247665   \n",
       "1                                   0.993528   \n",
       "2                                   0.526929   \n",
       "3                                   0.997563   \n",
       "4                                   0.965828   \n",
       "\n",
       "   PERCENTILE(checkout + viewed product)  \n",
       "0                               0.254634  \n",
       "1                               0.991173  \n",
       "2                               0.521515  \n",
       "3                               0.997604  \n",
       "4                               0.962219  \n",
       "\n",
       "[5 rows x 224 columns]"
      ]
     },
     "execution_count": 61,
     "metadata": {},
     "output_type": "execute_result"
    }
   ],
   "source": [
    "personas_a_predecir_con_features.head()"
   ]
  },
  {
   "cell_type": "code",
   "execution_count": 62,
   "metadata": {},
   "outputs": [],
   "source": [
    "personas_a_predecir_con_features = personas_a_predecir_con_features.drop(columns = ['person'])"
   ]
  },
  {
   "cell_type": "code",
   "execution_count": 63,
   "metadata": {},
   "outputs": [
    {
     "data": {
      "text/plain": [
       "Index(['busco_top_5_visitas', 'visito_mas_que_el_promedio', 'inc_ultimo_mes',\n",
       "       'mismo_interes_ultimos_dos_meses', 'conversion_sum', 'conversion_mean',\n",
       "       'viewed_sum', 'viewed_mean', 'viewed_std', 'dif_5_check',\n",
       "       ...\n",
       "       'PERCENTILE(checkout - viewed product)',\n",
       "       'PERCENTILE(conversion - visited site)',\n",
       "       'PERCENTILE(visited site - viewed product)',\n",
       "       'PERCENTILE(conversion - checkout)',\n",
       "       'PERCENTILE(conversion + visited site)',\n",
       "       'PERCENTILE(checkout + conversion)',\n",
       "       'PERCENTILE(conversion + viewed product)',\n",
       "       'PERCENTILE(checkout + visited site)',\n",
       "       'PERCENTILE(viewed product + visited site)',\n",
       "       'PERCENTILE(checkout + viewed product)'],\n",
       "      dtype='object', length=223)"
      ]
     },
     "execution_count": 63,
     "metadata": {},
     "output_type": "execute_result"
    }
   ],
   "source": [
    "personas_a_predecir_con_features.columns"
   ]
  },
  {
   "cell_type": "code",
   "execution_count": 64,
   "metadata": {},
   "outputs": [],
   "source": [
    "final_prediction = ensamble.predict_proba(personas_a_predecir_con_features)[:,1]"
   ]
  },
  {
   "cell_type": "code",
   "execution_count": 65,
   "metadata": {},
   "outputs": [],
   "source": [
    "final_prediction_tp = pd.Series(final_prediction)"
   ]
  },
  {
   "cell_type": "code",
   "execution_count": 66,
   "metadata": {},
   "outputs": [
    {
     "data": {
      "text/plain": [
       "4003     0.005206\n",
       "15235    0.005712\n",
       "4063     0.006243\n",
       "16182    0.006429\n",
       "17994    0.006711\n",
       "9499     0.007232\n",
       "16689    0.007947\n",
       "10235    0.008239\n",
       "4044     0.009702\n",
       "16463    0.009751\n",
       "17226    0.009766\n",
       "18166    0.009805\n",
       "6710     0.009809\n",
       "18281    0.009814\n",
       "13247    0.009842\n",
       "9824     0.009926\n",
       "11868    0.009980\n",
       "5472     0.010080\n",
       "3447     0.010085\n",
       "14928    0.010091\n",
       "16677    0.010111\n",
       "14456    0.010117\n",
       "4047     0.010117\n",
       "4578     0.010119\n",
       "7778     0.010125\n",
       "6858     0.010176\n",
       "4532     0.010213\n",
       "3885     0.010240\n",
       "16691    0.010253\n",
       "11248    0.010266\n",
       "           ...   \n",
       "9127     0.411531\n",
       "12704    0.411942\n",
       "4861     0.412075\n",
       "8321     0.412317\n",
       "18032    0.413415\n",
       "12751    0.417003\n",
       "4651     0.423470\n",
       "4183     0.423753\n",
       "16103    0.424945\n",
       "13124    0.425171\n",
       "4789     0.425481\n",
       "9047     0.426909\n",
       "4793     0.427239\n",
       "9089     0.427568\n",
       "4869     0.429887\n",
       "9063     0.433320\n",
       "4512     0.435014\n",
       "16191    0.449799\n",
       "11555    0.454887\n",
       "9107     0.458640\n",
       "16111    0.472373\n",
       "3147     0.476526\n",
       "4821     0.479701\n",
       "4502     0.481265\n",
       "8902     0.482294\n",
       "8705     0.483899\n",
       "4816     0.491892\n",
       "8662     0.511324\n",
       "8981     0.512053\n",
       "4517     0.516952\n",
       "Length: 19415, dtype: float64"
      ]
     },
     "execution_count": 66,
     "metadata": {},
     "output_type": "execute_result"
    }
   ],
   "source": [
    "final_prediction_tp.sort_values()"
   ]
  },
  {
   "cell_type": "code",
   "execution_count": 67,
   "metadata": {},
   "outputs": [],
   "source": [
    "personas_a_predecir['label'] = final_prediction_tp"
   ]
  },
  {
   "cell_type": "code",
   "execution_count": 68,
   "metadata": {},
   "outputs": [],
   "source": [
    "num = personas_a_predecir._get_numeric_data()\n",
    "num[num < 0] = 0"
   ]
  },
  {
   "cell_type": "code",
   "execution_count": 69,
   "metadata": {},
   "outputs": [],
   "source": [
    "personas_a_predecir.to_csv(path_or_buf = 'submit_kaggle.csv', index = False)"
   ]
  },
  {
   "cell_type": "code",
   "execution_count": null,
   "metadata": {},
   "outputs": [],
   "source": []
  }
 ],
 "metadata": {
  "kernelspec": {
   "display_name": "Python 3",
   "language": "python",
   "name": "python3"
  },
  "language_info": {
   "codemirror_mode": {
    "name": "ipython",
    "version": 3
   },
   "file_extension": ".py",
   "mimetype": "text/x-python",
   "name": "python",
   "nbconvert_exporter": "python",
   "pygments_lexer": "ipython3",
   "version": "3.7.0"
  }
 },
 "nbformat": 4,
 "nbformat_minor": 2
}
