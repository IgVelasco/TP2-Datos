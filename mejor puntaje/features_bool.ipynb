{
 "cells": [
  {
   "cell_type": "code",
   "execution_count": null,
   "metadata": {},
   "outputs": [],
   "source": []
  },
  {
   "cell_type": "code",
   "execution_count": 1,
   "metadata": {},
   "outputs": [],
   "source": [
    "import xgboost as xgb\n",
    "from sklearn.metrics import mean_squared_error\n",
    "import pandas as pd\n",
    "import numpy as np\n",
    "from sklearn.model_selection import train_test_split\n",
    "import datetime"
   ]
  },
  {
   "cell_type": "markdown",
   "metadata": {},
   "source": [
    "Cargo los dataframes originales"
   ]
  },
  {
   "cell_type": "code",
   "execution_count": 2,
   "metadata": {},
   "outputs": [],
   "source": [
    "df_original = pd.read_csv('events_up_to_01062018.csv', low_memory = False)\n",
    "df_labels= pd.read_csv('labels_training_set.csv', low_memory = False)"
   ]
  },
  {
   "cell_type": "markdown",
   "metadata": {},
   "source": [
    "Me quedo con las columnas de interes"
   ]
  },
  {
   "cell_type": "code",
   "execution_count": 3,
   "metadata": {},
   "outputs": [
    {
     "data": {
      "text/html": [
       "<div>\n",
       "<style scoped>\n",
       "    .dataframe tbody tr th:only-of-type {\n",
       "        vertical-align: middle;\n",
       "    }\n",
       "\n",
       "    .dataframe tbody tr th {\n",
       "        vertical-align: top;\n",
       "    }\n",
       "\n",
       "    .dataframe thead th {\n",
       "        text-align: right;\n",
       "    }\n",
       "</style>\n",
       "<table border=\"1\" class=\"dataframe\">\n",
       "  <thead>\n",
       "    <tr style=\"text-align: right;\">\n",
       "      <th></th>\n",
       "      <th>person</th>\n",
       "      <th>event</th>\n",
       "      <th>sku</th>\n",
       "      <th>model</th>\n",
       "      <th>city</th>\n",
       "      <th>region</th>\n",
       "      <th>country</th>\n",
       "    </tr>\n",
       "  </thead>\n",
       "  <tbody>\n",
       "    <tr>\n",
       "      <th>0</th>\n",
       "      <td>4886f805</td>\n",
       "      <td>viewed product</td>\n",
       "      <td>9288.0</td>\n",
       "      <td>Samsung Galaxy J7 Prime</td>\n",
       "      <td>NaN</td>\n",
       "      <td>NaN</td>\n",
       "      <td>NaN</td>\n",
       "    </tr>\n",
       "    <tr>\n",
       "      <th>1</th>\n",
       "      <td>ad93850f</td>\n",
       "      <td>viewed product</td>\n",
       "      <td>304.0</td>\n",
       "      <td>iPhone 5s</td>\n",
       "      <td>NaN</td>\n",
       "      <td>NaN</td>\n",
       "      <td>NaN</td>\n",
       "    </tr>\n",
       "    <tr>\n",
       "      <th>2</th>\n",
       "      <td>0297fc1e</td>\n",
       "      <td>viewed product</td>\n",
       "      <td>6888.0</td>\n",
       "      <td>iPhone 6S</td>\n",
       "      <td>NaN</td>\n",
       "      <td>NaN</td>\n",
       "      <td>NaN</td>\n",
       "    </tr>\n",
       "    <tr>\n",
       "      <th>3</th>\n",
       "      <td>2d681dd8</td>\n",
       "      <td>viewed product</td>\n",
       "      <td>11890.0</td>\n",
       "      <td>iPhone 7</td>\n",
       "      <td>NaN</td>\n",
       "      <td>NaN</td>\n",
       "      <td>NaN</td>\n",
       "    </tr>\n",
       "    <tr>\n",
       "      <th>4</th>\n",
       "      <td>cccea85e</td>\n",
       "      <td>viewed product</td>\n",
       "      <td>7517.0</td>\n",
       "      <td>LG G4 H818P</td>\n",
       "      <td>NaN</td>\n",
       "      <td>NaN</td>\n",
       "      <td>NaN</td>\n",
       "    </tr>\n",
       "  </tbody>\n",
       "</table>\n",
       "</div>"
      ],
      "text/plain": [
       "     person           event      sku                    model city region  \\\n",
       "0  4886f805  viewed product   9288.0  Samsung Galaxy J7 Prime  NaN    NaN   \n",
       "1  ad93850f  viewed product    304.0                iPhone 5s  NaN    NaN   \n",
       "2  0297fc1e  viewed product   6888.0                iPhone 6S  NaN    NaN   \n",
       "3  2d681dd8  viewed product  11890.0                 iPhone 7  NaN    NaN   \n",
       "4  cccea85e  viewed product   7517.0              LG G4 H818P  NaN    NaN   \n",
       "\n",
       "  country  \n",
       "0     NaN  \n",
       "1     NaN  \n",
       "2     NaN  \n",
       "3     NaN  \n",
       "4     NaN  "
      ]
     },
     "execution_count": 3,
     "metadata": {},
     "output_type": "execute_result"
    }
   ],
   "source": [
    "df_reducido = df_original.loc[:,['person','event','sku','model','city','region','country']]\n",
    "df_reducido.head()"
   ]
  },
  {
   "cell_type": "markdown",
   "metadata": {},
   "source": [
    "Construyo un dataframe que tiene las personas, con las regiones a las que pertenecen, y solo las que realizaron viewed product"
   ]
  },
  {
   "cell_type": "code",
   "execution_count": 4,
   "metadata": {},
   "outputs": [],
   "source": [
    "df_region_person = df_original.loc[df_original['country'].notnull(),['person','region','country']]"
   ]
  },
  {
   "cell_type": "code",
   "execution_count": 5,
   "metadata": {},
   "outputs": [],
   "source": [
    "df_region_person['counter'] = 1\n",
    "df_prueba = df_region_person.groupby(['person','region'])['counter'].sum().reset_index()"
   ]
  },
  {
   "cell_type": "code",
   "execution_count": 6,
   "metadata": {},
   "outputs": [],
   "source": [
    "df_region_person= df_prueba.sort_values(by='counter',ascending = False).drop_duplicates(subset='person',keep='first')"
   ]
  },
  {
   "cell_type": "code",
   "execution_count": 7,
   "metadata": {},
   "outputs": [],
   "source": [
    "df_region_person = df_region_person.rename(columns={'region':'most_visited_region'})"
   ]
  },
  {
   "cell_type": "code",
   "execution_count": 8,
   "metadata": {},
   "outputs": [],
   "source": [
    "df_region_person = df_region_person.drop(['counter'],axis=1)"
   ]
  },
  {
   "cell_type": "code",
   "execution_count": 9,
   "metadata": {},
   "outputs": [
    {
     "data": {
      "text/html": [
       "<div>\n",
       "<style scoped>\n",
       "    .dataframe tbody tr th:only-of-type {\n",
       "        vertical-align: middle;\n",
       "    }\n",
       "\n",
       "    .dataframe tbody tr th {\n",
       "        vertical-align: top;\n",
       "    }\n",
       "\n",
       "    .dataframe thead th {\n",
       "        text-align: right;\n",
       "    }\n",
       "</style>\n",
       "<table border=\"1\" class=\"dataframe\">\n",
       "  <thead>\n",
       "    <tr style=\"text-align: right;\">\n",
       "      <th></th>\n",
       "      <th>person</th>\n",
       "      <th>event</th>\n",
       "      <th>sku</th>\n",
       "      <th>model</th>\n",
       "      <th>city</th>\n",
       "      <th>region</th>\n",
       "      <th>country</th>\n",
       "      <th>most_visited_region</th>\n",
       "    </tr>\n",
       "  </thead>\n",
       "  <tbody>\n",
       "    <tr>\n",
       "      <th>0</th>\n",
       "      <td>4886f805</td>\n",
       "      <td>viewed product</td>\n",
       "      <td>9288.0</td>\n",
       "      <td>Samsung Galaxy J7 Prime</td>\n",
       "      <td>NaN</td>\n",
       "      <td>NaN</td>\n",
       "      <td>NaN</td>\n",
       "      <td>Rio de Janeiro</td>\n",
       "    </tr>\n",
       "    <tr>\n",
       "      <th>1</th>\n",
       "      <td>ad93850f</td>\n",
       "      <td>viewed product</td>\n",
       "      <td>304.0</td>\n",
       "      <td>iPhone 5s</td>\n",
       "      <td>NaN</td>\n",
       "      <td>NaN</td>\n",
       "      <td>NaN</td>\n",
       "      <td>Sao Paulo</td>\n",
       "    </tr>\n",
       "    <tr>\n",
       "      <th>2</th>\n",
       "      <td>0297fc1e</td>\n",
       "      <td>viewed product</td>\n",
       "      <td>6888.0</td>\n",
       "      <td>iPhone 6S</td>\n",
       "      <td>NaN</td>\n",
       "      <td>NaN</td>\n",
       "      <td>NaN</td>\n",
       "      <td>Rio de Janeiro</td>\n",
       "    </tr>\n",
       "    <tr>\n",
       "      <th>3</th>\n",
       "      <td>2d681dd8</td>\n",
       "      <td>viewed product</td>\n",
       "      <td>11890.0</td>\n",
       "      <td>iPhone 7</td>\n",
       "      <td>NaN</td>\n",
       "      <td>NaN</td>\n",
       "      <td>NaN</td>\n",
       "      <td>Sao Paulo</td>\n",
       "    </tr>\n",
       "    <tr>\n",
       "      <th>4</th>\n",
       "      <td>cccea85e</td>\n",
       "      <td>viewed product</td>\n",
       "      <td>7517.0</td>\n",
       "      <td>LG G4 H818P</td>\n",
       "      <td>NaN</td>\n",
       "      <td>NaN</td>\n",
       "      <td>NaN</td>\n",
       "      <td>Sao Paulo</td>\n",
       "    </tr>\n",
       "  </tbody>\n",
       "</table>\n",
       "</div>"
      ],
      "text/plain": [
       "     person           event      sku                    model city region  \\\n",
       "0  4886f805  viewed product   9288.0  Samsung Galaxy J7 Prime  NaN    NaN   \n",
       "1  ad93850f  viewed product    304.0                iPhone 5s  NaN    NaN   \n",
       "2  0297fc1e  viewed product   6888.0                iPhone 6S  NaN    NaN   \n",
       "3  2d681dd8  viewed product  11890.0                 iPhone 7  NaN    NaN   \n",
       "4  cccea85e  viewed product   7517.0              LG G4 H818P  NaN    NaN   \n",
       "\n",
       "  country most_visited_region  \n",
       "0     NaN      Rio de Janeiro  \n",
       "1     NaN           Sao Paulo  \n",
       "2     NaN      Rio de Janeiro  \n",
       "3     NaN           Sao Paulo  \n",
       "4     NaN           Sao Paulo  "
      ]
     },
     "execution_count": 9,
     "metadata": {},
     "output_type": "execute_result"
    }
   ],
   "source": [
    "df_reducido = df_reducido.merge(df_region_person, left_on='person', right_on='person', how='left')\n",
    "df_reducido.head()"
   ]
  },
  {
   "cell_type": "code",
   "execution_count": 10,
   "metadata": {},
   "outputs": [
    {
     "data": {
      "text/html": [
       "<div>\n",
       "<style scoped>\n",
       "    .dataframe tbody tr th:only-of-type {\n",
       "        vertical-align: middle;\n",
       "    }\n",
       "\n",
       "    .dataframe tbody tr th {\n",
       "        vertical-align: top;\n",
       "    }\n",
       "\n",
       "    .dataframe thead th {\n",
       "        text-align: right;\n",
       "    }\n",
       "</style>\n",
       "<table border=\"1\" class=\"dataframe\">\n",
       "  <thead>\n",
       "    <tr style=\"text-align: right;\">\n",
       "      <th></th>\n",
       "      <th>person</th>\n",
       "      <th>event</th>\n",
       "      <th>sku</th>\n",
       "      <th>model</th>\n",
       "      <th>most_visited_region</th>\n",
       "    </tr>\n",
       "  </thead>\n",
       "  <tbody>\n",
       "    <tr>\n",
       "      <th>0</th>\n",
       "      <td>4886f805</td>\n",
       "      <td>viewed product</td>\n",
       "      <td>9288.0</td>\n",
       "      <td>Samsung Galaxy J7 Prime</td>\n",
       "      <td>Rio de Janeiro</td>\n",
       "    </tr>\n",
       "    <tr>\n",
       "      <th>1</th>\n",
       "      <td>ad93850f</td>\n",
       "      <td>viewed product</td>\n",
       "      <td>304.0</td>\n",
       "      <td>iPhone 5s</td>\n",
       "      <td>Sao Paulo</td>\n",
       "    </tr>\n",
       "    <tr>\n",
       "      <th>2</th>\n",
       "      <td>0297fc1e</td>\n",
       "      <td>viewed product</td>\n",
       "      <td>6888.0</td>\n",
       "      <td>iPhone 6S</td>\n",
       "      <td>Rio de Janeiro</td>\n",
       "    </tr>\n",
       "    <tr>\n",
       "      <th>3</th>\n",
       "      <td>2d681dd8</td>\n",
       "      <td>viewed product</td>\n",
       "      <td>11890.0</td>\n",
       "      <td>iPhone 7</td>\n",
       "      <td>Sao Paulo</td>\n",
       "    </tr>\n",
       "    <tr>\n",
       "      <th>4</th>\n",
       "      <td>cccea85e</td>\n",
       "      <td>viewed product</td>\n",
       "      <td>7517.0</td>\n",
       "      <td>LG G4 H818P</td>\n",
       "      <td>Sao Paulo</td>\n",
       "    </tr>\n",
       "  </tbody>\n",
       "</table>\n",
       "</div>"
      ],
      "text/plain": [
       "     person           event      sku                    model  \\\n",
       "0  4886f805  viewed product   9288.0  Samsung Galaxy J7 Prime   \n",
       "1  ad93850f  viewed product    304.0                iPhone 5s   \n",
       "2  0297fc1e  viewed product   6888.0                iPhone 6S   \n",
       "3  2d681dd8  viewed product  11890.0                 iPhone 7   \n",
       "4  cccea85e  viewed product   7517.0              LG G4 H818P   \n",
       "\n",
       "  most_visited_region  \n",
       "0      Rio de Janeiro  \n",
       "1           Sao Paulo  \n",
       "2      Rio de Janeiro  \n",
       "3           Sao Paulo  \n",
       "4           Sao Paulo  "
      ]
     },
     "execution_count": 10,
     "metadata": {},
     "output_type": "execute_result"
    }
   ],
   "source": [
    "df_reducido = df_reducido.loc[df_reducido['sku'].notnull(),['person','event','sku','model','most_visited_region']]\n",
    "df_reducido.head()"
   ]
  },
  {
   "cell_type": "code",
   "execution_count": 11,
   "metadata": {},
   "outputs": [
    {
     "data": {
      "text/plain": [
       "(38250,)"
      ]
     },
     "execution_count": 11,
     "metadata": {},
     "output_type": "execute_result"
    }
   ],
   "source": [
    "df_reducido.person.drop_duplicates().shape"
   ]
  },
  {
   "cell_type": "markdown",
   "metadata": {},
   "source": [
    "Ahora tengo un dataframe que tiene por persona, la region a la que pertenece y los modelos con los que interactuo. Ahora, solo quiero los que miro:"
   ]
  },
  {
   "cell_type": "code",
   "execution_count": 12,
   "metadata": {},
   "outputs": [],
   "source": [
    "df_only_vp = df_reducido.loc[df_reducido['event'] == 'viewed product', :]"
   ]
  },
  {
   "cell_type": "markdown",
   "metadata": {},
   "source": [
    "Ahora quiero, por persona, el producto que mas visito:"
   ]
  },
  {
   "cell_type": "code",
   "execution_count": 13,
   "metadata": {},
   "outputs": [],
   "source": [
    "df_most_visited_per_person = df_only_vp.groupby(['person','model']).size().reset_index()\\\n",
    "                                                                            .rename(columns={0:'Cantidad_visitas'})"
   ]
  },
  {
   "cell_type": "code",
   "execution_count": 14,
   "metadata": {},
   "outputs": [],
   "source": [
    "df_most_visited_per_person = df_most_visited_per_person.sort_values(by='Cantidad_visitas',ascending=False)\\\n",
    "                                                        .drop_duplicates(subset='person',keep='first')"
   ]
  },
  {
   "cell_type": "code",
   "execution_count": 15,
   "metadata": {},
   "outputs": [],
   "source": [
    "df_most_visited_per_person = df_most_visited_per_person.merge(df_region_person, on='person',how='left')"
   ]
  },
  {
   "cell_type": "code",
   "execution_count": 16,
   "metadata": {},
   "outputs": [
    {
     "data": {
      "text/html": [
       "<div>\n",
       "<style scoped>\n",
       "    .dataframe tbody tr th:only-of-type {\n",
       "        vertical-align: middle;\n",
       "    }\n",
       "\n",
       "    .dataframe tbody tr th {\n",
       "        vertical-align: top;\n",
       "    }\n",
       "\n",
       "    .dataframe thead th {\n",
       "        text-align: right;\n",
       "    }\n",
       "</style>\n",
       "<table border=\"1\" class=\"dataframe\">\n",
       "  <thead>\n",
       "    <tr style=\"text-align: right;\">\n",
       "      <th></th>\n",
       "      <th>person</th>\n",
       "      <th>model</th>\n",
       "      <th>Cantidad_visitas</th>\n",
       "      <th>most_visited_region</th>\n",
       "    </tr>\n",
       "  </thead>\n",
       "  <tbody>\n",
       "    <tr>\n",
       "      <th>0</th>\n",
       "      <td>b1f4dbf6</td>\n",
       "      <td>iPhone 5s</td>\n",
       "      <td>832</td>\n",
       "      <td>Sao Paulo</td>\n",
       "    </tr>\n",
       "    <tr>\n",
       "      <th>1</th>\n",
       "      <td>171e75cb</td>\n",
       "      <td>iPhone 6S</td>\n",
       "      <td>679</td>\n",
       "      <td>Espirito Santo</td>\n",
       "    </tr>\n",
       "    <tr>\n",
       "      <th>2</th>\n",
       "      <td>6f19cfd9</td>\n",
       "      <td>iPhone 6S Plus</td>\n",
       "      <td>622</td>\n",
       "      <td>Bahia</td>\n",
       "    </tr>\n",
       "    <tr>\n",
       "      <th>3</th>\n",
       "      <td>6abd2bf1</td>\n",
       "      <td>iPhone 6</td>\n",
       "      <td>603</td>\n",
       "      <td>Sao Paulo</td>\n",
       "    </tr>\n",
       "    <tr>\n",
       "      <th>4</th>\n",
       "      <td>9bf968c5</td>\n",
       "      <td>iPhone 6</td>\n",
       "      <td>558</td>\n",
       "      <td>Bahia</td>\n",
       "    </tr>\n",
       "  </tbody>\n",
       "</table>\n",
       "</div>"
      ],
      "text/plain": [
       "     person           model  Cantidad_visitas most_visited_region\n",
       "0  b1f4dbf6       iPhone 5s               832           Sao Paulo\n",
       "1  171e75cb       iPhone 6S               679      Espirito Santo\n",
       "2  6f19cfd9  iPhone 6S Plus               622               Bahia\n",
       "3  6abd2bf1        iPhone 6               603           Sao Paulo\n",
       "4  9bf968c5        iPhone 6               558               Bahia"
      ]
     },
     "execution_count": 16,
     "metadata": {},
     "output_type": "execute_result"
    }
   ],
   "source": [
    "df_most_visited_per_person.head()"
   ]
  },
  {
   "cell_type": "markdown",
   "metadata": {},
   "source": [
    "Ahora, un dataframe que tiene el top 5 de cada region de los productos mas visitados."
   ]
  },
  {
   "cell_type": "code",
   "execution_count": 17,
   "metadata": {},
   "outputs": [
    {
     "data": {
      "text/html": [
       "<div>\n",
       "<style scoped>\n",
       "    .dataframe tbody tr th:only-of-type {\n",
       "        vertical-align: middle;\n",
       "    }\n",
       "\n",
       "    .dataframe tbody tr th {\n",
       "        vertical-align: top;\n",
       "    }\n",
       "\n",
       "    .dataframe thead th {\n",
       "        text-align: right;\n",
       "    }\n",
       "</style>\n",
       "<table border=\"1\" class=\"dataframe\">\n",
       "  <thead>\n",
       "    <tr style=\"text-align: right;\">\n",
       "      <th></th>\n",
       "      <th>person</th>\n",
       "      <th>model</th>\n",
       "      <th>sku</th>\n",
       "      <th>region</th>\n",
       "    </tr>\n",
       "  </thead>\n",
       "  <tbody>\n",
       "    <tr>\n",
       "      <th>0</th>\n",
       "      <td>4886f805</td>\n",
       "      <td>Samsung Galaxy J7 Prime</td>\n",
       "      <td>9288.0</td>\n",
       "      <td>Rio de Janeiro</td>\n",
       "    </tr>\n",
       "    <tr>\n",
       "      <th>1</th>\n",
       "      <td>ad93850f</td>\n",
       "      <td>iPhone 5s</td>\n",
       "      <td>304.0</td>\n",
       "      <td>Sao Paulo</td>\n",
       "    </tr>\n",
       "    <tr>\n",
       "      <th>2</th>\n",
       "      <td>0297fc1e</td>\n",
       "      <td>iPhone 6S</td>\n",
       "      <td>6888.0</td>\n",
       "      <td>Rio de Janeiro</td>\n",
       "    </tr>\n",
       "    <tr>\n",
       "      <th>3</th>\n",
       "      <td>2d681dd8</td>\n",
       "      <td>iPhone 7</td>\n",
       "      <td>11890.0</td>\n",
       "      <td>Sao Paulo</td>\n",
       "    </tr>\n",
       "    <tr>\n",
       "      <th>4</th>\n",
       "      <td>cccea85e</td>\n",
       "      <td>LG G4 H818P</td>\n",
       "      <td>7517.0</td>\n",
       "      <td>Sao Paulo</td>\n",
       "    </tr>\n",
       "  </tbody>\n",
       "</table>\n",
       "</div>"
      ],
      "text/plain": [
       "     person                    model      sku          region\n",
       "0  4886f805  Samsung Galaxy J7 Prime   9288.0  Rio de Janeiro\n",
       "1  ad93850f                iPhone 5s    304.0       Sao Paulo\n",
       "2  0297fc1e                iPhone 6S   6888.0  Rio de Janeiro\n",
       "3  2d681dd8                 iPhone 7  11890.0       Sao Paulo\n",
       "4  cccea85e              LG G4 H818P   7517.0       Sao Paulo"
      ]
     },
     "execution_count": 17,
     "metadata": {},
     "output_type": "execute_result"
    }
   ],
   "source": [
    "df_most_visited_per_region = df_original.loc[df_original['event'] == 'viewed product', ['person','region', 'model', 'sku']]\n",
    "df_most_visited_per_region = df_most_visited_per_region.drop(columns='region')\n",
    "df_most_visited_per_region = df_most_visited_per_region.merge(df_region_person, on='person', how='left')\n",
    "df_most_visited_per_region = df_most_visited_per_region.rename(columns={'most_visited_region':'region'})\n",
    "df_most_visited_per_region.head()"
   ]
  },
  {
   "cell_type": "markdown",
   "metadata": {},
   "source": [
    "Aca calculo la cantidad de visitas por producto y por regions"
   ]
  },
  {
   "cell_type": "code",
   "execution_count": 18,
   "metadata": {},
   "outputs": [],
   "source": [
    "df_most_visited_per_region = df_most_visited_per_region.groupby(['region','model']).size().reset_index().rename(columns={0:'Visitas'})"
   ]
  },
  {
   "cell_type": "code",
   "execution_count": 19,
   "metadata": {},
   "outputs": [
    {
     "data": {
      "text/html": [
       "<div>\n",
       "<style scoped>\n",
       "    .dataframe tbody tr th:only-of-type {\n",
       "        vertical-align: middle;\n",
       "    }\n",
       "\n",
       "    .dataframe tbody tr th {\n",
       "        vertical-align: top;\n",
       "    }\n",
       "\n",
       "    .dataframe thead th {\n",
       "        text-align: right;\n",
       "    }\n",
       "</style>\n",
       "<table border=\"1\" class=\"dataframe\">\n",
       "  <thead>\n",
       "    <tr style=\"text-align: right;\">\n",
       "      <th></th>\n",
       "      <th>region</th>\n",
       "      <th>model</th>\n",
       "      <th>Visitas</th>\n",
       "    </tr>\n",
       "  </thead>\n",
       "  <tbody>\n",
       "    <tr>\n",
       "      <th>4358</th>\n",
       "      <td>Sao Paulo</td>\n",
       "      <td>iPhone 6</td>\n",
       "      <td>30010</td>\n",
       "    </tr>\n",
       "    <tr>\n",
       "      <th>4360</th>\n",
       "      <td>Sao Paulo</td>\n",
       "      <td>iPhone 6S</td>\n",
       "      <td>27908</td>\n",
       "    </tr>\n",
       "    <tr>\n",
       "      <th>4357</th>\n",
       "      <td>Sao Paulo</td>\n",
       "      <td>iPhone 5s</td>\n",
       "      <td>26446</td>\n",
       "    </tr>\n",
       "    <tr>\n",
       "      <th>4362</th>\n",
       "      <td>Sao Paulo</td>\n",
       "      <td>iPhone 7</td>\n",
       "      <td>18638</td>\n",
       "    </tr>\n",
       "    <tr>\n",
       "      <th>4955</th>\n",
       "      <td>Unknown</td>\n",
       "      <td>iPhone 6</td>\n",
       "      <td>15574</td>\n",
       "    </tr>\n",
       "  </tbody>\n",
       "</table>\n",
       "</div>"
      ],
      "text/plain": [
       "         region      model  Visitas\n",
       "4358  Sao Paulo   iPhone 6    30010\n",
       "4360  Sao Paulo  iPhone 6S    27908\n",
       "4357  Sao Paulo  iPhone 5s    26446\n",
       "4362  Sao Paulo   iPhone 7    18638\n",
       "4955    Unknown   iPhone 6    15574"
      ]
     },
     "execution_count": 19,
     "metadata": {},
     "output_type": "execute_result"
    }
   ],
   "source": [
    "df_most_visited_per_region.sort_values(by='Visitas',ascending=False).head()"
   ]
  },
  {
   "cell_type": "markdown",
   "metadata": {},
   "source": [
    "Ahora, solo conservamos el top 5 de cada una de las regiones"
   ]
  },
  {
   "cell_type": "code",
   "execution_count": 20,
   "metadata": {},
   "outputs": [],
   "source": [
    "df_most_visited_per_region = df_most_visited_per_region.sort_values(by='Visitas',ascending=False)\\\n",
    "                                                       .groupby('region').head(5)"
   ]
  },
  {
   "cell_type": "markdown",
   "metadata": {},
   "source": [
    "Construyo un diccionario que tiene como clave la region, y como valor una lista con los 5 productos mas visitados por los usuarios de esa region (algunas listas tienen menos de 5 items por la falta de datos de algunas regiones)"
   ]
  },
  {
   "cell_type": "code",
   "execution_count": 21,
   "metadata": {},
   "outputs": [],
   "source": [
    "df_top_5_por_region = df_most_visited_per_region.groupby('region')\n",
    "top_5_region = {}\n",
    "regiones_del_df = df_most_visited_per_region['region'].drop_duplicates().dropna()\n",
    "for region in regiones_del_df:\n",
    "    top_5_region[region] = list(df_top_5_por_region.get_group(region)['model'])"
   ]
  },
  {
   "cell_type": "code",
   "execution_count": 22,
   "metadata": {},
   "outputs": [
    {
     "data": {
      "text/plain": [
       "['iPhone 6', 'iPhone 6S', 'iPhone 5s', 'iPhone 7', 'Samsung Galaxy S7 Edge']"
      ]
     },
     "execution_count": 22,
     "metadata": {},
     "output_type": "execute_result"
    }
   ],
   "source": [
    "top_5_region['Sao Paulo']"
   ]
  },
  {
   "cell_type": "markdown",
   "metadata": {},
   "source": [
    "Ahora, utilizando ese diccionario y el dataframe del producto mas visitado por cada persona, construyo una columna que decide si la persona visitó mas veces un producto que entra en el top 5 de su region."
   ]
  },
  {
   "cell_type": "code",
   "execution_count": 23,
   "metadata": {},
   "outputs": [
    {
     "data": {
      "text/plain": [
       "count        36931\n",
       "unique       36931\n",
       "top       8808be0f\n",
       "freq             1\n",
       "Name: person, dtype: object"
      ]
     },
     "execution_count": 23,
     "metadata": {},
     "output_type": "execute_result"
    }
   ],
   "source": [
    "df_most_visited_per_person = df_most_visited_per_person.dropna()\n",
    "df_most_visited_per_person['person'].describe()\n"
   ]
  },
  {
   "cell_type": "code",
   "execution_count": 24,
   "metadata": {},
   "outputs": [],
   "source": [
    "df_most_visited_per_person['busco_top_5_visitas'] = [s.model in top_5_region[s.most_visited_region] for s in df_most_visited_per_person.itertuples()]"
   ]
  },
  {
   "cell_type": "code",
   "execution_count": 25,
   "metadata": {},
   "outputs": [
    {
     "data": {
      "text/html": [
       "<div>\n",
       "<style scoped>\n",
       "    .dataframe tbody tr th:only-of-type {\n",
       "        vertical-align: middle;\n",
       "    }\n",
       "\n",
       "    .dataframe tbody tr th {\n",
       "        vertical-align: top;\n",
       "    }\n",
       "\n",
       "    .dataframe thead th {\n",
       "        text-align: right;\n",
       "    }\n",
       "</style>\n",
       "<table border=\"1\" class=\"dataframe\">\n",
       "  <thead>\n",
       "    <tr style=\"text-align: right;\">\n",
       "      <th></th>\n",
       "      <th>person</th>\n",
       "      <th>model</th>\n",
       "      <th>Cantidad_visitas</th>\n",
       "      <th>most_visited_region</th>\n",
       "      <th>busco_top_5_visitas</th>\n",
       "    </tr>\n",
       "  </thead>\n",
       "  <tbody>\n",
       "    <tr>\n",
       "      <th>0</th>\n",
       "      <td>b1f4dbf6</td>\n",
       "      <td>iPhone 5s</td>\n",
       "      <td>832</td>\n",
       "      <td>Sao Paulo</td>\n",
       "      <td>True</td>\n",
       "    </tr>\n",
       "    <tr>\n",
       "      <th>1</th>\n",
       "      <td>171e75cb</td>\n",
       "      <td>iPhone 6S</td>\n",
       "      <td>679</td>\n",
       "      <td>Espirito Santo</td>\n",
       "      <td>True</td>\n",
       "    </tr>\n",
       "    <tr>\n",
       "      <th>2</th>\n",
       "      <td>6f19cfd9</td>\n",
       "      <td>iPhone 6S Plus</td>\n",
       "      <td>622</td>\n",
       "      <td>Bahia</td>\n",
       "      <td>True</td>\n",
       "    </tr>\n",
       "    <tr>\n",
       "      <th>3</th>\n",
       "      <td>6abd2bf1</td>\n",
       "      <td>iPhone 6</td>\n",
       "      <td>603</td>\n",
       "      <td>Sao Paulo</td>\n",
       "      <td>True</td>\n",
       "    </tr>\n",
       "    <tr>\n",
       "      <th>4</th>\n",
       "      <td>9bf968c5</td>\n",
       "      <td>iPhone 6</td>\n",
       "      <td>558</td>\n",
       "      <td>Bahia</td>\n",
       "      <td>True</td>\n",
       "    </tr>\n",
       "    <tr>\n",
       "      <th>5</th>\n",
       "      <td>656c18ef</td>\n",
       "      <td>iPhone 6S</td>\n",
       "      <td>533</td>\n",
       "      <td>Unknown</td>\n",
       "      <td>True</td>\n",
       "    </tr>\n",
       "    <tr>\n",
       "      <th>6</th>\n",
       "      <td>eb6c498c</td>\n",
       "      <td>iPhone 6S</td>\n",
       "      <td>500</td>\n",
       "      <td>Minas Gerais</td>\n",
       "      <td>True</td>\n",
       "    </tr>\n",
       "    <tr>\n",
       "      <th>7</th>\n",
       "      <td>0d5f66ed</td>\n",
       "      <td>iPhone 5s</td>\n",
       "      <td>495</td>\n",
       "      <td>Alagoas</td>\n",
       "      <td>True</td>\n",
       "    </tr>\n",
       "    <tr>\n",
       "      <th>8</th>\n",
       "      <td>0dbcf50c</td>\n",
       "      <td>iPhone SE</td>\n",
       "      <td>486</td>\n",
       "      <td>Unknown</td>\n",
       "      <td>False</td>\n",
       "    </tr>\n",
       "    <tr>\n",
       "      <th>9</th>\n",
       "      <td>97b0c0d1</td>\n",
       "      <td>iPhone SE</td>\n",
       "      <td>477</td>\n",
       "      <td>Sao Paulo</td>\n",
       "      <td>False</td>\n",
       "    </tr>\n",
       "  </tbody>\n",
       "</table>\n",
       "</div>"
      ],
      "text/plain": [
       "     person           model  Cantidad_visitas most_visited_region  \\\n",
       "0  b1f4dbf6       iPhone 5s               832           Sao Paulo   \n",
       "1  171e75cb       iPhone 6S               679      Espirito Santo   \n",
       "2  6f19cfd9  iPhone 6S Plus               622               Bahia   \n",
       "3  6abd2bf1        iPhone 6               603           Sao Paulo   \n",
       "4  9bf968c5        iPhone 6               558               Bahia   \n",
       "5  656c18ef       iPhone 6S               533             Unknown   \n",
       "6  eb6c498c       iPhone 6S               500        Minas Gerais   \n",
       "7  0d5f66ed       iPhone 5s               495             Alagoas   \n",
       "8  0dbcf50c       iPhone SE               486             Unknown   \n",
       "9  97b0c0d1       iPhone SE               477           Sao Paulo   \n",
       "\n",
       "   busco_top_5_visitas  \n",
       "0                 True  \n",
       "1                 True  \n",
       "2                 True  \n",
       "3                 True  \n",
       "4                 True  \n",
       "5                 True  \n",
       "6                 True  \n",
       "7                 True  \n",
       "8                False  \n",
       "9                False  "
      ]
     },
     "execution_count": 25,
     "metadata": {},
     "output_type": "execute_result"
    }
   ],
   "source": [
    "df_most_visited_per_person.head(10)"
   ]
  },
  {
   "cell_type": "code",
   "execution_count": 26,
   "metadata": {},
   "outputs": [],
   "source": [
    "df_final = df_most_visited_per_person"
   ]
  }
 ],
 "metadata": {
  "kernelspec": {
   "display_name": "Python 3",
   "language": "python",
   "name": "python3"
  },
  "language_info": {
   "codemirror_mode": {
    "name": "ipython",
    "version": 3
   },
   "file_extension": ".py",
   "mimetype": "text/x-python",
   "name": "python",
   "nbconvert_exporter": "python",
   "pygments_lexer": "ipython3",
   "version": "3.7.0"
  }
 },
 "nbformat": 4,
 "nbformat_minor": 2
}
