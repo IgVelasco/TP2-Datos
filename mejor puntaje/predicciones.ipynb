{
 "cells": [
  {
   "cell_type": "markdown",
   "metadata": {},
   "source": [
    "# Predicciones en varios modelos"
   ]
  },
  {
   "cell_type": "code",
   "execution_count": 1,
   "metadata": {},
   "outputs": [
    {
     "name": "stderr",
     "output_type": "stream",
     "text": [
      "C:\\Users\\juanp\\AppData\\Local\\Continuum\\anaconda3\\lib\\site-packages\\sklearn\\ensemble\\weight_boosting.py:29: DeprecationWarning: numpy.core.umath_tests is an internal NumPy module and should not be imported. It will be removed in a future NumPy release.\n",
      "  from numpy.core.umath_tests import inner1d\n"
     ]
    }
   ],
   "source": [
    "import xgboost as xgb\n",
    "from sklearn.metrics import mean_squared_error\n",
    "import pandas as pd\n",
    "import numpy as np\n",
    "from sklearn.model_selection import train_test_split\n",
    "import datetime\n",
    "from sklearn.utils import shuffle\n",
    "from sklearn.metrics import roc_auc_score\n",
    "from sklearn.preprocessing import MinMaxScaler\n",
    "from sklearn.ensemble import RandomForestClassifier\n",
    "from sklearn import tree\n",
    "from sklearn.neighbors import KNeighborsClassifier\n",
    "from sklearn.model_selection import GridSearchCV"
   ]
  },
  {
   "cell_type": "code",
   "execution_count": 2,
   "metadata": {},
   "outputs": [],
   "source": [
    "df_original = pd.read_csv('events_up_to_01062018.csv', low_memory = False)\n",
    "df_labels= pd.read_csv('labels_training_set.csv', low_memory = False)"
   ]
  },
  {
   "cell_type": "code",
   "execution_count": 3,
   "metadata": {},
   "outputs": [],
   "source": [
    "df_features_numericos = pd.read_csv('features_numericos_y_nacho.csv', low_memory=False)\n",
    "df_features_bool = pd.read_csv('features_bool.csv', low_memory=False)\n",
    "df_features_categoricos = pd.read_csv('features_categoricos.csv', low_memory=False)"
   ]
  },
  {
   "cell_type": "code",
   "execution_count": 4,
   "metadata": {},
   "outputs": [
    {
     "data": {
      "text/plain": [
       "(38829, 6)"
      ]
     },
     "execution_count": 4,
     "metadata": {},
     "output_type": "execute_result"
    }
   ],
   "source": [
    "df_features_bool.shape"
   ]
  },
  {
   "cell_type": "code",
   "execution_count": 5,
   "metadata": {},
   "outputs": [
    {
     "data": {
      "text/plain": [
       "(38829, 50)"
      ]
     },
     "execution_count": 5,
     "metadata": {},
     "output_type": "execute_result"
    }
   ],
   "source": [
    "df_features_numericos.shape"
   ]
  },
  {
   "cell_type": "code",
   "execution_count": 6,
   "metadata": {},
   "outputs": [
    {
     "data": {
      "text/plain": [
       "(38829, 8)"
      ]
     },
     "execution_count": 6,
     "metadata": {},
     "output_type": "execute_result"
    }
   ],
   "source": [
    "df_features_categoricos.shape"
   ]
  },
  {
   "cell_type": "code",
   "execution_count": 7,
   "metadata": {},
   "outputs": [
    {
     "data": {
      "text/plain": [
       "(38829,)"
      ]
     },
     "execution_count": 7,
     "metadata": {},
     "output_type": "execute_result"
    }
   ],
   "source": [
    "df_original['person'].drop_duplicates().shape"
   ]
  },
  {
   "cell_type": "markdown",
   "metadata": {},
   "source": [
    "## Trabajo en los features por separado, empiezo por los numericos"
   ]
  },
  {
   "cell_type": "markdown",
   "metadata": {},
   "source": [
    "A los numericos hago un fillna con ceros"
   ]
  },
  {
   "cell_type": "code",
   "execution_count": 8,
   "metadata": {},
   "outputs": [],
   "source": [
    "df_features_numericos = df_features_numericos.fillna(0)"
   ]
  },
  {
   "cell_type": "code",
   "execution_count": 9,
   "metadata": {},
   "outputs": [
    {
     "data": {
      "text/plain": [
       "person                                   0\n",
       "checkout_sum                             0\n",
       "checkout_mean                            0\n",
       "conversion_sum                           0\n",
       "conversion_mean                          0\n",
       "viewed_sum                               0\n",
       "viewed_mean                              0\n",
       "viewed_std                               0\n",
       "diferencia 5_x                           0\n",
       "DAY(last month 5)_x                      0\n",
       "DAY(first month 5)_x                     0\n",
       "WEEKDAY(last month 5)_x                  0\n",
       "WEEKDAY(first month 5)_x                 0\n",
       "%checkouts_x                             0\n",
       "mayor_actividad_ult_semana_x             0\n",
       "MAX(cant_interacciones_por_modelo)_x     0\n",
       "MEAN(cant_interacciones_por_modelo)_x    0\n",
       "Checkout max_x                           0\n",
       "Checkout mean_x                          0\n",
       "diferencia 5_y                           0\n",
       "DAY(last month 5)_y                      0\n",
       "DAY(first month 5)_y                     0\n",
       "WEEKDAY(last month 5)_y                  0\n",
       "WEEKDAY(first month 5)_y                 0\n",
       "cant_checkouts_5                         0\n",
       "%checkouts_y                             0\n",
       "checkouts_ult_semana                     0\n",
       "act_primera_semana                       0\n",
       "act_ultima_semana                        0\n",
       "mayor_actividad_ult_semana_y             0\n",
       "cant_modelos_distintos                   0\n",
       "cant_checkouts_dif_modelos               0\n",
       "MAX(cant_interacciones_por_modelo)_y     0\n",
       "MEAN(cant_interacciones_por_modelo)_y    0\n",
       "Checkout max_y                           0\n",
       "Checkout mean_y                          0\n",
       "Cantidad_visitas                         0\n",
       "Promedio_visitas_producto                0\n",
       "horas_mirando_productos                  0\n",
       "visitas_mes1                             0\n",
       "visitas_mes2                             0\n",
       "visitas_mes3                             0\n",
       "visitas_mes4                             0\n",
       "visitas_mes5                             0\n",
       "promedio_ingreso_mensual                 0\n",
       "registros_semana_1                       0\n",
       "registros_semana_2                       0\n",
       "registros_semana_3                       0\n",
       "registros_semana_4                       0\n",
       "registros_semana_5                       0\n",
       "dtype: int64"
      ]
     },
     "execution_count": 9,
     "metadata": {},
     "output_type": "execute_result"
    }
   ],
   "source": [
    "df_features_numericos.isnull().sum()"
   ]
  },
  {
   "cell_type": "markdown",
   "metadata": {},
   "source": [
    "## Categoricos"
   ]
  },
  {
   "cell_type": "markdown",
   "metadata": {},
   "source": [
    "Fabrico los dummies"
   ]
  },
  {
   "cell_type": "code",
   "execution_count": 10,
   "metadata": {},
   "outputs": [
    {
     "data": {
      "text/html": [
       "<div>\n",
       "<style scoped>\n",
       "    .dataframe tbody tr th:only-of-type {\n",
       "        vertical-align: middle;\n",
       "    }\n",
       "\n",
       "    .dataframe tbody tr th {\n",
       "        vertical-align: top;\n",
       "    }\n",
       "\n",
       "    .dataframe thead th {\n",
       "        text-align: right;\n",
       "    }\n",
       "</style>\n",
       "<table border=\"1\" class=\"dataframe\">\n",
       "  <thead>\n",
       "    <tr style=\"text-align: right;\">\n",
       "      <th></th>\n",
       "      <th>person</th>\n",
       "      <th>modelo_mas_visitado</th>\n",
       "      <th>region_persona</th>\n",
       "      <th>pais</th>\n",
       "      <th>evento_predominante_mes_5</th>\n",
       "      <th>semana_mas_interactuante</th>\n",
       "      <th>device_type</th>\n",
       "      <th>channel_frecuente</th>\n",
       "    </tr>\n",
       "  </thead>\n",
       "  <tbody>\n",
       "    <tr>\n",
       "      <th>0</th>\n",
       "      <td>4886f805</td>\n",
       "      <td>Samsung Galaxy J7 Prime</td>\n",
       "      <td>Rio de Janeiro</td>\n",
       "      <td>Brazil</td>\n",
       "      <td>viewed product</td>\n",
       "      <td>Third</td>\n",
       "      <td>Smartphone</td>\n",
       "      <td>Organic</td>\n",
       "    </tr>\n",
       "    <tr>\n",
       "      <th>1</th>\n",
       "      <td>ad93850f</td>\n",
       "      <td>iPhone 5s</td>\n",
       "      <td>Sao Paulo</td>\n",
       "      <td>Brazil</td>\n",
       "      <td>viewed product</td>\n",
       "      <td>Third</td>\n",
       "      <td>Smartphone</td>\n",
       "      <td>Paid</td>\n",
       "    </tr>\n",
       "    <tr>\n",
       "      <th>2</th>\n",
       "      <td>0297fc1e</td>\n",
       "      <td>iPhone 6</td>\n",
       "      <td>Rio de Janeiro</td>\n",
       "      <td>Brazil</td>\n",
       "      <td>viewed product</td>\n",
       "      <td>Fourth</td>\n",
       "      <td>Smartphone</td>\n",
       "      <td>Direct</td>\n",
       "    </tr>\n",
       "    <tr>\n",
       "      <th>3</th>\n",
       "      <td>2d681dd8</td>\n",
       "      <td>iPhone 7</td>\n",
       "      <td>Sao Paulo</td>\n",
       "      <td>Brazil</td>\n",
       "      <td>viewed product</td>\n",
       "      <td>Fourth</td>\n",
       "      <td>Computer</td>\n",
       "      <td>Organic</td>\n",
       "    </tr>\n",
       "    <tr>\n",
       "      <th>4</th>\n",
       "      <td>cccea85e</td>\n",
       "      <td>Motorola Moto G4 Plus</td>\n",
       "      <td>Sao Paulo</td>\n",
       "      <td>Brazil</td>\n",
       "      <td>viewed product</td>\n",
       "      <td>Third</td>\n",
       "      <td>Computer</td>\n",
       "      <td>Organic</td>\n",
       "    </tr>\n",
       "  </tbody>\n",
       "</table>\n",
       "</div>"
      ],
      "text/plain": [
       "     person      modelo_mas_visitado  region_persona    pais  \\\n",
       "0  4886f805  Samsung Galaxy J7 Prime  Rio de Janeiro  Brazil   \n",
       "1  ad93850f                iPhone 5s       Sao Paulo  Brazil   \n",
       "2  0297fc1e                 iPhone 6  Rio de Janeiro  Brazil   \n",
       "3  2d681dd8                 iPhone 7       Sao Paulo  Brazil   \n",
       "4  cccea85e    Motorola Moto G4 Plus       Sao Paulo  Brazil   \n",
       "\n",
       "  evento_predominante_mes_5 semana_mas_interactuante device_type  \\\n",
       "0            viewed product                    Third  Smartphone   \n",
       "1            viewed product                    Third  Smartphone   \n",
       "2            viewed product                   Fourth  Smartphone   \n",
       "3            viewed product                   Fourth    Computer   \n",
       "4            viewed product                    Third    Computer   \n",
       "\n",
       "  channel_frecuente  \n",
       "0           Organic  \n",
       "1              Paid  \n",
       "2            Direct  \n",
       "3           Organic  \n",
       "4           Organic  "
      ]
     },
     "execution_count": 10,
     "metadata": {},
     "output_type": "execute_result"
    }
   ],
   "source": [
    "df_features_categoricos.head()"
   ]
  },
  {
   "cell_type": "code",
   "execution_count": 11,
   "metadata": {},
   "outputs": [],
   "source": [
    "df_features_categoricos = pd.concat([df_features_categoricos, pd.get_dummies(df_features_categoricos.iloc[:,1:])], axis=1)"
   ]
  },
  {
   "cell_type": "code",
   "execution_count": 12,
   "metadata": {},
   "outputs": [
    {
     "data": {
      "text/html": [
       "<div>\n",
       "<style scoped>\n",
       "    .dataframe tbody tr th:only-of-type {\n",
       "        vertical-align: middle;\n",
       "    }\n",
       "\n",
       "    .dataframe tbody tr th {\n",
       "        vertical-align: top;\n",
       "    }\n",
       "\n",
       "    .dataframe thead th {\n",
       "        text-align: right;\n",
       "    }\n",
       "</style>\n",
       "<table border=\"1\" class=\"dataframe\">\n",
       "  <thead>\n",
       "    <tr style=\"text-align: right;\">\n",
       "      <th></th>\n",
       "      <th>person</th>\n",
       "      <th>modelo_mas_visitado</th>\n",
       "      <th>region_persona</th>\n",
       "      <th>pais</th>\n",
       "      <th>evento_predominante_mes_5</th>\n",
       "      <th>semana_mas_interactuante</th>\n",
       "      <th>device_type</th>\n",
       "      <th>channel_frecuente</th>\n",
       "      <th>modelo_mas_visitado_0</th>\n",
       "      <th>modelo_mas_visitado_Asus Zenfone 2</th>\n",
       "      <th>...</th>\n",
       "      <th>device_type_Smartphone</th>\n",
       "      <th>device_type_Tablet</th>\n",
       "      <th>device_type_Unknown</th>\n",
       "      <th>channel_frecuente_Direct</th>\n",
       "      <th>channel_frecuente_Email</th>\n",
       "      <th>channel_frecuente_Organic</th>\n",
       "      <th>channel_frecuente_Paid</th>\n",
       "      <th>channel_frecuente_Referral</th>\n",
       "      <th>channel_frecuente_Social</th>\n",
       "      <th>channel_frecuente_Unknown</th>\n",
       "    </tr>\n",
       "  </thead>\n",
       "  <tbody>\n",
       "    <tr>\n",
       "      <th>0</th>\n",
       "      <td>4886f805</td>\n",
       "      <td>Samsung Galaxy J7 Prime</td>\n",
       "      <td>Rio de Janeiro</td>\n",
       "      <td>Brazil</td>\n",
       "      <td>viewed product</td>\n",
       "      <td>Third</td>\n",
       "      <td>Smartphone</td>\n",
       "      <td>Organic</td>\n",
       "      <td>0</td>\n",
       "      <td>0</td>\n",
       "      <td>...</td>\n",
       "      <td>1</td>\n",
       "      <td>0</td>\n",
       "      <td>0</td>\n",
       "      <td>0</td>\n",
       "      <td>0</td>\n",
       "      <td>1</td>\n",
       "      <td>0</td>\n",
       "      <td>0</td>\n",
       "      <td>0</td>\n",
       "      <td>0</td>\n",
       "    </tr>\n",
       "    <tr>\n",
       "      <th>1</th>\n",
       "      <td>ad93850f</td>\n",
       "      <td>iPhone 5s</td>\n",
       "      <td>Sao Paulo</td>\n",
       "      <td>Brazil</td>\n",
       "      <td>viewed product</td>\n",
       "      <td>Third</td>\n",
       "      <td>Smartphone</td>\n",
       "      <td>Paid</td>\n",
       "      <td>0</td>\n",
       "      <td>0</td>\n",
       "      <td>...</td>\n",
       "      <td>1</td>\n",
       "      <td>0</td>\n",
       "      <td>0</td>\n",
       "      <td>0</td>\n",
       "      <td>0</td>\n",
       "      <td>0</td>\n",
       "      <td>1</td>\n",
       "      <td>0</td>\n",
       "      <td>0</td>\n",
       "      <td>0</td>\n",
       "    </tr>\n",
       "    <tr>\n",
       "      <th>2</th>\n",
       "      <td>0297fc1e</td>\n",
       "      <td>iPhone 6</td>\n",
       "      <td>Rio de Janeiro</td>\n",
       "      <td>Brazil</td>\n",
       "      <td>viewed product</td>\n",
       "      <td>Fourth</td>\n",
       "      <td>Smartphone</td>\n",
       "      <td>Direct</td>\n",
       "      <td>0</td>\n",
       "      <td>0</td>\n",
       "      <td>...</td>\n",
       "      <td>1</td>\n",
       "      <td>0</td>\n",
       "      <td>0</td>\n",
       "      <td>1</td>\n",
       "      <td>0</td>\n",
       "      <td>0</td>\n",
       "      <td>0</td>\n",
       "      <td>0</td>\n",
       "      <td>0</td>\n",
       "      <td>0</td>\n",
       "    </tr>\n",
       "    <tr>\n",
       "      <th>3</th>\n",
       "      <td>2d681dd8</td>\n",
       "      <td>iPhone 7</td>\n",
       "      <td>Sao Paulo</td>\n",
       "      <td>Brazil</td>\n",
       "      <td>viewed product</td>\n",
       "      <td>Fourth</td>\n",
       "      <td>Computer</td>\n",
       "      <td>Organic</td>\n",
       "      <td>0</td>\n",
       "      <td>0</td>\n",
       "      <td>...</td>\n",
       "      <td>0</td>\n",
       "      <td>0</td>\n",
       "      <td>0</td>\n",
       "      <td>0</td>\n",
       "      <td>0</td>\n",
       "      <td>1</td>\n",
       "      <td>0</td>\n",
       "      <td>0</td>\n",
       "      <td>0</td>\n",
       "      <td>0</td>\n",
       "    </tr>\n",
       "    <tr>\n",
       "      <th>4</th>\n",
       "      <td>cccea85e</td>\n",
       "      <td>Motorola Moto G4 Plus</td>\n",
       "      <td>Sao Paulo</td>\n",
       "      <td>Brazil</td>\n",
       "      <td>viewed product</td>\n",
       "      <td>Third</td>\n",
       "      <td>Computer</td>\n",
       "      <td>Organic</td>\n",
       "      <td>0</td>\n",
       "      <td>0</td>\n",
       "      <td>...</td>\n",
       "      <td>0</td>\n",
       "      <td>0</td>\n",
       "      <td>0</td>\n",
       "      <td>0</td>\n",
       "      <td>0</td>\n",
       "      <td>1</td>\n",
       "      <td>0</td>\n",
       "      <td>0</td>\n",
       "      <td>0</td>\n",
       "      <td>0</td>\n",
       "    </tr>\n",
       "  </tbody>\n",
       "</table>\n",
       "<p>5 rows × 350 columns</p>\n",
       "</div>"
      ],
      "text/plain": [
       "     person      modelo_mas_visitado  region_persona    pais  \\\n",
       "0  4886f805  Samsung Galaxy J7 Prime  Rio de Janeiro  Brazil   \n",
       "1  ad93850f                iPhone 5s       Sao Paulo  Brazil   \n",
       "2  0297fc1e                 iPhone 6  Rio de Janeiro  Brazil   \n",
       "3  2d681dd8                 iPhone 7       Sao Paulo  Brazil   \n",
       "4  cccea85e    Motorola Moto G4 Plus       Sao Paulo  Brazil   \n",
       "\n",
       "  evento_predominante_mes_5 semana_mas_interactuante device_type  \\\n",
       "0            viewed product                    Third  Smartphone   \n",
       "1            viewed product                    Third  Smartphone   \n",
       "2            viewed product                   Fourth  Smartphone   \n",
       "3            viewed product                   Fourth    Computer   \n",
       "4            viewed product                    Third    Computer   \n",
       "\n",
       "  channel_frecuente  modelo_mas_visitado_0  \\\n",
       "0           Organic                      0   \n",
       "1              Paid                      0   \n",
       "2            Direct                      0   \n",
       "3           Organic                      0   \n",
       "4           Organic                      0   \n",
       "\n",
       "   modelo_mas_visitado_Asus Zenfone 2            ...              \\\n",
       "0                                   0            ...               \n",
       "1                                   0            ...               \n",
       "2                                   0            ...               \n",
       "3                                   0            ...               \n",
       "4                                   0            ...               \n",
       "\n",
       "   device_type_Smartphone  device_type_Tablet  device_type_Unknown  \\\n",
       "0                       1                   0                    0   \n",
       "1                       1                   0                    0   \n",
       "2                       1                   0                    0   \n",
       "3                       0                   0                    0   \n",
       "4                       0                   0                    0   \n",
       "\n",
       "   channel_frecuente_Direct  channel_frecuente_Email  \\\n",
       "0                         0                        0   \n",
       "1                         0                        0   \n",
       "2                         1                        0   \n",
       "3                         0                        0   \n",
       "4                         0                        0   \n",
       "\n",
       "   channel_frecuente_Organic  channel_frecuente_Paid  \\\n",
       "0                          1                       0   \n",
       "1                          0                       1   \n",
       "2                          0                       0   \n",
       "3                          1                       0   \n",
       "4                          1                       0   \n",
       "\n",
       "   channel_frecuente_Referral  channel_frecuente_Social  \\\n",
       "0                           0                         0   \n",
       "1                           0                         0   \n",
       "2                           0                         0   \n",
       "3                           0                         0   \n",
       "4                           0                         0   \n",
       "\n",
       "   channel_frecuente_Unknown  \n",
       "0                          0  \n",
       "1                          0  \n",
       "2                          0  \n",
       "3                          0  \n",
       "4                          0  \n",
       "\n",
       "[5 rows x 350 columns]"
      ]
     },
     "execution_count": 12,
     "metadata": {},
     "output_type": "execute_result"
    }
   ],
   "source": [
    "df_features_categoricos.head()"
   ]
  },
  {
   "cell_type": "code",
   "execution_count": 13,
   "metadata": {},
   "outputs": [],
   "source": [
    "df_features_categoricos = df_features_categoricos.drop(columns = ['region_persona',\\\n",
    "                                                                  'modelo_mas_visitado',\\\n",
    "                                                                 'pais',\\\n",
    "                                                                 'evento_predominante_mes_5',\\\n",
    "                                                                 'semana_mas_interactuante',\\\n",
    "                                                                 'device_type',\n",
    "                                                                 'channel_frecuente'])"
   ]
  },
  {
   "cell_type": "code",
   "execution_count": 14,
   "metadata": {},
   "outputs": [
    {
     "data": {
      "text/plain": [
       "(38829, 343)"
      ]
     },
     "execution_count": 14,
     "metadata": {},
     "output_type": "execute_result"
    }
   ],
   "source": [
    "df_features_categoricos.shape"
   ]
  },
  {
   "cell_type": "markdown",
   "metadata": {},
   "source": [
    "## Booleano"
   ]
  },
  {
   "cell_type": "markdown",
   "metadata": {},
   "source": [
    "Los transformo a numericos (1 o 0)"
   ]
  },
  {
   "cell_type": "code",
   "execution_count": 15,
   "metadata": {},
   "outputs": [
    {
     "data": {
      "text/html": [
       "<div>\n",
       "<style scoped>\n",
       "    .dataframe tbody tr th:only-of-type {\n",
       "        vertical-align: middle;\n",
       "    }\n",
       "\n",
       "    .dataframe tbody tr th {\n",
       "        vertical-align: top;\n",
       "    }\n",
       "\n",
       "    .dataframe thead th {\n",
       "        text-align: right;\n",
       "    }\n",
       "</style>\n",
       "<table border=\"1\" class=\"dataframe\">\n",
       "  <thead>\n",
       "    <tr style=\"text-align: right;\">\n",
       "      <th></th>\n",
       "      <th>person</th>\n",
       "      <th>busco_top_5_visitas</th>\n",
       "      <th>visito_mas_que_el_promedio</th>\n",
       "      <th>siempre_incrementando</th>\n",
       "      <th>inc_ultimo_mes</th>\n",
       "      <th>mismo_interes_ultimos_dos_meses</th>\n",
       "    </tr>\n",
       "  </thead>\n",
       "  <tbody>\n",
       "    <tr>\n",
       "      <th>0</th>\n",
       "      <td>4886f805</td>\n",
       "      <td>0.0</td>\n",
       "      <td>False</td>\n",
       "      <td>0</td>\n",
       "      <td>1</td>\n",
       "      <td>0</td>\n",
       "    </tr>\n",
       "    <tr>\n",
       "      <th>1</th>\n",
       "      <td>ad93850f</td>\n",
       "      <td>1.0</td>\n",
       "      <td>True</td>\n",
       "      <td>0</td>\n",
       "      <td>1</td>\n",
       "      <td>0</td>\n",
       "    </tr>\n",
       "    <tr>\n",
       "      <th>2</th>\n",
       "      <td>0297fc1e</td>\n",
       "      <td>1.0</td>\n",
       "      <td>True</td>\n",
       "      <td>0</td>\n",
       "      <td>1</td>\n",
       "      <td>1</td>\n",
       "    </tr>\n",
       "    <tr>\n",
       "      <th>3</th>\n",
       "      <td>2d681dd8</td>\n",
       "      <td>1.0</td>\n",
       "      <td>False</td>\n",
       "      <td>0</td>\n",
       "      <td>1</td>\n",
       "      <td>0</td>\n",
       "    </tr>\n",
       "    <tr>\n",
       "      <th>4</th>\n",
       "      <td>cccea85e</td>\n",
       "      <td>0.0</td>\n",
       "      <td>True</td>\n",
       "      <td>0</td>\n",
       "      <td>1</td>\n",
       "      <td>0</td>\n",
       "    </tr>\n",
       "  </tbody>\n",
       "</table>\n",
       "</div>"
      ],
      "text/plain": [
       "     person  busco_top_5_visitas  visito_mas_que_el_promedio  \\\n",
       "0  4886f805                  0.0                       False   \n",
       "1  ad93850f                  1.0                        True   \n",
       "2  0297fc1e                  1.0                        True   \n",
       "3  2d681dd8                  1.0                       False   \n",
       "4  cccea85e                  0.0                        True   \n",
       "\n",
       "   siempre_incrementando  inc_ultimo_mes  mismo_interes_ultimos_dos_meses  \n",
       "0                      0               1                                0  \n",
       "1                      0               1                                0  \n",
       "2                      0               1                                1  \n",
       "3                      0               1                                0  \n",
       "4                      0               1                                0  "
      ]
     },
     "execution_count": 15,
     "metadata": {},
     "output_type": "execute_result"
    }
   ],
   "source": [
    "df_features_bool.head()"
   ]
  },
  {
   "cell_type": "code",
   "execution_count": 16,
   "metadata": {},
   "outputs": [],
   "source": [
    "df_features_bool.iloc[:,1:] = df_features_bool.iloc[:,1:].astype(int)"
   ]
  },
  {
   "cell_type": "code",
   "execution_count": 17,
   "metadata": {},
   "outputs": [
    {
     "data": {
      "text/plain": [
       "(38829, 6)"
      ]
     },
     "execution_count": 17,
     "metadata": {},
     "output_type": "execute_result"
    }
   ],
   "source": [
    "df_features_bool.shape"
   ]
  },
  {
   "cell_type": "markdown",
   "metadata": {},
   "source": [
    "# Mergeo los features "
   ]
  },
  {
   "cell_type": "code",
   "execution_count": 18,
   "metadata": {},
   "outputs": [],
   "source": [
    "df_features_totales = df_features_bool.merge(df_features_numericos, on='person', how='left')"
   ]
  },
  {
   "cell_type": "code",
   "execution_count": 19,
   "metadata": {},
   "outputs": [],
   "source": [
    "df_features_totales = df_features_totales.merge(df_features_categoricos, on='person', how='left')"
   ]
  },
  {
   "cell_type": "code",
   "execution_count": 20,
   "metadata": {},
   "outputs": [
    {
     "data": {
      "text/plain": [
       "(38829, 397)"
      ]
     },
     "execution_count": 20,
     "metadata": {},
     "output_type": "execute_result"
    }
   ],
   "source": [
    "df_features_totales.shape"
   ]
  },
  {
   "cell_type": "code",
   "execution_count": 21,
   "metadata": {},
   "outputs": [
    {
     "data": {
      "text/plain": [
       "(38829,)"
      ]
     },
     "execution_count": 21,
     "metadata": {},
     "output_type": "execute_result"
    }
   ],
   "source": [
    "df_original['person'].drop_duplicates().shape"
   ]
  },
  {
   "cell_type": "markdown",
   "metadata": {},
   "source": [
    "Aparentemente tengo datos de todos los usuarios"
   ]
  },
  {
   "cell_type": "markdown",
   "metadata": {},
   "source": [
    "# Data preprocessing"
   ]
  },
  {
   "cell_type": "code",
   "execution_count": 22,
   "metadata": {},
   "outputs": [],
   "source": [
    "df_train = df_labels.merge(df_features_totales, on='person', how='left')"
   ]
  },
  {
   "cell_type": "code",
   "execution_count": 23,
   "metadata": {},
   "outputs": [
    {
     "data": {
      "text/plain": [
       "(19414, 398)"
      ]
     },
     "execution_count": 23,
     "metadata": {},
     "output_type": "execute_result"
    }
   ],
   "source": [
    "df_train.shape"
   ]
  },
  {
   "cell_type": "code",
   "execution_count": 24,
   "metadata": {},
   "outputs": [],
   "source": [
    "df_train = df_train.fillna(0)"
   ]
  },
  {
   "cell_type": "code",
   "execution_count": 25,
   "metadata": {},
   "outputs": [],
   "source": [
    "df_train_0 = df_train.loc[df_train['label'] == 0, :]\n",
    "df_train_1 = df_train.loc[df_train['label'] == 1, :]\n",
    "df_train_equal = pd.concat([df_train_1, shuffle(df_train_0).iloc[:980,:] ],axis=0)"
   ]
  },
  {
   "cell_type": "code",
   "execution_count": 26,
   "metadata": {},
   "outputs": [],
   "source": [
    "X,y = df_train.iloc[:,2:], df_train.iloc[:,1]"
   ]
  },
  {
   "cell_type": "code",
   "execution_count": 27,
   "metadata": {},
   "outputs": [],
   "source": [
    "X_train, X_test, y_train, y_test = \\\n",
    "    train_test_split(X, y, test_size=0.2, random_state=123)"
   ]
  },
  {
   "cell_type": "markdown",
   "metadata": {},
   "source": [
    "# Modelaje y entrenamiento!"
   ]
  },
  {
   "cell_type": "code",
   "execution_count": 28,
   "metadata": {},
   "outputs": [],
   "source": [
    "def xgb_classifier(X_train, X_test, y_train, y_test, useTrainCV=True, cv_folds=5, early_stopping_rounds=50):\n",
    "    \n",
    "    alg = xgb.XGBClassifier(objective ='reg:linear', \n",
    "                colsample_bytree = 1, learning_rate = 0.1,\n",
    "                max_depth = 7,\n",
    "                subsample = 0.9,\n",
    "                gamma = 1,\n",
    "                n_estimators = 50)\n",
    "    \n",
    "    print('\\nXGBoost Classifier')\n",
    "    if useTrainCV:\n",
    "        print(\"Start Feeding Data\")\n",
    "        xgb_param = alg.get_xgb_params()\n",
    "        xgtrain = xgb.DMatrix(X_train.values, label=y_train.values)\n",
    "        # xgtest = xgb.DMatrix(X_test.values, label=y_test.values)\n",
    "        cvresult = xgb.cv(xgb_param, xgtrain, num_boost_round=alg.get_params()['n_estimators'], nfold=cv_folds,\n",
    "                          early_stopping_rounds=early_stopping_rounds)\n",
    "        alg.set_params(n_estimators=cvresult.shape[0])\n",
    "    \n",
    "    alg.fit(X_train, y_train, eval_metric='auc')\n",
    "    \n",
    "    pred_proba = alg.predict_proba(X_test)[:, 1]\n",
    "    auc = roc_auc_score(y_test, pred_proba)\n",
    "    \n",
    "    print('El puntaje auc es: {}'.format(auc))\n",
    "    \n",
    "    return alg"
   ]
  },
  {
   "cell_type": "code",
   "execution_count": 29,
   "metadata": {},
   "outputs": [],
   "source": [
    "def rf_classifier(X_train, X_test, y_train, y_test):\n",
    "    rf = RandomForestClassifier(bootstrap=True, n_estimators = 1000, random_state = 42)\n",
    "    \n",
    "    rf.fit(X_train, y_train)\n",
    "    \n",
    "    pred_proba = rf.predict_proba(X_test)[:, 1]\n",
    "    auc = roc_auc_score(y_test, pred_proba)\n",
    "    print('\\nRandom Forest Classifier')\n",
    "    print('El puntaje auc es: {}'.format(auc))\n",
    "    \n",
    "    return rf"
   ]
  },
  {
   "cell_type": "code",
   "execution_count": 30,
   "metadata": {},
   "outputs": [],
   "source": [
    "def dt_classifier(X_train, X_test, y_train, y_test):\n",
    "    clf = tree.DecisionTreeClassifier(random_state = 100,\n",
    "    max_depth=8, min_samples_leaf=4)\n",
    "    \n",
    "    clf.fit(X_train, y_train)\n",
    "    \n",
    "    predict = clf.predict_proba(X_test)[:,1]\n",
    "    \n",
    "    auc = roc_auc_score(y_test, predict)\n",
    "    print('\\nDecision Tree')\n",
    "    print('El puntaje auc es: {}'.format(auc))\n",
    "    \n",
    "    return clf"
   ]
  },
  {
   "cell_type": "code",
   "execution_count": 31,
   "metadata": {},
   "outputs": [],
   "source": [
    "def knn_classifier(X_train, X_test, y_train, y_test):\n",
    "    \"\"\"Aplica KNN al test entregado, primero haciendo gridsearch para sacar el k optimo\"\"\"\n",
    "    \n",
    "    k_range = list(range(1, 2))\n",
    "    param_grid = dict(n_neighbors=k_range)\n",
    "    \n",
    "    knn = KNeighborsClassifier(n_neighbors=5)\n",
    "    grid = GridSearchCV(knn, param_grid, cv=10, scoring='accuracy')\n",
    "    \n",
    "    grid.fit(X_train, y_train)\n",
    "    \n",
    "    knn_best = grid.best_estimator_\n",
    "    \n",
    "    \n",
    "    predict = knn_best.predict_proba(X_test)[:,1]\n",
    "    \n",
    "    auc = roc_auc_score(y_test, predict)\n",
    "    print('\\nKNN con k=3')\n",
    "    print('El puntaje auc es: {}'.format(auc))\n",
    "    \n",
    "    return knn_best"
   ]
  },
  {
   "cell_type": "code",
   "execution_count": 32,
   "metadata": {},
   "outputs": [
    {
     "name": "stdout",
     "output_type": "stream",
     "text": [
      "\n",
      "XGBoost Classifier\n",
      "Start Feeding Data\n",
      "El puntaje auc es: 0.8699579677014969\n",
      "\n",
      "Random Forest Classifier\n",
      "El puntaje auc es: 0.8527727986930849\n"
     ]
    }
   ],
   "source": [
    "xgb_model = xgb_classifier(X_train, X_test, y_train, y_test,useTrainCV=True)\n",
    "rf_model = rf_classifier(X_train, X_test, y_train, y_test)\n",
    "#dt_model = dt_classifier(X_train, X_test, y_train, y_test)\n",
    "#knn_model = knn_classifier(X_train,X_test, y_train, y_test)"
   ]
  },
  {
   "cell_type": "code",
   "execution_count": 33,
   "metadata": {},
   "outputs": [],
   "source": [
    "xgb_predict = xgb_model.predict_proba(X_test)[:,1]\n",
    "rf_predict = rf_model.predict_proba(X_test)[:,1]\n",
    "#dt_predict = dt_model.predict_proba(X_test)[:,1]\n",
    "#knn_predict = knn_model.predict_proba(X_test)[:,1]"
   ]
  },
  {
   "cell_type": "code",
   "execution_count": 34,
   "metadata": {},
   "outputs": [],
   "source": [
    "final_prediction_test = (xgb_predict * 0.8 + rf_predict * 0.2)"
   ]
  },
  {
   "cell_type": "code",
   "execution_count": 35,
   "metadata": {},
   "outputs": [
    {
     "data": {
      "text/plain": [
       "0.8699246424985678"
      ]
     },
     "execution_count": 35,
     "metadata": {},
     "output_type": "execute_result"
    }
   ],
   "source": [
    "roc_auc_score(y_test, final_prediction_test)"
   ]
  },
  {
   "cell_type": "code",
   "execution_count": 36,
   "metadata": {},
   "outputs": [],
   "source": [
    "zipped = zip(map(lambda x: round(x, 4), rf_model.feature_importances_), X_test.columns)\n",
    "feature = sorted(zipped, key=lambda x: x[1])"
   ]
  },
  {
   "cell_type": "code",
   "execution_count": 37,
   "metadata": {},
   "outputs": [],
   "source": [
    "feat_importance = pd.DataFrame(feature, columns=['importance', 'feature'])\n",
    "f_m_i = list(feat_importance.sort_values('importance', ascending=False).head(100)['feature'].values)"
   ]
  },
  {
   "cell_type": "code",
   "execution_count": 38,
   "metadata": {},
   "outputs": [
    {
     "data": {
      "text/plain": [
       "['promedio_ingreso_mensual',\n",
       " 'Promedio_visitas_producto',\n",
       " 'horas_mirando_productos',\n",
       " 'viewed_sum',\n",
       " 'viewed_std',\n",
       " 'visitas_mes5',\n",
       " 'Cantidad_visitas',\n",
       " 'registros_semana_4',\n",
       " 'MEAN(cant_interacciones_por_modelo)_x',\n",
       " 'MEAN(cant_interacciones_por_modelo)_y',\n",
       " 'viewed_mean',\n",
       " 'DAY(first month 5)_y',\n",
       " 'registros_semana_5',\n",
       " 'registros_semana_3',\n",
       " 'MAX(cant_interacciones_por_modelo)_y',\n",
       " 'cant_modelos_distintos',\n",
       " 'DAY(last month 5)_y',\n",
       " 'MAX(cant_interacciones_por_modelo)_x',\n",
       " 'act_ultima_semana',\n",
       " '%checkouts_x',\n",
       " '%checkouts_y',\n",
       " 'registros_semana_2',\n",
       " 'WEEKDAY(first month 5)_y',\n",
       " 'visitas_mes4',\n",
       " 'diferencia 5_y',\n",
       " 'registros_semana_1',\n",
       " 'WEEKDAY(last month 5)_y',\n",
       " 'visitas_mes3',\n",
       " 'Checkout mean_y',\n",
       " 'Checkout mean_x',\n",
       " 'cant_checkouts_5',\n",
       " 'cant_checkouts_dif_modelos',\n",
       " 'checkout_mean',\n",
       " 'checkout_sum',\n",
       " 'Checkout max_x',\n",
       " 'Checkout max_y',\n",
       " 'DAY(last month 5)_x',\n",
       " 'device_type_Computer',\n",
       " 'channel_frecuente_Paid',\n",
       " 'DAY(first month 5)_x',\n",
       " 'device_type_Smartphone',\n",
       " 'act_primera_semana',\n",
       " 'visitas_mes1',\n",
       " 'region_persona_Sao Paulo',\n",
       " 'visitas_mes2',\n",
       " 'busco_top_5_visitas',\n",
       " 'region_persona_Unknown',\n",
       " 'channel_frecuente_Organic',\n",
       " 'semana_mas_interactuante_Fourth',\n",
       " 'conversion_sum',\n",
       " 'channel_frecuente_Direct',\n",
       " 'WEEKDAY(first month 5)_x',\n",
       " 'WEEKDAY(last month 5)_x',\n",
       " 'channel_frecuente_Referral',\n",
       " 'semana_mas_interactuante_Third',\n",
       " 'conversion_mean',\n",
       " 'semana_mas_interactuante_Second',\n",
       " 'evento_predominante_mes_5_viewed product',\n",
       " 'semana_mas_interactuante_Fifth',\n",
       " 'inc_ultimo_mes',\n",
       " 'modelo_mas_visitado_iPhone 5s',\n",
       " 'visito_mas_que_el_promedio',\n",
       " 'region_persona_Minas Gerais',\n",
       " 'modelo_mas_visitado_iPhone 6',\n",
       " 'mayor_actividad_ult_semana_x',\n",
       " 'mayor_actividad_ult_semana_y',\n",
       " 'region_persona_Rio de Janeiro',\n",
       " 'diferencia 5_x',\n",
       " 'region_persona_Bahia',\n",
       " 'checkouts_ult_semana',\n",
       " 'evento_predominante_mes_5_brand listing',\n",
       " 'semana_mas_interactuante_First',\n",
       " 'modelo_mas_visitado_iPhone 6S',\n",
       " 'region_persona_Rio Grande do Sul',\n",
       " 'modelo_mas_visitado_Samsung Galaxy J5',\n",
       " 'modelo_mas_visitado_Samsung Galaxy S7 Edge',\n",
       " 'evento_predominante_mes_5_searched products',\n",
       " 'modelo_mas_visitado_iPhone 5c',\n",
       " 'region_persona_Parana',\n",
       " 'evento_predominante_mes_5_visited site',\n",
       " 'modelo_mas_visitado_Samsung Galaxy S7',\n",
       " 'region_persona_Santa Catarina',\n",
       " 'modelo_mas_visitado_Motorola Moto G3 4G',\n",
       " 'modelo_mas_visitado_iPhone 6S Plus',\n",
       " 'modelo_mas_visitado_Samsung Galaxy J7',\n",
       " 'evento_predominante_mes_5_ad campaign hit',\n",
       " 'modelo_mas_visitado_iPhone 7',\n",
       " 'modelo_mas_visitado_Samsung Galaxy S6 Edge',\n",
       " 'modelo_mas_visitado_Samsung Galaxy S6 Flat',\n",
       " 'mismo_interes_ultimos_dos_meses',\n",
       " 'region_persona_Federal District',\n",
       " 'modelo_mas_visitado_Motorola Moto G4 Plus',\n",
       " 'pais_Brazil',\n",
       " 'modelo_mas_visitado_iPhone 7 Plus',\n",
       " 'region_persona_Para',\n",
       " 'modelo_mas_visitado_Samsung Galaxy J7 Prime',\n",
       " 'modelo_mas_visitado_Samsung Galaxy A5 2016',\n",
       " 'modelo_mas_visitado_Motorola Moto G5 Plus',\n",
       " 'modelo_mas_visitado_Samsung Galaxy S8',\n",
       " 'region_persona_Pernambuco']"
      ]
     },
     "execution_count": 38,
     "metadata": {},
     "output_type": "execute_result"
    }
   ],
   "source": [
    "f_m_i"
   ]
  },
  {
   "cell_type": "markdown",
   "metadata": {},
   "source": [
    "# Prediccion para el tp"
   ]
  },
  {
   "cell_type": "code",
   "execution_count": 69,
   "metadata": {},
   "outputs": [],
   "source": [
    "personas_a_predecir = pd.read_csv('trocafone_kaggle_test.csv', low_memory=False)"
   ]
  },
  {
   "cell_type": "code",
   "execution_count": 70,
   "metadata": {},
   "outputs": [],
   "source": [
    "personas_a_predecir_con_features = personas_a_predecir.merge(df_features_totales, on='person', how='left')"
   ]
  },
  {
   "cell_type": "code",
   "execution_count": 71,
   "metadata": {},
   "outputs": [],
   "source": [
    "personas_a_predecir_con_features = personas_a_predecir_con_features.fillna(0)"
   ]
  },
  {
   "cell_type": "code",
   "execution_count": 72,
   "metadata": {},
   "outputs": [],
   "source": [
    "personas_a_predecir_con_features = personas_a_predecir_con_features.drop(columns = ['person'])"
   ]
  },
  {
   "cell_type": "code",
   "execution_count": 73,
   "metadata": {},
   "outputs": [],
   "source": [
    "xgb_predict = xgb_model.predict_proba(personas_a_predecir_con_features)[:,1]\n",
    "rf_predict = rf_model.predict_proba(personas_a_predecir_con_features)[:,1]\n",
    "#dt_predict = dt_model.predict_proba(personas_a_predecir_con_features)[:,1]\n",
    "#knn_predict = knn_model.predict_proba(personas_a_predecir_con_features)[:,1]"
   ]
  },
  {
   "cell_type": "code",
   "execution_count": 74,
   "metadata": {},
   "outputs": [],
   "source": [
    "final_prediction_tp = pd.Series(xgb_predict * 0.8 + rf_predict * 0.2)"
   ]
  },
  {
   "cell_type": "code",
   "execution_count": 75,
   "metadata": {},
   "outputs": [],
   "source": [
    "personas_a_predecir['label'] = final_prediction_tp"
   ]
  },
  {
   "cell_type": "code",
   "execution_count": 51,
   "metadata": {},
   "outputs": [],
   "source": [
    "num = personas_a_predecir._get_numeric_data()\n",
    "num[num < 0] = 0"
   ]
  },
  {
   "cell_type": "code",
   "execution_count": 76,
   "metadata": {},
   "outputs": [],
   "source": [
    "personas_a_predecir.to_csv(path_or_buf = 'submit_kaggle.csv', index = False)"
   ]
  },
  {
   "cell_type": "code",
   "execution_count": null,
   "metadata": {},
   "outputs": [],
   "source": []
  }
 ],
 "metadata": {
  "kernelspec": {
   "display_name": "Python 3",
   "language": "python",
   "name": "python3"
  },
  "language_info": {
   "codemirror_mode": {
    "name": "ipython",
    "version": 3
   },
   "file_extension": ".py",
   "mimetype": "text/x-python",
   "name": "python",
   "nbconvert_exporter": "python",
   "pygments_lexer": "ipython3",
   "version": "3.7.0"
  }
 },
 "nbformat": 4,
 "nbformat_minor": 2
}
