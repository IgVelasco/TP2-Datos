{
 "cells": [
  {
   "cell_type": "markdown",
   "metadata": {},
   "source": [
    "# Modelos de ML a utilizar"
   ]
  },
  {
   "cell_type": "code",
   "execution_count": 78,
   "metadata": {},
   "outputs": [],
   "source": [
    "def xgb_classifier(X_train, X_test, y_train, y_test, useTrainCV=True, cv_folds=5, early_stopping_rounds=50):\n",
    "    \n",
    "    alg = xgb.XGBClassifier(objective ='reg:linear', \n",
    "                colsample_bytree = 1, learning_rate = 0.1,\n",
    "                max_depth = 7,\n",
    "                subsample = 0.9,\n",
    "                gamma = 1,\n",
    "                n_estimators = 50)\n",
    "    \n",
    "    print('\\nXGBoost Classifier')\n",
    "    alg.fit(X_train, y_train, eval_metric='auc')\n",
    "    \n",
    "    pred_proba = alg.predict_proba(X_test)[:, 1]\n",
    "    auc = roc_auc_score(y_test, pred_proba)\n",
    "    \n",
    "    print('El puntaje auc es: {}'.format(auc))\n",
    "    \n",
    "    return alg"
   ]
  },
  {
   "cell_type": "code",
   "execution_count": 2,
   "metadata": {},
   "outputs": [],
   "source": [
    "def rf_classifier(X, y):\n",
    "    RFC = RandomForestClassifier()\n",
    "\n",
    "\n",
    "    rf_param_grid = {\"max_depth\": [None],\n",
    "                  \"max_features\": [1, 3, 10],\n",
    "                  \"min_samples_split\": [2, 3, 10],\n",
    "                  \"min_samples_leaf\": [1, 3, 10],\n",
    "                  \"bootstrap\": [False],\n",
    "                  \"n_estimators\" :[50,65,100],\n",
    "                  \"criterion\": [\"gini\"]}\n",
    "\n",
    "\n",
    "    gsRFC = GridSearchCV(RFC,param_grid = rf_param_grid, cv=2, scoring=\"roc_auc\", n_jobs= 4, verbose = 1)\n",
    "\n",
    "    gsRFC.fit(X,y)\n",
    "\n",
    "    RFC_best = gsRFC.best_estimator_\n",
    "\n",
    "    # Best score\n",
    "    print('Random classifier')\n",
    "    print(gsRFC.best_score_)\n",
    "    \n",
    "    return RFC_best"
   ]
  },
  {
   "cell_type": "code",
   "execution_count": 3,
   "metadata": {},
   "outputs": [],
   "source": [
    "def dt_classifier(X_train, X_test, y_train, y_test):\n",
    "    clf = tree.DecisionTreeClassifier(random_state = 100,\n",
    "    max_depth=8, min_samples_leaf=4)\n",
    "    \n",
    "    clf.fit(X_train, y_train)\n",
    "    \n",
    "    predict = clf.predict_proba(X_test)[:,1]\n",
    "    \n",
    "    auc = roc_auc_score(y_test, predict)\n",
    "    print('\\nDecision Tree')\n",
    "    print('El puntaje auc es: {}'.format(auc))\n",
    "    \n",
    "    return clf"
   ]
  },
  {
   "cell_type": "code",
   "execution_count": 4,
   "metadata": {},
   "outputs": [],
   "source": [
    "def knn_classifier(X_train, X_test, y_train, y_test):\n",
    "    \"\"\"Aplica KNN al test entregado, primero haciendo gridsearch para sacar el k optimo\"\"\"\n",
    "    \n",
    "    k_range = list(range(1, 2))\n",
    "    param_grid = dict(n_neighbors=k_range)\n",
    "    \n",
    "    knn = KNeighborsClassifier(n_neighbors=5)\n",
    "    grid = GridSearchCV(knn, param_grid, cv=10, scoring='accuracy')\n",
    "    \n",
    "    grid.fit(X_train, y_train)\n",
    "    \n",
    "    knn_best = grid.best_estimator_\n",
    "    \n",
    "    \n",
    "    predict = knn_best.predict_proba(X_test)[:,1]\n",
    "    \n",
    "    auc = roc_auc_score(y_test, predict)\n",
    "    print('\\nKNN con k=3')\n",
    "    print('El puntaje auc es: {}'.format(auc))\n",
    "    \n",
    "    return knn_best"
   ]
  },
  {
   "cell_type": "code",
   "execution_count": 5,
   "metadata": {},
   "outputs": [],
   "source": [
    "def ext_classifier(X, y):\n",
    "    ExtC = ExtraTreesClassifier()\n",
    "\n",
    "\n",
    "    ## Search grid for optimal parameters\n",
    "    ex_param_grid = {\"max_depth\": [None],\n",
    "              \"max_features\": [1, 3, 10],\n",
    "              \"min_samples_split\": [2, 3, 10],\n",
    "              \"min_samples_leaf\": [1, 3, 10],\n",
    "              \"bootstrap\": [False],\n",
    "              \"n_estimators\" :[100,300],\n",
    "              \"criterion\": [\"gini\"]}\n",
    "\n",
    "\n",
    "    gsExtC = GridSearchCV(ExtC,param_grid = ex_param_grid, cv=2, scoring=\"roc_auc\", n_jobs= 4, verbose = 1)\n",
    "\n",
    "    gsExtC.fit(X, y)\n",
    "\n",
    "    ExtC_best = gsExtC.best_estimator_\n",
    "\n",
    "    # Best score\n",
    "    print('Extra tree classifier')\n",
    "    print(gsExtC.best_score_)\n",
    "    return ExtC_best"
   ]
  },
  {
   "cell_type": "code",
   "execution_count": 6,
   "metadata": {},
   "outputs": [],
   "source": [
    "def lgb_classifier(X_train, X_test, y_train, y_test):\n",
    "    lgb_cl = lgb.LGBMClassifier(learning_rate=0.005,objective='binary',num_leaves=55,max_depth=13,\n",
    "                        n_estimators=60,colsample_bytree=0.8,n_jobs=-1,\n",
    "                        random_state=0,silent=False,subsample=0.8,\n",
    "                        sumsample_freq=0.5)\n",
    "\n",
    "    lgb_cl.fit(X_train,y_train)\n",
    "    predict = lgb_cl.predict_proba(X_test)[:,1]\n",
    "    \n",
    "    auc = roc_auc_score(y_test, predict)\n",
    "    print('\\nLGB Classifier')\n",
    "    print('El puntaje auc es: {}'.format(auc))\n",
    "    \n",
    "    return lgb_cl"
   ]
  },
  {
   "cell_type": "code",
   "execution_count": 7,
   "metadata": {},
   "outputs": [],
   "source": [
    "def mlp_classifier(X,y):\n",
    "    mlp = MLPClassifier()\n",
    "\n",
    "    mlp_param_grid = {'solver': ['lbfgs'],\n",
    "                  'max_iter': [50,100],\n",
    "                  'alpha': 10.0 ** -np.arange(5, 10), \n",
    "                  'hidden_layer_sizes':np.arange(13, 15),\n",
    "                  'random_state':[1,5,6,9]}\n",
    "\n",
    "\n",
    "    gsmlp = GridSearchCV(mlp,param_grid = mlp_param_grid, cv=2, scoring=\"roc_auc\", n_jobs= 4, verbose = 1)\n",
    "\n",
    "    gsmlp.fit(X,y)\n",
    "\n",
    "    mlp_best = gsmlp.best_estimator_\n",
    "    print('\\nRed Neuronal Classifier')\n",
    "    print(gsmlp.best_score_)\n",
    "    return mlp_best"
   ]
  },
  {
   "cell_type": "code",
   "execution_count": 8,
   "metadata": {},
   "outputs": [],
   "source": [
    "def gb_classifier(X,y):\n",
    "    GBC = GradientBoostingClassifier()\n",
    "    gb_param_grid = {'loss' : [\"deviance\"],\n",
    "                      'n_estimators' : [50,65,100],\n",
    "                      'learning_rate': [0.1, 0.05, 0.01],\n",
    "                      'max_depth': [4, 8],\n",
    "                      'min_samples_leaf': [100,150],\n",
    "                      'max_features': [0.3, 0.1],\n",
    "                      }\n",
    "                               \n",
    "    gsGBC = GridSearchCV(GBC,param_grid = gb_param_grid, cv=2, scoring=\"roc_auc\", n_jobs= 4, verbose = 1)\n",
    "    gsGBC.fit(X,y)\n",
    "  \n",
    "    GBC_best = gsGBC.best_estimator_\n",
    "  \n",
    "    # Best score\\n\",\n",
    "    print('Gradient Boosting')\n",
    "    print(gsGBC.best_score_)\n",
    "    return GBC_best"
   ]
  },
  {
   "cell_type": "code",
   "execution_count": 9,
   "metadata": {},
   "outputs": [],
   "source": [
    "def ensamblador(estimadores,X_train, X_test, y_train, y_test):\n",
    "    eclf3 = VotingClassifier(estimators=[\n",
    "       ('xgb', estimadores[0]), ('lgb', estimadores[1]),('mlp', estimadores[2]),('gb',estimadores[3])],\n",
    "       voting='soft', weights=[1, 0.5, 0.5, 1],\n",
    "      flatten_transform=True)\n",
    "\n",
    "    eclf3.fit(X_train,y_train)\n",
    "    \n",
    "    predict = eclf3.predict_proba(X_test)[:,1]\n",
    "    \n",
    "    auc = roc_auc_score(y_test, predict)\n",
    "    \n",
    "    print('Ensamble final')\n",
    "    print('El puntaje auc es: {}'.format(auc))\n",
    "    \n",
    "    return eclf3"
   ]
  },
  {
   "cell_type": "markdown",
   "metadata": {},
   "source": [
    "# Predicciones en varios modelos"
   ]
  },
  {
   "cell_type": "code",
   "execution_count": 10,
   "metadata": {},
   "outputs": [],
   "source": [
    "import xgboost as xgb\n",
    "from sklearn.metrics import mean_squared_error\n",
    "import pandas as pd\n",
    "import numpy as np\n",
    "from sklearn.model_selection import train_test_split\n",
    "import datetime\n",
    "from sklearn.utils import shuffle\n",
    "from sklearn.metrics import roc_auc_score\n",
    "from sklearn.preprocessing import MinMaxScaler\n",
    "from sklearn.ensemble import RandomForestClassifier\n",
    "from sklearn import tree\n",
    "from sklearn.neighbors import KNeighborsClassifier\n",
    "from sklearn.model_selection import GridSearchCV\n",
    "from sklearn.ensemble import AdaBoostClassifier, GradientBoostingClassifier, ExtraTreesClassifier, VotingClassifier\n",
    "from sklearn.model_selection import GridSearchCV, cross_val_score, StratifiedKFold, learning_curve\n",
    "import lightgbm as lgb\n",
    "from sklearn.neural_network import MLPClassifier"
   ]
  },
  {
   "cell_type": "code",
   "execution_count": 11,
   "metadata": {},
   "outputs": [],
   "source": [
    "df_original = pd.read_csv('events_up_to_01062018.csv', low_memory = False)\n",
    "df_labels= pd.read_csv('labels_training_set.csv', low_memory = False)"
   ]
  },
  {
   "cell_type": "code",
   "execution_count": 12,
   "metadata": {},
   "outputs": [],
   "source": [
    "df_features_numericos = pd.read_csv('features_numericos_merge_final.csv', low_memory=False)\n",
    "df_features_bool = pd.read_csv('features_bool.csv', low_memory=False)\n",
    "df_features_categoricos = pd.read_csv('features_categoricos_reducidos.csv', low_memory=False)"
   ]
  },
  {
   "cell_type": "code",
   "execution_count": 13,
   "metadata": {},
   "outputs": [
    {
     "data": {
      "text/plain": [
       "(38829, 8)"
      ]
     },
     "execution_count": 13,
     "metadata": {},
     "output_type": "execute_result"
    }
   ],
   "source": [
    "df_features_bool.shape"
   ]
  },
  {
   "cell_type": "code",
   "execution_count": 14,
   "metadata": {},
   "outputs": [
    {
     "data": {
      "text/plain": [
       "(38829, 34)"
      ]
     },
     "execution_count": 14,
     "metadata": {},
     "output_type": "execute_result"
    }
   ],
   "source": [
    "df_features_numericos.shape"
   ]
  },
  {
   "cell_type": "code",
   "execution_count": 15,
   "metadata": {},
   "outputs": [
    {
     "data": {
      "text/plain": [
       "(38829, 7)"
      ]
     },
     "execution_count": 15,
     "metadata": {},
     "output_type": "execute_result"
    }
   ],
   "source": [
    "df_features_categoricos.shape"
   ]
  },
  {
   "cell_type": "code",
   "execution_count": 16,
   "metadata": {},
   "outputs": [
    {
     "data": {
      "text/plain": [
       "(38829,)"
      ]
     },
     "execution_count": 16,
     "metadata": {},
     "output_type": "execute_result"
    }
   ],
   "source": [
    "df_original['person'].drop_duplicates().shape"
   ]
  },
  {
   "cell_type": "markdown",
   "metadata": {},
   "source": [
    "## Trabajo en los features por separado, empiezo por los numericos"
   ]
  },
  {
   "cell_type": "markdown",
   "metadata": {},
   "source": [
    "A los numericos hago un fillna con ceros"
   ]
  },
  {
   "cell_type": "code",
   "execution_count": 17,
   "metadata": {},
   "outputs": [],
   "source": [
    "df_features_numericos = df_features_numericos.fillna(0)"
   ]
  },
  {
   "cell_type": "code",
   "execution_count": 18,
   "metadata": {},
   "outputs": [
    {
     "data": {
      "text/plain": [
       "person                                 0\n",
       "conversion_sum                         0\n",
       "conversion_mean                        0\n",
       "viewed_sum                             0\n",
       "viewed_mean                            0\n",
       "viewed_std                             0\n",
       "dif_5_check                            0\n",
       "last_day_check                         0\n",
       "first_day_check                        0\n",
       "last_week_check                        0\n",
       "first_week_check                       0\n",
       "cant_checkouts_5                       0\n",
       "%checkouts                             0\n",
       "checkouts_ult_semana                   0\n",
       "act_primera_semana                     0\n",
       "act_ultima_semana                      0\n",
       "mayor_actividad_ult_semana             0\n",
       "cant_modelos_distintos                 0\n",
       "cant_checkouts_dif_modelos             0\n",
       "MAX(cant_interacciones_por_modelo)     0\n",
       "MEAN(cant_interacciones_por_modelo)    0\n",
       "Checkout max                           0\n",
       "Checkout mean                          0\n",
       "cant_lead_5to_mes                      0\n",
       "cant_modelos_que_consulto_stock        0\n",
       "Cantidad_visitas                       0\n",
       "Promedio_visitas_producto              0\n",
       "horas_mirando_productos                0\n",
       "visitas_mes1                           0\n",
       "visitas_mes2                           0\n",
       "visitas_mes3                           0\n",
       "visitas_mes4                           0\n",
       "visitas_mes5                           0\n",
       "promedio_ingreso_mensual               0\n",
       "dtype: int64"
      ]
     },
     "execution_count": 18,
     "metadata": {},
     "output_type": "execute_result"
    }
   ],
   "source": [
    "df_features_numericos.isnull().sum()"
   ]
  },
  {
   "cell_type": "markdown",
   "metadata": {},
   "source": [
    "## Categoricos"
   ]
  },
  {
   "cell_type": "markdown",
   "metadata": {},
   "source": [
    "Fabrico los dummies"
   ]
  },
  {
   "cell_type": "code",
   "execution_count": 19,
   "metadata": {},
   "outputs": [
    {
     "data": {
      "text/html": [
       "<div>\n",
       "<style scoped>\n",
       "    .dataframe tbody tr th:only-of-type {\n",
       "        vertical-align: middle;\n",
       "    }\n",
       "\n",
       "    .dataframe tbody tr th {\n",
       "        vertical-align: top;\n",
       "    }\n",
       "\n",
       "    .dataframe thead th {\n",
       "        text-align: right;\n",
       "    }\n",
       "</style>\n",
       "<table border=\"1\" class=\"dataframe\">\n",
       "  <thead>\n",
       "    <tr style=\"text-align: right;\">\n",
       "      <th></th>\n",
       "      <th>person</th>\n",
       "      <th>region_persona</th>\n",
       "      <th>pais</th>\n",
       "      <th>semana_mas_interactuante</th>\n",
       "      <th>device_type</th>\n",
       "      <th>channel_frecuente</th>\n",
       "      <th>marca_mas_buscada</th>\n",
       "    </tr>\n",
       "  </thead>\n",
       "  <tbody>\n",
       "    <tr>\n",
       "      <th>0</th>\n",
       "      <td>4886f805</td>\n",
       "      <td>Rio de Janeiro</td>\n",
       "      <td>Brazil</td>\n",
       "      <td>Third</td>\n",
       "      <td>Smartphone</td>\n",
       "      <td>Organic</td>\n",
       "      <td>Samsung</td>\n",
       "    </tr>\n",
       "    <tr>\n",
       "      <th>1</th>\n",
       "      <td>ad93850f</td>\n",
       "      <td>Sao Paulo</td>\n",
       "      <td>Brazil</td>\n",
       "      <td>Third</td>\n",
       "      <td>Smartphone</td>\n",
       "      <td>Paid</td>\n",
       "      <td>iPhone</td>\n",
       "    </tr>\n",
       "    <tr>\n",
       "      <th>2</th>\n",
       "      <td>0297fc1e</td>\n",
       "      <td>Rio de Janeiro</td>\n",
       "      <td>Brazil</td>\n",
       "      <td>Fourth</td>\n",
       "      <td>Smartphone</td>\n",
       "      <td>Direct</td>\n",
       "      <td>iPhone</td>\n",
       "    </tr>\n",
       "    <tr>\n",
       "      <th>3</th>\n",
       "      <td>2d681dd8</td>\n",
       "      <td>Sao Paulo</td>\n",
       "      <td>Brazil</td>\n",
       "      <td>Fourth</td>\n",
       "      <td>Computer</td>\n",
       "      <td>Organic</td>\n",
       "      <td>iPhone</td>\n",
       "    </tr>\n",
       "    <tr>\n",
       "      <th>4</th>\n",
       "      <td>cccea85e</td>\n",
       "      <td>Sao Paulo</td>\n",
       "      <td>Brazil</td>\n",
       "      <td>Third</td>\n",
       "      <td>Computer</td>\n",
       "      <td>Organic</td>\n",
       "      <td>Motorola</td>\n",
       "    </tr>\n",
       "  </tbody>\n",
       "</table>\n",
       "</div>"
      ],
      "text/plain": [
       "     person  region_persona    pais semana_mas_interactuante device_type  \\\n",
       "0  4886f805  Rio de Janeiro  Brazil                    Third  Smartphone   \n",
       "1  ad93850f       Sao Paulo  Brazil                    Third  Smartphone   \n",
       "2  0297fc1e  Rio de Janeiro  Brazil                   Fourth  Smartphone   \n",
       "3  2d681dd8       Sao Paulo  Brazil                   Fourth    Computer   \n",
       "4  cccea85e       Sao Paulo  Brazil                    Third    Computer   \n",
       "\n",
       "  channel_frecuente marca_mas_buscada  \n",
       "0           Organic           Samsung  \n",
       "1              Paid            iPhone  \n",
       "2            Direct            iPhone  \n",
       "3           Organic            iPhone  \n",
       "4           Organic          Motorola  "
      ]
     },
     "execution_count": 19,
     "metadata": {},
     "output_type": "execute_result"
    }
   ],
   "source": [
    "df_features_categoricos.head()"
   ]
  },
  {
   "cell_type": "code",
   "execution_count": 20,
   "metadata": {},
   "outputs": [],
   "source": [
    "df_features_categoricos = pd.concat([df_features_categoricos, pd.get_dummies(df_features_categoricos.iloc[:,1:])], axis=1)"
   ]
  },
  {
   "cell_type": "code",
   "execution_count": 21,
   "metadata": {},
   "outputs": [
    {
     "data": {
      "text/html": [
       "<div>\n",
       "<style scoped>\n",
       "    .dataframe tbody tr th:only-of-type {\n",
       "        vertical-align: middle;\n",
       "    }\n",
       "\n",
       "    .dataframe tbody tr th {\n",
       "        vertical-align: top;\n",
       "    }\n",
       "\n",
       "    .dataframe thead th {\n",
       "        text-align: right;\n",
       "    }\n",
       "</style>\n",
       "<table border=\"1\" class=\"dataframe\">\n",
       "  <thead>\n",
       "    <tr style=\"text-align: right;\">\n",
       "      <th></th>\n",
       "      <th>person</th>\n",
       "      <th>region_persona</th>\n",
       "      <th>pais</th>\n",
       "      <th>semana_mas_interactuante</th>\n",
       "      <th>device_type</th>\n",
       "      <th>channel_frecuente</th>\n",
       "      <th>marca_mas_buscada</th>\n",
       "      <th>region_persona_0</th>\n",
       "      <th>region_persona_Acre</th>\n",
       "      <th>region_persona_Alagoas</th>\n",
       "      <th>...</th>\n",
       "      <th>channel_frecuente_Organic</th>\n",
       "      <th>channel_frecuente_Paid</th>\n",
       "      <th>channel_frecuente_Referral</th>\n",
       "      <th>channel_frecuente_Social</th>\n",
       "      <th>channel_frecuente_Unknown</th>\n",
       "      <th>marca_mas_buscada_LG</th>\n",
       "      <th>marca_mas_buscada_Motorola</th>\n",
       "      <th>marca_mas_buscada_Other</th>\n",
       "      <th>marca_mas_buscada_Samsung</th>\n",
       "      <th>marca_mas_buscada_iPhone</th>\n",
       "    </tr>\n",
       "  </thead>\n",
       "  <tbody>\n",
       "    <tr>\n",
       "      <th>0</th>\n",
       "      <td>4886f805</td>\n",
       "      <td>Rio de Janeiro</td>\n",
       "      <td>Brazil</td>\n",
       "      <td>Third</td>\n",
       "      <td>Smartphone</td>\n",
       "      <td>Organic</td>\n",
       "      <td>Samsung</td>\n",
       "      <td>0</td>\n",
       "      <td>0</td>\n",
       "      <td>0</td>\n",
       "      <td>...</td>\n",
       "      <td>1</td>\n",
       "      <td>0</td>\n",
       "      <td>0</td>\n",
       "      <td>0</td>\n",
       "      <td>0</td>\n",
       "      <td>0</td>\n",
       "      <td>0</td>\n",
       "      <td>0</td>\n",
       "      <td>1</td>\n",
       "      <td>0</td>\n",
       "    </tr>\n",
       "    <tr>\n",
       "      <th>1</th>\n",
       "      <td>ad93850f</td>\n",
       "      <td>Sao Paulo</td>\n",
       "      <td>Brazil</td>\n",
       "      <td>Third</td>\n",
       "      <td>Smartphone</td>\n",
       "      <td>Paid</td>\n",
       "      <td>iPhone</td>\n",
       "      <td>0</td>\n",
       "      <td>0</td>\n",
       "      <td>0</td>\n",
       "      <td>...</td>\n",
       "      <td>0</td>\n",
       "      <td>1</td>\n",
       "      <td>0</td>\n",
       "      <td>0</td>\n",
       "      <td>0</td>\n",
       "      <td>0</td>\n",
       "      <td>0</td>\n",
       "      <td>0</td>\n",
       "      <td>0</td>\n",
       "      <td>1</td>\n",
       "    </tr>\n",
       "    <tr>\n",
       "      <th>2</th>\n",
       "      <td>0297fc1e</td>\n",
       "      <td>Rio de Janeiro</td>\n",
       "      <td>Brazil</td>\n",
       "      <td>Fourth</td>\n",
       "      <td>Smartphone</td>\n",
       "      <td>Direct</td>\n",
       "      <td>iPhone</td>\n",
       "      <td>0</td>\n",
       "      <td>0</td>\n",
       "      <td>0</td>\n",
       "      <td>...</td>\n",
       "      <td>0</td>\n",
       "      <td>0</td>\n",
       "      <td>0</td>\n",
       "      <td>0</td>\n",
       "      <td>0</td>\n",
       "      <td>0</td>\n",
       "      <td>0</td>\n",
       "      <td>0</td>\n",
       "      <td>0</td>\n",
       "      <td>1</td>\n",
       "    </tr>\n",
       "    <tr>\n",
       "      <th>3</th>\n",
       "      <td>2d681dd8</td>\n",
       "      <td>Sao Paulo</td>\n",
       "      <td>Brazil</td>\n",
       "      <td>Fourth</td>\n",
       "      <td>Computer</td>\n",
       "      <td>Organic</td>\n",
       "      <td>iPhone</td>\n",
       "      <td>0</td>\n",
       "      <td>0</td>\n",
       "      <td>0</td>\n",
       "      <td>...</td>\n",
       "      <td>1</td>\n",
       "      <td>0</td>\n",
       "      <td>0</td>\n",
       "      <td>0</td>\n",
       "      <td>0</td>\n",
       "      <td>0</td>\n",
       "      <td>0</td>\n",
       "      <td>0</td>\n",
       "      <td>0</td>\n",
       "      <td>1</td>\n",
       "    </tr>\n",
       "    <tr>\n",
       "      <th>4</th>\n",
       "      <td>cccea85e</td>\n",
       "      <td>Sao Paulo</td>\n",
       "      <td>Brazil</td>\n",
       "      <td>Third</td>\n",
       "      <td>Computer</td>\n",
       "      <td>Organic</td>\n",
       "      <td>Motorola</td>\n",
       "      <td>0</td>\n",
       "      <td>0</td>\n",
       "      <td>0</td>\n",
       "      <td>...</td>\n",
       "      <td>1</td>\n",
       "      <td>0</td>\n",
       "      <td>0</td>\n",
       "      <td>0</td>\n",
       "      <td>0</td>\n",
       "      <td>0</td>\n",
       "      <td>1</td>\n",
       "      <td>0</td>\n",
       "      <td>0</td>\n",
       "      <td>0</td>\n",
       "    </tr>\n",
       "  </tbody>\n",
       "</table>\n",
       "<p>5 rows × 133 columns</p>\n",
       "</div>"
      ],
      "text/plain": [
       "     person  region_persona    pais semana_mas_interactuante device_type  \\\n",
       "0  4886f805  Rio de Janeiro  Brazil                    Third  Smartphone   \n",
       "1  ad93850f       Sao Paulo  Brazil                    Third  Smartphone   \n",
       "2  0297fc1e  Rio de Janeiro  Brazil                   Fourth  Smartphone   \n",
       "3  2d681dd8       Sao Paulo  Brazil                   Fourth    Computer   \n",
       "4  cccea85e       Sao Paulo  Brazil                    Third    Computer   \n",
       "\n",
       "  channel_frecuente marca_mas_buscada  region_persona_0  region_persona_Acre  \\\n",
       "0           Organic           Samsung                 0                    0   \n",
       "1              Paid            iPhone                 0                    0   \n",
       "2            Direct            iPhone                 0                    0   \n",
       "3           Organic            iPhone                 0                    0   \n",
       "4           Organic          Motorola                 0                    0   \n",
       "\n",
       "   region_persona_Alagoas            ...             \\\n",
       "0                       0            ...              \n",
       "1                       0            ...              \n",
       "2                       0            ...              \n",
       "3                       0            ...              \n",
       "4                       0            ...              \n",
       "\n",
       "   channel_frecuente_Organic  channel_frecuente_Paid  \\\n",
       "0                          1                       0   \n",
       "1                          0                       1   \n",
       "2                          0                       0   \n",
       "3                          1                       0   \n",
       "4                          1                       0   \n",
       "\n",
       "   channel_frecuente_Referral  channel_frecuente_Social  \\\n",
       "0                           0                         0   \n",
       "1                           0                         0   \n",
       "2                           0                         0   \n",
       "3                           0                         0   \n",
       "4                           0                         0   \n",
       "\n",
       "   channel_frecuente_Unknown  marca_mas_buscada_LG  \\\n",
       "0                          0                     0   \n",
       "1                          0                     0   \n",
       "2                          0                     0   \n",
       "3                          0                     0   \n",
       "4                          0                     0   \n",
       "\n",
       "   marca_mas_buscada_Motorola  marca_mas_buscada_Other  \\\n",
       "0                           0                        0   \n",
       "1                           0                        0   \n",
       "2                           0                        0   \n",
       "3                           0                        0   \n",
       "4                           1                        0   \n",
       "\n",
       "   marca_mas_buscada_Samsung  marca_mas_buscada_iPhone  \n",
       "0                          1                         0  \n",
       "1                          0                         1  \n",
       "2                          0                         1  \n",
       "3                          0                         1  \n",
       "4                          0                         0  \n",
       "\n",
       "[5 rows x 133 columns]"
      ]
     },
     "execution_count": 21,
     "metadata": {},
     "output_type": "execute_result"
    }
   ],
   "source": [
    "df_features_categoricos.head()"
   ]
  },
  {
   "cell_type": "code",
   "execution_count": 22,
   "metadata": {},
   "outputs": [],
   "source": [
    "df_features_categoricos = df_features_categoricos.drop(columns=['region_persona','pais','semana_mas_interactuante','device_type','channel_frecuente','marca_mas_buscada'])"
   ]
  },
  {
   "cell_type": "code",
   "execution_count": 23,
   "metadata": {},
   "outputs": [
    {
     "data": {
      "text/html": [
       "<div>\n",
       "<style scoped>\n",
       "    .dataframe tbody tr th:only-of-type {\n",
       "        vertical-align: middle;\n",
       "    }\n",
       "\n",
       "    .dataframe tbody tr th {\n",
       "        vertical-align: top;\n",
       "    }\n",
       "\n",
       "    .dataframe thead th {\n",
       "        text-align: right;\n",
       "    }\n",
       "</style>\n",
       "<table border=\"1\" class=\"dataframe\">\n",
       "  <thead>\n",
       "    <tr style=\"text-align: right;\">\n",
       "      <th></th>\n",
       "      <th>person</th>\n",
       "      <th>region_persona_0</th>\n",
       "      <th>region_persona_Acre</th>\n",
       "      <th>region_persona_Alagoas</th>\n",
       "      <th>region_persona_Amapa</th>\n",
       "      <th>region_persona_Amazonas</th>\n",
       "      <th>region_persona_Arkansas</th>\n",
       "      <th>region_persona_Asuncion</th>\n",
       "      <th>region_persona_Aveiro</th>\n",
       "      <th>region_persona_Bahia</th>\n",
       "      <th>...</th>\n",
       "      <th>channel_frecuente_Organic</th>\n",
       "      <th>channel_frecuente_Paid</th>\n",
       "      <th>channel_frecuente_Referral</th>\n",
       "      <th>channel_frecuente_Social</th>\n",
       "      <th>channel_frecuente_Unknown</th>\n",
       "      <th>marca_mas_buscada_LG</th>\n",
       "      <th>marca_mas_buscada_Motorola</th>\n",
       "      <th>marca_mas_buscada_Other</th>\n",
       "      <th>marca_mas_buscada_Samsung</th>\n",
       "      <th>marca_mas_buscada_iPhone</th>\n",
       "    </tr>\n",
       "  </thead>\n",
       "  <tbody>\n",
       "    <tr>\n",
       "      <th>0</th>\n",
       "      <td>4886f805</td>\n",
       "      <td>0</td>\n",
       "      <td>0</td>\n",
       "      <td>0</td>\n",
       "      <td>0</td>\n",
       "      <td>0</td>\n",
       "      <td>0</td>\n",
       "      <td>0</td>\n",
       "      <td>0</td>\n",
       "      <td>0</td>\n",
       "      <td>...</td>\n",
       "      <td>1</td>\n",
       "      <td>0</td>\n",
       "      <td>0</td>\n",
       "      <td>0</td>\n",
       "      <td>0</td>\n",
       "      <td>0</td>\n",
       "      <td>0</td>\n",
       "      <td>0</td>\n",
       "      <td>1</td>\n",
       "      <td>0</td>\n",
       "    </tr>\n",
       "    <tr>\n",
       "      <th>1</th>\n",
       "      <td>ad93850f</td>\n",
       "      <td>0</td>\n",
       "      <td>0</td>\n",
       "      <td>0</td>\n",
       "      <td>0</td>\n",
       "      <td>0</td>\n",
       "      <td>0</td>\n",
       "      <td>0</td>\n",
       "      <td>0</td>\n",
       "      <td>0</td>\n",
       "      <td>...</td>\n",
       "      <td>0</td>\n",
       "      <td>1</td>\n",
       "      <td>0</td>\n",
       "      <td>0</td>\n",
       "      <td>0</td>\n",
       "      <td>0</td>\n",
       "      <td>0</td>\n",
       "      <td>0</td>\n",
       "      <td>0</td>\n",
       "      <td>1</td>\n",
       "    </tr>\n",
       "    <tr>\n",
       "      <th>2</th>\n",
       "      <td>0297fc1e</td>\n",
       "      <td>0</td>\n",
       "      <td>0</td>\n",
       "      <td>0</td>\n",
       "      <td>0</td>\n",
       "      <td>0</td>\n",
       "      <td>0</td>\n",
       "      <td>0</td>\n",
       "      <td>0</td>\n",
       "      <td>0</td>\n",
       "      <td>...</td>\n",
       "      <td>0</td>\n",
       "      <td>0</td>\n",
       "      <td>0</td>\n",
       "      <td>0</td>\n",
       "      <td>0</td>\n",
       "      <td>0</td>\n",
       "      <td>0</td>\n",
       "      <td>0</td>\n",
       "      <td>0</td>\n",
       "      <td>1</td>\n",
       "    </tr>\n",
       "    <tr>\n",
       "      <th>3</th>\n",
       "      <td>2d681dd8</td>\n",
       "      <td>0</td>\n",
       "      <td>0</td>\n",
       "      <td>0</td>\n",
       "      <td>0</td>\n",
       "      <td>0</td>\n",
       "      <td>0</td>\n",
       "      <td>0</td>\n",
       "      <td>0</td>\n",
       "      <td>0</td>\n",
       "      <td>...</td>\n",
       "      <td>1</td>\n",
       "      <td>0</td>\n",
       "      <td>0</td>\n",
       "      <td>0</td>\n",
       "      <td>0</td>\n",
       "      <td>0</td>\n",
       "      <td>0</td>\n",
       "      <td>0</td>\n",
       "      <td>0</td>\n",
       "      <td>1</td>\n",
       "    </tr>\n",
       "    <tr>\n",
       "      <th>4</th>\n",
       "      <td>cccea85e</td>\n",
       "      <td>0</td>\n",
       "      <td>0</td>\n",
       "      <td>0</td>\n",
       "      <td>0</td>\n",
       "      <td>0</td>\n",
       "      <td>0</td>\n",
       "      <td>0</td>\n",
       "      <td>0</td>\n",
       "      <td>0</td>\n",
       "      <td>...</td>\n",
       "      <td>1</td>\n",
       "      <td>0</td>\n",
       "      <td>0</td>\n",
       "      <td>0</td>\n",
       "      <td>0</td>\n",
       "      <td>0</td>\n",
       "      <td>1</td>\n",
       "      <td>0</td>\n",
       "      <td>0</td>\n",
       "      <td>0</td>\n",
       "    </tr>\n",
       "  </tbody>\n",
       "</table>\n",
       "<p>5 rows × 127 columns</p>\n",
       "</div>"
      ],
      "text/plain": [
       "     person  region_persona_0  region_persona_Acre  region_persona_Alagoas  \\\n",
       "0  4886f805                 0                    0                       0   \n",
       "1  ad93850f                 0                    0                       0   \n",
       "2  0297fc1e                 0                    0                       0   \n",
       "3  2d681dd8                 0                    0                       0   \n",
       "4  cccea85e                 0                    0                       0   \n",
       "\n",
       "   region_persona_Amapa  region_persona_Amazonas  region_persona_Arkansas  \\\n",
       "0                     0                        0                        0   \n",
       "1                     0                        0                        0   \n",
       "2                     0                        0                        0   \n",
       "3                     0                        0                        0   \n",
       "4                     0                        0                        0   \n",
       "\n",
       "   region_persona_Asuncion  region_persona_Aveiro  region_persona_Bahia  \\\n",
       "0                        0                      0                     0   \n",
       "1                        0                      0                     0   \n",
       "2                        0                      0                     0   \n",
       "3                        0                      0                     0   \n",
       "4                        0                      0                     0   \n",
       "\n",
       "             ...             channel_frecuente_Organic  \\\n",
       "0            ...                                     1   \n",
       "1            ...                                     0   \n",
       "2            ...                                     0   \n",
       "3            ...                                     1   \n",
       "4            ...                                     1   \n",
       "\n",
       "   channel_frecuente_Paid  channel_frecuente_Referral  \\\n",
       "0                       0                           0   \n",
       "1                       1                           0   \n",
       "2                       0                           0   \n",
       "3                       0                           0   \n",
       "4                       0                           0   \n",
       "\n",
       "   channel_frecuente_Social  channel_frecuente_Unknown  marca_mas_buscada_LG  \\\n",
       "0                         0                          0                     0   \n",
       "1                         0                          0                     0   \n",
       "2                         0                          0                     0   \n",
       "3                         0                          0                     0   \n",
       "4                         0                          0                     0   \n",
       "\n",
       "   marca_mas_buscada_Motorola  marca_mas_buscada_Other  \\\n",
       "0                           0                        0   \n",
       "1                           0                        0   \n",
       "2                           0                        0   \n",
       "3                           0                        0   \n",
       "4                           1                        0   \n",
       "\n",
       "   marca_mas_buscada_Samsung  marca_mas_buscada_iPhone  \n",
       "0                          1                         0  \n",
       "1                          0                         1  \n",
       "2                          0                         1  \n",
       "3                          0                         1  \n",
       "4                          0                         0  \n",
       "\n",
       "[5 rows x 127 columns]"
      ]
     },
     "execution_count": 23,
     "metadata": {},
     "output_type": "execute_result"
    }
   ],
   "source": [
    "df_features_categoricos.head()"
   ]
  },
  {
   "cell_type": "markdown",
   "metadata": {},
   "source": [
    "## Booleano"
   ]
  },
  {
   "cell_type": "markdown",
   "metadata": {},
   "source": [
    "Los transformo a numericos (1 o 0)"
   ]
  },
  {
   "cell_type": "code",
   "execution_count": 24,
   "metadata": {},
   "outputs": [
    {
     "data": {
      "text/html": [
       "<div>\n",
       "<style scoped>\n",
       "    .dataframe tbody tr th:only-of-type {\n",
       "        vertical-align: middle;\n",
       "    }\n",
       "\n",
       "    .dataframe tbody tr th {\n",
       "        vertical-align: top;\n",
       "    }\n",
       "\n",
       "    .dataframe thead th {\n",
       "        text-align: right;\n",
       "    }\n",
       "</style>\n",
       "<table border=\"1\" class=\"dataframe\">\n",
       "  <thead>\n",
       "    <tr style=\"text-align: right;\">\n",
       "      <th></th>\n",
       "      <th>person</th>\n",
       "      <th>busco_top_5_visitas</th>\n",
       "      <th>visito_mas_que_el_promedio</th>\n",
       "      <th>siempre_incrementando</th>\n",
       "      <th>inc_ultimo_mes</th>\n",
       "      <th>mismo_interes_ultimos_dos_meses</th>\n",
       "      <th>ingreso_el_ultimo_mes</th>\n",
       "      <th>ingreso_ultima_quincena</th>\n",
       "    </tr>\n",
       "  </thead>\n",
       "  <tbody>\n",
       "    <tr>\n",
       "      <th>0</th>\n",
       "      <td>4886f805</td>\n",
       "      <td>0.0</td>\n",
       "      <td>False</td>\n",
       "      <td>0</td>\n",
       "      <td>1</td>\n",
       "      <td>0</td>\n",
       "      <td>True</td>\n",
       "      <td>False</td>\n",
       "    </tr>\n",
       "    <tr>\n",
       "      <th>1</th>\n",
       "      <td>ad93850f</td>\n",
       "      <td>1.0</td>\n",
       "      <td>True</td>\n",
       "      <td>0</td>\n",
       "      <td>1</td>\n",
       "      <td>0</td>\n",
       "      <td>True</td>\n",
       "      <td>True</td>\n",
       "    </tr>\n",
       "    <tr>\n",
       "      <th>2</th>\n",
       "      <td>0297fc1e</td>\n",
       "      <td>1.0</td>\n",
       "      <td>True</td>\n",
       "      <td>0</td>\n",
       "      <td>1</td>\n",
       "      <td>1</td>\n",
       "      <td>True</td>\n",
       "      <td>True</td>\n",
       "    </tr>\n",
       "    <tr>\n",
       "      <th>3</th>\n",
       "      <td>2d681dd8</td>\n",
       "      <td>1.0</td>\n",
       "      <td>False</td>\n",
       "      <td>0</td>\n",
       "      <td>1</td>\n",
       "      <td>0</td>\n",
       "      <td>True</td>\n",
       "      <td>True</td>\n",
       "    </tr>\n",
       "    <tr>\n",
       "      <th>4</th>\n",
       "      <td>cccea85e</td>\n",
       "      <td>0.0</td>\n",
       "      <td>True</td>\n",
       "      <td>0</td>\n",
       "      <td>1</td>\n",
       "      <td>0</td>\n",
       "      <td>True</td>\n",
       "      <td>True</td>\n",
       "    </tr>\n",
       "  </tbody>\n",
       "</table>\n",
       "</div>"
      ],
      "text/plain": [
       "     person  busco_top_5_visitas  visito_mas_que_el_promedio  \\\n",
       "0  4886f805                  0.0                       False   \n",
       "1  ad93850f                  1.0                        True   \n",
       "2  0297fc1e                  1.0                        True   \n",
       "3  2d681dd8                  1.0                       False   \n",
       "4  cccea85e                  0.0                        True   \n",
       "\n",
       "   siempre_incrementando  inc_ultimo_mes  mismo_interes_ultimos_dos_meses  \\\n",
       "0                      0               1                                0   \n",
       "1                      0               1                                0   \n",
       "2                      0               1                                1   \n",
       "3                      0               1                                0   \n",
       "4                      0               1                                0   \n",
       "\n",
       "   ingreso_el_ultimo_mes  ingreso_ultima_quincena  \n",
       "0                   True                    False  \n",
       "1                   True                     True  \n",
       "2                   True                     True  \n",
       "3                   True                     True  \n",
       "4                   True                     True  "
      ]
     },
     "execution_count": 24,
     "metadata": {},
     "output_type": "execute_result"
    }
   ],
   "source": [
    "df_features_bool.head()"
   ]
  },
  {
   "cell_type": "code",
   "execution_count": 25,
   "metadata": {},
   "outputs": [],
   "source": [
    "df_features_bool.iloc[:,1:] = df_features_bool.iloc[:,1:].astype(int)"
   ]
  },
  {
   "cell_type": "code",
   "execution_count": 26,
   "metadata": {},
   "outputs": [
    {
     "data": {
      "text/plain": [
       "(38829, 8)"
      ]
     },
     "execution_count": 26,
     "metadata": {},
     "output_type": "execute_result"
    }
   ],
   "source": [
    "df_features_bool.shape"
   ]
  },
  {
   "cell_type": "markdown",
   "metadata": {},
   "source": [
    "# Mergeo los features "
   ]
  },
  {
   "cell_type": "code",
   "execution_count": 27,
   "metadata": {},
   "outputs": [],
   "source": [
    "df_features_totales = df_features_bool.merge(df_features_numericos, on='person', how='left')"
   ]
  },
  {
   "cell_type": "code",
   "execution_count": 28,
   "metadata": {},
   "outputs": [],
   "source": [
    "df_features_totales = df_features_totales.merge(df_features_categoricos, on='person', how='left')"
   ]
  },
  {
   "cell_type": "code",
   "execution_count": 29,
   "metadata": {},
   "outputs": [],
   "source": [
    "df_features_totales = df_features_totales.merge(pd.read_csv('neww_features.csv'), on='person', how='left')"
   ]
  },
  {
   "cell_type": "code",
   "execution_count": 30,
   "metadata": {},
   "outputs": [
    {
     "data": {
      "text/plain": [
       "(38829, 325)"
      ]
     },
     "execution_count": 30,
     "metadata": {},
     "output_type": "execute_result"
    }
   ],
   "source": [
    "df_features_totales.shape"
   ]
  },
  {
   "cell_type": "code",
   "execution_count": 31,
   "metadata": {},
   "outputs": [
    {
     "data": {
      "text/plain": [
       "(38829,)"
      ]
     },
     "execution_count": 31,
     "metadata": {},
     "output_type": "execute_result"
    }
   ],
   "source": [
    "df_original['person'].drop_duplicates().shape"
   ]
  },
  {
   "cell_type": "markdown",
   "metadata": {},
   "source": [
    "Aparentemente tengo datos de todos los usuarios"
   ]
  },
  {
   "cell_type": "code",
   "execution_count": 133,
   "metadata": {},
   "outputs": [],
   "source": [
    "df_features_totales = df_features_totales.T.drop_duplicates().T"
   ]
  },
  {
   "cell_type": "code",
   "execution_count": 134,
   "metadata": {
    "scrolled": true
   },
   "outputs": [
    {
     "data": {
      "text/plain": [
       "(38829, 307)"
      ]
     },
     "execution_count": 134,
     "metadata": {},
     "output_type": "execute_result"
    }
   ],
   "source": [
    "df_features_totales.shape"
   ]
  },
  {
   "cell_type": "code",
   "execution_count": null,
   "metadata": {},
   "outputs": [],
   "source": []
  },
  {
   "cell_type": "markdown",
   "metadata": {},
   "source": [
    "# Data preprocessing"
   ]
  },
  {
   "cell_type": "code",
   "execution_count": 224,
   "metadata": {},
   "outputs": [],
   "source": [
    "df_train = df_labels.merge(df_features_totales[f_m_i], on='person', how='left')"
   ]
  },
  {
   "cell_type": "code",
   "execution_count": 225,
   "metadata": {},
   "outputs": [
    {
     "data": {
      "text/plain": [
       "(19414, 32)"
      ]
     },
     "execution_count": 225,
     "metadata": {},
     "output_type": "execute_result"
    }
   ],
   "source": [
    "df_train.shape"
   ]
  },
  {
   "cell_type": "code",
   "execution_count": 226,
   "metadata": {},
   "outputs": [],
   "source": [
    "df_train = df_train.fillna(0)"
   ]
  },
  {
   "cell_type": "code",
   "execution_count": 227,
   "metadata": {},
   "outputs": [],
   "source": [
    "df_train_0 = df_train.loc[df_train['label'] == 0, :]\n",
    "df_train_1 = df_train.loc[df_train['label'] == 1, :]\n",
    "df_train_equal = pd.concat([df_train_1, shuffle(df_train_0).iloc[:980,:] ],axis=0)"
   ]
  },
  {
   "cell_type": "code",
   "execution_count": 228,
   "metadata": {},
   "outputs": [],
   "source": [
    "X,y = df_train.iloc[:,2:], df_train.iloc[:,1]"
   ]
  },
  {
   "cell_type": "code",
   "execution_count": 229,
   "metadata": {},
   "outputs": [],
   "source": [
    "X_train, X_test, y_train, y_test = \\\n",
    "    train_test_split(X, y, test_size=0.2, random_state=123)"
   ]
  },
  {
   "cell_type": "markdown",
   "metadata": {},
   "source": [
    "# Modelaje y entrenamiento!"
   ]
  },
  {
   "cell_type": "code",
   "execution_count": 230,
   "metadata": {},
   "outputs": [
    {
     "name": "stdout",
     "output_type": "stream",
     "text": [
      "\n",
      "XGBoost Classifier\n",
      "El puntaje auc es: 0.8630348340546704\n",
      "Fitting 2 folds for each of 81 candidates, totalling 162 fits\n"
     ]
    },
    {
     "name": "stderr",
     "output_type": "stream",
     "text": [
      "[Parallel(n_jobs=4)]: Using backend LokyBackend with 4 concurrent workers.\n",
      "[Parallel(n_jobs=4)]: Done  42 tasks      | elapsed:    9.2s\n",
      "[Parallel(n_jobs=4)]: Done 162 out of 162 | elapsed:  1.4min finished\n"
     ]
    },
    {
     "name": "stdout",
     "output_type": "stream",
     "text": [
      "Random classifier\n",
      "0.8512362360589241\n"
     ]
    }
   ],
   "source": [
    "xgb_model = xgb_classifier(X_train, X_test, y_train, y_test,useTrainCV=True)\n",
    "rf_model = rf_classifier(X, y)\n",
    "#ext_model = ext_classifier(X, y)\n",
    "#lgb_model = lgb_classifier(X_train, X_test, y_train, y_test)\n",
    "#mlp_model = mlp_classifier(X,y)\n",
    "#gb_model = gb_classifier(X, y,)\n",
    "#knn_model = knn_classifier(X_train,X_test, y_train, y_test)"
   ]
  },
  {
   "cell_type": "code",
   "execution_count": null,
   "metadata": {},
   "outputs": [],
   "source": [
    "ensamble = ensamblador([xgb_model,lgb_model,mlp_model,gb_model],X_train, X_test, y_train, y_test)"
   ]
  },
  {
   "cell_type": "code",
   "execution_count": 178,
   "metadata": {},
   "outputs": [],
   "source": [
    "#xgb_predict = xgb_model.predict_proba(X_test)[:,1]\n",
    "#rf_predict = rf_model.predict_proba(X_test)[:,1]\n",
    "#dt_predict = dt_model.predict_proba(X_test)[:,1]\n",
    "#knn_predict = knn_model.predict_proba(X_test)[:,1]"
   ]
  },
  {
   "cell_type": "markdown",
   "metadata": {},
   "source": [
    "# Xgboost \n",
    " |Features      |      XGBoost             | RandomForest           |\n",
    " |--------------|--------------------------|------------------------|\n",
    " | 308  |  0.8770058935975904 |   0.8485298904198764|\n",
    " | 250  |  0.8801512255166115 |   0.8493670192390724|\n",
    " | 200  |  0.8755161861219674 |   0.8492912386827358|\n",
    " | 150  |   0.8785806866977134 |   0.8480886029143131|\n",
    " | 100  |   0.8755814184340842 |   0.8496581294989517|\n",
    " | 50   |   0.8751496088897461 |   0.8513477757382655| \n",
    " | 40   |   0.8662921953792833 |   0.845880394036751 |\n",
    " | 30   |   0.8630348340546704 |   0.8512362360589241|"
   ]
  },
  {
   "cell_type": "code",
   "execution_count": null,
   "metadata": {},
   "outputs": [],
   "source": []
  },
  {
   "cell_type": "code",
   "execution_count": 128,
   "metadata": {},
   "outputs": [],
   "source": [
    "#final_prediction_test = ensamble.predict"
   ]
  },
  {
   "cell_type": "code",
   "execution_count": 129,
   "metadata": {},
   "outputs": [],
   "source": [
    "#roc_auc_score(y_test, final_prediction_test)"
   ]
  },
  {
   "cell_type": "code",
   "execution_count": 200,
   "metadata": {},
   "outputs": [],
   "source": [
    "zipped = zip(map(lambda x: round(x, 4), rf_model.feature_importances_), X_test.columns)\n",
    "feature = sorted(zipped, key=lambda x: x[1])"
   ]
  },
  {
   "cell_type": "code",
   "execution_count": 221,
   "metadata": {},
   "outputs": [],
   "source": [
    "feat_importance = pd.DataFrame(feature, columns=['importance', 'feature'])\n",
    "f_m_i = list(feat_importance.sort_values('importance', ascending=False).head(30)['feature'].values)"
   ]
  },
  {
   "cell_type": "code",
   "execution_count": 222,
   "metadata": {
    "scrolled": false
   },
   "outputs": [
    {
     "data": {
      "text/plain": [
       "['first_day_check',\n",
       " 'last_day_check',\n",
       " 'Checkout mean',\n",
       " 'Promedio_visitas_producto',\n",
       " 'Checkout max',\n",
       " 'horas_mirando_productos',\n",
       " 'cant_checkouts_dif_modelos',\n",
       " '%checkouts',\n",
       " 'promedio_ingreso_mensual',\n",
       " 'visitas_mes5',\n",
       " 'PERCENTILE(checkout - visited site)',\n",
       " 'act_ultima_semana',\n",
       " 'cant_checkouts_5',\n",
       " 'MEAN(cant_interacciones_por_modelo)',\n",
       " 'viewed_std',\n",
       " 'checkout',\n",
       " 'viewed product + viewed product - visited site',\n",
       " 'MAX(cant_interacciones_por_modelo)',\n",
       " 'viewed_mean',\n",
       " 'viewed product + visited site',\n",
       " 'device_type_Computer',\n",
       " 'PERCENTILE(viewed product + visited site)',\n",
       " 'Cantidad_visitas',\n",
       " 'visited site + visited site - viewed product',\n",
       " 'viewed product',\n",
       " 'cant_modelos_distintos',\n",
       " 'PERCENTILE(viewed product)',\n",
       " 'PERCENTILE(visited site - checkout)',\n",
       " 'viewed product - visited site + visited site',\n",
       " 'viewed_sum']"
      ]
     },
     "execution_count": 222,
     "metadata": {},
     "output_type": "execute_result"
    }
   ],
   "source": [
    "f_m_i"
   ]
  },
  {
   "cell_type": "code",
   "execution_count": 223,
   "metadata": {},
   "outputs": [
    {
     "data": {
      "text/plain": [
       "31"
      ]
     },
     "execution_count": 223,
     "metadata": {},
     "output_type": "execute_result"
    }
   ],
   "source": [
    "f_m_i.append('person')\n",
    "len(f_m_i)"
   ]
  },
  {
   "cell_type": "markdown",
   "metadata": {},
   "source": [
    "# Prediccion para el tp"
   ]
  },
  {
   "cell_type": "code",
   "execution_count": 57,
   "metadata": {},
   "outputs": [],
   "source": [
    "personas_a_predecir = pd.read_csv('trocafone_kaggle_test.csv', low_memory=False)"
   ]
  },
  {
   "cell_type": "code",
   "execution_count": 58,
   "metadata": {},
   "outputs": [],
   "source": [
    "personas_a_predecir_con_features = personas_a_predecir.merge(df_features_totales, on='person', how='left')"
   ]
  },
  {
   "cell_type": "code",
   "execution_count": 59,
   "metadata": {},
   "outputs": [],
   "source": [
    "personas_a_predecir_con_features = personas_a_predecir_con_features.fillna(0)"
   ]
  },
  {
   "cell_type": "code",
   "execution_count": 60,
   "metadata": {},
   "outputs": [],
   "source": [
    "personas_a_predecir_con_features = personas_a_predecir_con_features.drop(columns = ['person'])"
   ]
  },
  {
   "cell_type": "code",
   "execution_count": 61,
   "metadata": {},
   "outputs": [],
   "source": [
    "final_prediction = ensamble.predict_proba(personas_a_predecir_con_features)[:,1]"
   ]
  },
  {
   "cell_type": "code",
   "execution_count": 62,
   "metadata": {},
   "outputs": [],
   "source": [
    "final_prediction_tp = pd.Series(final_prediction)"
   ]
  },
  {
   "cell_type": "code",
   "execution_count": 63,
   "metadata": {},
   "outputs": [
    {
     "data": {
      "text/plain": [
       "4063     0.005858\n",
       "16182    0.007322\n",
       "6553     0.007848\n",
       "15235    0.007850\n",
       "12108    0.007985\n",
       "7419     0.008405\n",
       "17226    0.008548\n",
       "18281    0.008557\n",
       "6710     0.008557\n",
       "13247    0.008568\n",
       "11868    0.008636\n",
       "18166    0.008666\n",
       "4532     0.008834\n",
       "9824     0.008851\n",
       "7694     0.008918\n",
       "14928    0.009022\n",
       "16691    0.009055\n",
       "2009     0.009102\n",
       "11909    0.009160\n",
       "6632     0.009171\n",
       "4853     0.009177\n",
       "13868    0.009191\n",
       "18315    0.009194\n",
       "13945    0.009221\n",
       "7364     0.009231\n",
       "17994    0.009237\n",
       "17726    0.009243\n",
       "7777     0.009243\n",
       "14536    0.009246\n",
       "5472     0.009258\n",
       "           ...   \n",
       "12849    0.431580\n",
       "16103    0.432986\n",
       "16191    0.433673\n",
       "4861     0.435511\n",
       "5122     0.435653\n",
       "4163     0.437733\n",
       "9107     0.438005\n",
       "3147     0.441370\n",
       "4502     0.448425\n",
       "11555    0.462041\n",
       "4523     0.465245\n",
       "1935     0.468180\n",
       "4309     0.472175\n",
       "9722     0.475489\n",
       "4821     0.480180\n",
       "9063     0.480449\n",
       "9012     0.481349\n",
       "16111    0.483368\n",
       "9128     0.486773\n",
       "4813     0.487310\n",
       "8662     0.489026\n",
       "4789     0.489217\n",
       "12704    0.490580\n",
       "4793     0.493527\n",
       "12687    0.499371\n",
       "4869     0.500079\n",
       "4816     0.502416\n",
       "8902     0.516851\n",
       "8981     0.531993\n",
       "4517     0.539453\n",
       "Length: 19415, dtype: float64"
      ]
     },
     "execution_count": 63,
     "metadata": {},
     "output_type": "execute_result"
    }
   ],
   "source": [
    "final_prediction_tp.sort_values()"
   ]
  },
  {
   "cell_type": "code",
   "execution_count": 64,
   "metadata": {},
   "outputs": [],
   "source": [
    "personas_a_predecir['label'] = final_prediction_tp"
   ]
  },
  {
   "cell_type": "code",
   "execution_count": 65,
   "metadata": {},
   "outputs": [],
   "source": [
    "num = personas_a_predecir._get_numeric_data()\n",
    "num[num < 0] = 0"
   ]
  },
  {
   "cell_type": "code",
   "execution_count": 66,
   "metadata": {},
   "outputs": [],
   "source": [
    "personas_a_predecir.to_csv(path_or_buf = 'submit_kaggle.csv', index = False)"
   ]
  },
  {
   "cell_type": "code",
   "execution_count": null,
   "metadata": {},
   "outputs": [],
   "source": []
  }
 ],
 "metadata": {
  "kernelspec": {
   "display_name": "Python 3",
   "language": "python",
   "name": "python3"
  },
  "language_info": {
   "codemirror_mode": {
    "name": "ipython",
    "version": 3
   },
   "file_extension": ".py",
   "mimetype": "text/x-python",
   "name": "python",
   "nbconvert_exporter": "python",
   "pygments_lexer": "ipython3",
   "version": "3.6.6"
  }
 },
 "nbformat": 4,
 "nbformat_minor": 2
}
